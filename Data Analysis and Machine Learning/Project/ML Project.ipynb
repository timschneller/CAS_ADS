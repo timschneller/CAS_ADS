{
 "cells": [
  {
   "cell_type": "code",
   "execution_count": 222,
   "id": "befe0d49",
   "metadata": {},
   "outputs": [
    {
     "name": "stdout",
     "output_type": "stream",
     "text": [
      "C:\\Users\\tim94\\OneDrive\\Dokumente\\Universität Bern\\Data Analysis and Machine Learning\\Project\n",
      "Path to File: C:\\Users\\tim94\\OneDrive\\Dokumente\\Universität Bern\\Data Analysis and Machine Learning\\Project\\SAR-221023.csv\n"
     ]
    }
   ],
   "source": [
    "# first model Logistic regression\n",
    "# try random forest as well.. --> adjust weights of classes to reflect an equal distribution\n",
    "# try xgboost"
   ]
  },
  {
   "cell_type": "code",
   "execution_count": 277,
   "id": "34f24d12",
   "metadata": {},
   "outputs": [
    {
     "name": "stdout",
     "output_type": "stream",
     "text": [
      "C:\\Users\\tim94\\OneDrive\\Dokumente\\Universität Bern\\Data Analysis and Machine Learning\\Project\n",
      "Path to File: C:\\Users\\tim94\\OneDrive\\Dokumente\\Universität Bern\\Data Analysis and Machine Learning\\Project\\SAR-221023.csv\n"
     ]
    }
   ],
   "source": [
    "import pandas as pd\n",
    "import matplotlib.pyplot as plt\n",
    "import numpy as np\n",
    "from sklearn.model_selection import train_test_split\n",
    "from sklearn import linear_model\n",
    "from sklearn import tree\n",
    "from sklearn import ensemble\n",
    "from sklearn import metrics\n",
    "from sklearn.utils import column_or_1d\n",
    "from sklearn.metrics import classification_report\n",
    "from sklearn.preprocessing import StandardScaler\n",
    "from sklearn.ensemble import RandomForestClassifier\n",
    "import seaborn as sns\n",
    "import os\n",
    "\n",
    "path=os.getcwd()\n",
    "print(path)\n",
    "\n",
    "path_to_file = os.path.join(path, \"SAR-221023.csv\")\n",
    "print(\"Path to File:\", path_to_file)"
   ]
  },
  {
   "cell_type": "code",
   "execution_count": 2,
   "id": "a2397942",
   "metadata": {
    "scrolled": true
   },
   "outputs": [
    {
     "data": {
      "text/html": [
       "<div>\n",
       "<style scoped>\n",
       "    .dataframe tbody tr th:only-of-type {\n",
       "        vertical-align: middle;\n",
       "    }\n",
       "\n",
       "    .dataframe tbody tr th {\n",
       "        vertical-align: top;\n",
       "    }\n",
       "\n",
       "    .dataframe thead th {\n",
       "        text-align: right;\n",
       "    }\n",
       "</style>\n",
       "<table border=\"1\" class=\"dataframe\">\n",
       "  <thead>\n",
       "    <tr style=\"text-align: right;\">\n",
       "      <th></th>\n",
       "      <th>gender</th>\n",
       "      <th>anshside</th>\n",
       "      <th>language</th>\n",
       "      <th>asa</th>\n",
       "      <th>sgadmsntyp</th>\n",
       "      <th>sginsurance</th>\n",
       "      <th>andiagn_new</th>\n",
       "      <th>anvoropyn</th>\n",
       "      <th>sgaplbrand</th>\n",
       "      <th>dominantside</th>\n",
       "      <th>ansmoking</th>\n",
       "      <th>analcohol</th>\n",
       "      <th>Age</th>\n",
       "      <th>bmi</th>\n",
       "      <th>revisionsurgery</th>\n",
       "      <th>reverse</th>\n",
       "      <th>expectmet24</th>\n",
       "    </tr>\n",
       "  </thead>\n",
       "  <tbody>\n",
       "    <tr>\n",
       "      <th>1073</th>\n",
       "      <td>0.0</td>\n",
       "      <td>1.0</td>\n",
       "      <td>1.0</td>\n",
       "      <td>2.0</td>\n",
       "      <td>1.0</td>\n",
       "      <td>1.0</td>\n",
       "      <td>7.0</td>\n",
       "      <td>0.0</td>\n",
       "      <td>7.0</td>\n",
       "      <td>1.0</td>\n",
       "      <td>0.0</td>\n",
       "      <td>0.0</td>\n",
       "      <td>53.8</td>\n",
       "      <td>35.9</td>\n",
       "      <td>0.0</td>\n",
       "      <td>0.0</td>\n",
       "      <td>5.0</td>\n",
       "    </tr>\n",
       "    <tr>\n",
       "      <th>1093</th>\n",
       "      <td>0.0</td>\n",
       "      <td>1.0</td>\n",
       "      <td>1.0</td>\n",
       "      <td>3.0</td>\n",
       "      <td>1.0</td>\n",
       "      <td>1.0</td>\n",
       "      <td>1.0</td>\n",
       "      <td>0.0</td>\n",
       "      <td>2.0</td>\n",
       "      <td>1.0</td>\n",
       "      <td>0.0</td>\n",
       "      <td>1.0</td>\n",
       "      <td>70.0</td>\n",
       "      <td>40.5</td>\n",
       "      <td>0.0</td>\n",
       "      <td>1.0</td>\n",
       "      <td>10.0</td>\n",
       "    </tr>\n",
       "    <tr>\n",
       "      <th>1098</th>\n",
       "      <td>0.0</td>\n",
       "      <td>2.0</td>\n",
       "      <td>1.0</td>\n",
       "      <td>3.0</td>\n",
       "      <td>1.0</td>\n",
       "      <td>1.0</td>\n",
       "      <td>1.0</td>\n",
       "      <td>0.0</td>\n",
       "      <td>2.0</td>\n",
       "      <td>3.0</td>\n",
       "      <td>0.0</td>\n",
       "      <td>1.0</td>\n",
       "      <td>75.7</td>\n",
       "      <td>30.8</td>\n",
       "      <td>0.0</td>\n",
       "      <td>1.0</td>\n",
       "      <td>10.0</td>\n",
       "    </tr>\n",
       "    <tr>\n",
       "      <th>1099</th>\n",
       "      <td>1.0</td>\n",
       "      <td>2.0</td>\n",
       "      <td>1.0</td>\n",
       "      <td>3.0</td>\n",
       "      <td>1.0</td>\n",
       "      <td>1.0</td>\n",
       "      <td>7.0</td>\n",
       "      <td>1.0</td>\n",
       "      <td>7.0</td>\n",
       "      <td>1.0</td>\n",
       "      <td>0.0</td>\n",
       "      <td>1.0</td>\n",
       "      <td>62.6</td>\n",
       "      <td>39.4</td>\n",
       "      <td>0.0</td>\n",
       "      <td>0.0</td>\n",
       "      <td>10.0</td>\n",
       "    </tr>\n",
       "    <tr>\n",
       "      <th>1102</th>\n",
       "      <td>0.0</td>\n",
       "      <td>1.0</td>\n",
       "      <td>3.0</td>\n",
       "      <td>3.0</td>\n",
       "      <td>1.0</td>\n",
       "      <td>1.0</td>\n",
       "      <td>1.0</td>\n",
       "      <td>0.0</td>\n",
       "      <td>6.0</td>\n",
       "      <td>1.0</td>\n",
       "      <td>0.0</td>\n",
       "      <td>0.0</td>\n",
       "      <td>78.8</td>\n",
       "      <td>42.4</td>\n",
       "      <td>0.0</td>\n",
       "      <td>0.0</td>\n",
       "      <td>8.0</td>\n",
       "    </tr>\n",
       "  </tbody>\n",
       "</table>\n",
       "</div>"
      ],
      "text/plain": [
       "      gender  anshside  language  asa  sgadmsntyp  sginsurance  andiagn_new  \\\n",
       "1073     0.0       1.0       1.0  2.0         1.0          1.0          7.0   \n",
       "1093     0.0       1.0       1.0  3.0         1.0          1.0          1.0   \n",
       "1098     0.0       2.0       1.0  3.0         1.0          1.0          1.0   \n",
       "1099     1.0       2.0       1.0  3.0         1.0          1.0          7.0   \n",
       "1102     0.0       1.0       3.0  3.0         1.0          1.0          1.0   \n",
       "\n",
       "      anvoropyn  sgaplbrand  dominantside  ansmoking  analcohol   Age   bmi  \\\n",
       "1073        0.0         7.0           1.0        0.0        0.0  53.8  35.9   \n",
       "1093        0.0         2.0           1.0        0.0        1.0  70.0  40.5   \n",
       "1098        0.0         2.0           3.0        0.0        1.0  75.7  30.8   \n",
       "1099        1.0         7.0           1.0        0.0        1.0  62.6  39.4   \n",
       "1102        0.0         6.0           1.0        0.0        0.0  78.8  42.4   \n",
       "\n",
       "      revisionsurgery  reverse  expectmet24  \n",
       "1073              0.0      0.0          5.0  \n",
       "1093              0.0      1.0         10.0  \n",
       "1098              0.0      1.0         10.0  \n",
       "1099              0.0      0.0         10.0  \n",
       "1102              0.0      0.0          8.0  "
      ]
     },
     "execution_count": 2,
     "metadata": {},
     "output_type": "execute_result"
    }
   ],
   "source": [
    "# df = pd.read_csv(\"C:/Users/tim94/OneDrive/Dokumente/Universität Bern/Data Analysis and Machine Learning/Project/SAR-221023.csv\")\n",
    "\n",
    "# df.head()\n",
    "\n",
    "# dfclean = df.dropna()\n",
    "\n",
    "# dfclean.head()\n",
    "\n",
    "# dfclean.shape"
   ]
  },
  {
   "cell_type": "code",
   "execution_count": 316,
   "id": "78483876",
   "metadata": {},
   "outputs": [
    {
     "data": {
      "text/plain": [
       "array([[<Axes: title={'center': 'expectmet24'}>]], dtype=object)"
      ]
     },
     "execution_count": 316,
     "metadata": {},
     "output_type": "execute_result"
    },
    {
     "data": {
      "image/png": "[encoded data removed]",
      "text/plain": [
       "<Figure size 640x480 with 1 Axes>"
      ]
     },
     "metadata": {},
     "output_type": "display_data"
    }
   ],
   "source": [
    "#import and clean dataset\n",
    "df = pd.read_csv(path_to_file, na_values=('NaN', ''), keep_default_na=False)\n",
    "\n",
    "df_sat=df[['expectmet24', 'sginsurance', 'andiagn_new', 'gender', 'asa', 'sgadmsntyp', 'revisionsurgery', 'reverse', 'anvoropyn', 'bmi', 'ansmoking', 'Age', 'sgaplbrand', 'language', 'dominantside']]\n",
    "\n",
    "df_clean=df_sat.drop(df_sat[df_sat['bmi'] > 50].index)\n",
    "\n",
    "df_cleaned=df_clean.dropna()\n",
    "# plt.scatter(df_clean['bmi'],df_clean['expectmet24'])\n",
    "\n",
    "df.hist('expectmet24')"
   ]
  },
  {
   "cell_type": "code",
   "execution_count": 323,
   "id": "025a7eca",
   "metadata": {},
   "outputs": [
    {
     "ename": "ValueError",
     "evalue": "No axis named 10 for object type DataFrame",
     "output_type": "error",
     "traceback": [
      "\u001b[1;31m---------------------------------------------------------------------------\u001b[0m",
      "\u001b[1;31mKeyError\u001b[0m                                  Traceback (most recent call last)",
      "File \u001b[1;32m~\\anaconda3\\Lib\\site-packages\\pandas\\core\\generic.py:554\u001b[0m, in \u001b[0;36mNDFrame._get_axis_number\u001b[1;34m(cls, axis)\u001b[0m\n\u001b[0;32m    553\u001b[0m \u001b[38;5;28;01mtry\u001b[39;00m:\n\u001b[1;32m--> 554\u001b[0m     \u001b[38;5;28;01mreturn\u001b[39;00m \u001b[38;5;28mcls\u001b[39m\u001b[38;5;241m.\u001b[39m_AXIS_TO_AXIS_NUMBER[axis]\n\u001b[0;32m    555\u001b[0m \u001b[38;5;28;01mexcept\u001b[39;00m \u001b[38;5;167;01mKeyError\u001b[39;00m:\n",
      "\u001b[1;31mKeyError\u001b[0m: 10",
      "\nDuring handling of the above exception, another exception occurred:\n",
      "\u001b[1;31mValueError\u001b[0m                                Traceback (most recent call last)",
      "Cell \u001b[1;32mIn[323], line 6\u001b[0m\n\u001b[0;32m      4\u001b[0m x\u001b[38;5;241m.\u001b[39mshape, y\u001b[38;5;241m.\u001b[39mshape\n\u001b[0;32m      5\u001b[0m x_train, x_test, y_train, y_test \u001b[38;5;241m=\u001b[39m train_test_split(x, y, test_size\u001b[38;5;241m=\u001b[39m\u001b[38;5;241m0.2\u001b[39m)\n\u001b[1;32m----> 6\u001b[0m y_test\u001b[38;5;241m.\u001b[39mcount(\u001b[38;5;241m10\u001b[39m)\n",
      "File \u001b[1;32m~\\anaconda3\\Lib\\site-packages\\pandas\\core\\frame.py:10691\u001b[0m, in \u001b[0;36mDataFrame.count\u001b[1;34m(self, axis, level, numeric_only)\u001b[0m\n\u001b[0;32m  10623\u001b[0m \u001b[38;5;28;01mdef\u001b[39;00m \u001b[38;5;21mcount\u001b[39m(\u001b[38;5;28mself\u001b[39m, axis: Axis \u001b[38;5;241m=\u001b[39m \u001b[38;5;241m0\u001b[39m, level: Level \u001b[38;5;241m=\u001b[39m \u001b[38;5;28;01mNone\u001b[39;00m, numeric_only: \u001b[38;5;28mbool\u001b[39m \u001b[38;5;241m=\u001b[39m \u001b[38;5;28;01mFalse\u001b[39;00m):\n\u001b[0;32m  10624\u001b[0m \u001b[38;5;250m    \u001b[39m\u001b[38;5;124;03m\"\"\"\u001b[39;00m\n\u001b[0;32m  10625\u001b[0m \u001b[38;5;124;03m    Count non-NA cells for each column or row.\u001b[39;00m\n\u001b[0;32m  10626\u001b[0m \n\u001b[1;32m   (...)\u001b[0m\n\u001b[0;32m  10689\u001b[0m \u001b[38;5;124;03m    dtype: int64\u001b[39;00m\n\u001b[0;32m  10690\u001b[0m \u001b[38;5;124;03m    \"\"\"\u001b[39;00m\n\u001b[1;32m> 10691\u001b[0m     axis \u001b[38;5;241m=\u001b[39m \u001b[38;5;28mself\u001b[39m\u001b[38;5;241m.\u001b[39m_get_axis_number(axis)\n\u001b[0;32m  10692\u001b[0m     \u001b[38;5;28;01mif\u001b[39;00m level \u001b[38;5;129;01mis\u001b[39;00m \u001b[38;5;129;01mnot\u001b[39;00m \u001b[38;5;28;01mNone\u001b[39;00m:\n\u001b[0;32m  10693\u001b[0m         warnings\u001b[38;5;241m.\u001b[39mwarn(\n\u001b[0;32m  10694\u001b[0m             \u001b[38;5;124m\"\u001b[39m\u001b[38;5;124mUsing the level keyword in DataFrame and Series aggregations is \u001b[39m\u001b[38;5;124m\"\u001b[39m\n\u001b[0;32m  10695\u001b[0m             \u001b[38;5;124m\"\u001b[39m\u001b[38;5;124mdeprecated and will be removed in a future version. Use groupby \u001b[39m\u001b[38;5;124m\"\u001b[39m\n\u001b[1;32m   (...)\u001b[0m\n\u001b[0;32m  10698\u001b[0m             stacklevel\u001b[38;5;241m=\u001b[39mfind_stack_level(),\n\u001b[0;32m  10699\u001b[0m         )\n",
      "File \u001b[1;32m~\\anaconda3\\Lib\\site-packages\\pandas\\core\\generic.py:556\u001b[0m, in \u001b[0;36mNDFrame._get_axis_number\u001b[1;34m(cls, axis)\u001b[0m\n\u001b[0;32m    554\u001b[0m     \u001b[38;5;28;01mreturn\u001b[39;00m \u001b[38;5;28mcls\u001b[39m\u001b[38;5;241m.\u001b[39m_AXIS_TO_AXIS_NUMBER[axis]\n\u001b[0;32m    555\u001b[0m \u001b[38;5;28;01mexcept\u001b[39;00m \u001b[38;5;167;01mKeyError\u001b[39;00m:\n\u001b[1;32m--> 556\u001b[0m     \u001b[38;5;28;01mraise\u001b[39;00m \u001b[38;5;167;01mValueError\u001b[39;00m(\u001b[38;5;124mf\u001b[39m\u001b[38;5;124m\"\u001b[39m\u001b[38;5;124mNo axis named \u001b[39m\u001b[38;5;132;01m{\u001b[39;00maxis\u001b[38;5;132;01m}\u001b[39;00m\u001b[38;5;124m for object type \u001b[39m\u001b[38;5;132;01m{\u001b[39;00m\u001b[38;5;28mcls\u001b[39m\u001b[38;5;241m.\u001b[39m\u001b[38;5;18m__name__\u001b[39m\u001b[38;5;132;01m}\u001b[39;00m\u001b[38;5;124m\"\u001b[39m)\n",
      "\u001b[1;31mValueError\u001b[0m: No axis named 10 for object type DataFrame"
     ]
    }
   ],
   "source": [
    "# 1. make train/test split\n",
    "x=df_cleaned[['gender', 'sginsurance', 'andiagn_new', 'asa', 'sgadmsntyp', 'revisionsurgery', 'reverse', 'anvoropyn', 'bmi', 'ansmoking', 'Age', 'sgaplbrand', 'language', 'dominantside']]\n",
    "y=df_cleaned[['expectmet24']]\n",
    "x.shape, y.shape\n",
    "x_train, x_test, y_train, y_test = train_test_split(x, y, test_size=0.2)\n"
   ]
  },
  {
   "cell_type": "code",
   "execution_count": 212,
   "id": "b785fff5",
   "metadata": {},
   "outputs": [],
   "source": [
    "# # 2. fit the model (linear regression model)\n",
    "# reg = linear_model.LinearRegression()\n",
    "\n",
    "# reg.fit(x_train, y_train)\n",
    "# #no sense in plotting a model with 24 parameters...\n",
    "# plt.scatter(y_train, reg.predict(x_train))\n",
    "# plt.scatter(y_test, reg.predict(x_test))\n",
    "# plt.show()\n"
   ]
  },
  {
   "cell_type": "code",
   "execution_count": 275,
   "id": "f2dfbc92",
   "metadata": {},
   "outputs": [
    {
     "name": "stdout",
     "output_type": "stream",
     "text": [
      "x_train shape: (380, 14)\n",
      "y_train shape: (380,)\n",
      "x_test shape: (96, 14)\n",
      "y_test shape: (96,)\n"
     ]
    },
    {
     "ename": "AttributeError",
     "evalue": "'numpy.ndarray' object has no attribute 'get'",
     "output_type": "error",
     "traceback": [
      "\u001b[1;31m---------------------------------------------------------------------------\u001b[0m",
      "\u001b[1;31mAttributeError\u001b[0m                            Traceback (most recent call last)",
      "Cell \u001b[1;32mIn[275], line 27\u001b[0m\n\u001b[0;32m     24\u001b[0m x_train_scaled \u001b[38;5;241m=\u001b[39m scaler\u001b[38;5;241m.\u001b[39mfit_transform(x_train3)\n\u001b[0;32m     25\u001b[0m x_test_scaled \u001b[38;5;241m=\u001b[39m scaler\u001b[38;5;241m.\u001b[39mtransform(x_test3)\n\u001b[1;32m---> 27\u001b[0m sns\u001b[38;5;241m.\u001b[39mcountplot(x\u001b[38;5;241m=\u001b[39m\u001b[38;5;124m'\u001b[39m\u001b[38;5;124mexpectmet24\u001b[39m\u001b[38;5;124m'\u001b[39m, data\u001b[38;5;241m=\u001b[39my_train3)\n",
      "File \u001b[1;32m~\\anaconda3\\Lib\\site-packages\\seaborn\\categorical.py:2943\u001b[0m, in \u001b[0;36mcountplot\u001b[1;34m(data, x, y, hue, order, hue_order, orient, color, palette, saturation, width, dodge, ax, **kwargs)\u001b[0m\n\u001b[0;32m   2940\u001b[0m \u001b[38;5;28;01melif\u001b[39;00m x \u001b[38;5;129;01mis\u001b[39;00m \u001b[38;5;129;01mnot\u001b[39;00m \u001b[38;5;28;01mNone\u001b[39;00m \u001b[38;5;129;01mand\u001b[39;00m y \u001b[38;5;129;01mis\u001b[39;00m \u001b[38;5;129;01mnot\u001b[39;00m \u001b[38;5;28;01mNone\u001b[39;00m:\n\u001b[0;32m   2941\u001b[0m     \u001b[38;5;28;01mraise\u001b[39;00m \u001b[38;5;167;01mValueError\u001b[39;00m(\u001b[38;5;124m\"\u001b[39m\u001b[38;5;124mCannot pass values for both `x` and `y`\u001b[39m\u001b[38;5;124m\"\u001b[39m)\n\u001b[1;32m-> 2943\u001b[0m plotter \u001b[38;5;241m=\u001b[39m _CountPlotter(\n\u001b[0;32m   2944\u001b[0m     x, y, hue, data, order, hue_order,\n\u001b[0;32m   2945\u001b[0m     estimator, errorbar, n_boot, units, seed,\n\u001b[0;32m   2946\u001b[0m     orient, color, palette, saturation,\n\u001b[0;32m   2947\u001b[0m     width, errcolor, errwidth, capsize, dodge\n\u001b[0;32m   2948\u001b[0m )\n\u001b[0;32m   2950\u001b[0m plotter\u001b[38;5;241m.\u001b[39mvalue_label \u001b[38;5;241m=\u001b[39m \u001b[38;5;124m\"\u001b[39m\u001b[38;5;124mcount\u001b[39m\u001b[38;5;124m\"\u001b[39m\n\u001b[0;32m   2952\u001b[0m \u001b[38;5;28;01mif\u001b[39;00m ax \u001b[38;5;129;01mis\u001b[39;00m \u001b[38;5;28;01mNone\u001b[39;00m:\n",
      "File \u001b[1;32m~\\anaconda3\\Lib\\site-packages\\seaborn\\categorical.py:1530\u001b[0m, in \u001b[0;36m_BarPlotter.__init__\u001b[1;34m(self, x, y, hue, data, order, hue_order, estimator, errorbar, n_boot, units, seed, orient, color, palette, saturation, width, errcolor, errwidth, capsize, dodge)\u001b[0m\n\u001b[0;32m   1525\u001b[0m \u001b[38;5;28;01mdef\u001b[39;00m \u001b[38;5;21m__init__\u001b[39m(\u001b[38;5;28mself\u001b[39m, x, y, hue, data, order, hue_order,\n\u001b[0;32m   1526\u001b[0m              estimator, errorbar, n_boot, units, seed,\n\u001b[0;32m   1527\u001b[0m              orient, color, palette, saturation, width,\n\u001b[0;32m   1528\u001b[0m              errcolor, errwidth, capsize, dodge):\n\u001b[0;32m   1529\u001b[0m \u001b[38;5;250m    \u001b[39m\u001b[38;5;124;03m\"\"\"Initialize the plotter.\"\"\"\u001b[39;00m\n\u001b[1;32m-> 1530\u001b[0m     \u001b[38;5;28mself\u001b[39m\u001b[38;5;241m.\u001b[39mestablish_variables(x, y, hue, data, orient,\n\u001b[0;32m   1531\u001b[0m                              order, hue_order, units)\n\u001b[0;32m   1532\u001b[0m     \u001b[38;5;28mself\u001b[39m\u001b[38;5;241m.\u001b[39mestablish_colors(color, palette, saturation)\n\u001b[0;32m   1533\u001b[0m     \u001b[38;5;28mself\u001b[39m\u001b[38;5;241m.\u001b[39mestimate_statistic(estimator, errorbar, n_boot, seed)\n",
      "File \u001b[1;32m~\\anaconda3\\Lib\\site-packages\\seaborn\\categorical.py:532\u001b[0m, in \u001b[0;36m_CategoricalPlotter.establish_variables\u001b[1;34m(self, x, y, hue, data, orient, order, hue_order, units)\u001b[0m\n\u001b[0;32m    524\u001b[0m \u001b[38;5;66;03m# Option 2:\u001b[39;00m\n\u001b[0;32m    525\u001b[0m \u001b[38;5;66;03m# We are plotting a long-form dataset\u001b[39;00m\n\u001b[0;32m    526\u001b[0m \u001b[38;5;66;03m# -----------------------------------\u001b[39;00m\n\u001b[1;32m   (...)\u001b[0m\n\u001b[0;32m    529\u001b[0m \n\u001b[0;32m    530\u001b[0m     \u001b[38;5;66;03m# See if we need to get variables from `data`\u001b[39;00m\n\u001b[0;32m    531\u001b[0m     \u001b[38;5;28;01mif\u001b[39;00m data \u001b[38;5;129;01mis\u001b[39;00m \u001b[38;5;129;01mnot\u001b[39;00m \u001b[38;5;28;01mNone\u001b[39;00m:\n\u001b[1;32m--> 532\u001b[0m         x \u001b[38;5;241m=\u001b[39m data\u001b[38;5;241m.\u001b[39mget(x, x)\n\u001b[0;32m    533\u001b[0m         y \u001b[38;5;241m=\u001b[39m data\u001b[38;5;241m.\u001b[39mget(y, y)\n\u001b[0;32m    534\u001b[0m         hue \u001b[38;5;241m=\u001b[39m data\u001b[38;5;241m.\u001b[39mget(hue, hue)\n",
      "\u001b[1;31mAttributeError\u001b[0m: 'numpy.ndarray' object has no attribute 'get'"
     ]
    }
   ],
   "source": [
    "n_train = len(y_train)\n",
    "n_test = len(y_test)\n",
    "# convert to numpy array\n",
    "y_train2= y_train.to_numpy()\n",
    "x_train2= x_train.to_numpy()\n",
    "y_test2= y_test.to_numpy()\n",
    "x_test2= x_test.to_numpy()\n",
    "\n",
    "# reshape to be able to fit model with sklearn\n",
    "x_train3 = x_train2.reshape((n_train, -1))\n",
    "y_train3=y_train2.ravel()\n",
    "x_test3 = x_test2.reshape((n_test, -1))\n",
    "y_test3=y_test2.ravel()\n",
    "print(\"x_train shape:\", x_train3.shape)\n",
    "print(\"y_train shape:\", y_train3.shape)\n",
    "print(\"x_test shape:\", x_test3.shape)\n",
    "print(\"y_test shape:\", y_test3.shape)\n",
    "\n",
    "# x_train_np = np.array(x_train)\n",
    "# x_test_np = np.array(x_test)\n",
    "# y_train_np = np.array(y_train)\n",
    "# y_test_np = np.array(y_test)\n",
    "scaler = StandardScaler()\n",
    "x_train_scaled = scaler.fit_transform(x_train3)\n",
    "x_test_scaled = scaler.transform(x_test3)\n",
    "\n",
    "sns.countplot(x='expectmet24', data=y_train3)"
   ]
  },
  {
   "cell_type": "code",
   "execution_count": 273,
   "id": "3032fac3",
   "metadata": {
    "scrolled": false
   },
   "outputs": [
    {
     "name": "stdout",
     "output_type": "stream",
     "text": [
      "training accuracy : 0.555 (multinomial)\n",
      "test accuracy : 0.625 (multinomial)\n",
      "training accuracy : 0.555 (ovr)\n",
      "test accuracy : 0.625 (ovr)\n",
      "[[ 0  0  0  0  0  0  0  0  1]\n",
      " [ 0  0  0  0  0  0  0  0  2]\n",
      " [ 1  0  0  0  0  0  0  0  2]\n",
      " [ 0  0  0  0  0  0  0  0  1]\n",
      " [ 0  0  0  0  0  1  0  0  1]\n",
      " [ 0  0  0  0  0  0  0  0  3]\n",
      " [ 0  0  0  1  0  0  0  0  5]\n",
      " [ 1  0  0  1  0  1  0  0  9]\n",
      " [ 1  0  0  2  0  3  0  0 60]]\n"
     ]
    },
    {
     "data": {
      "text/plain": [
       "array([10., 10.,  5., 10., 10.,  0., 10., 10.,  0., 10., 10., 10., 10.,\n",
       "        5., 10., 10., 10., 10., 10., 10., 10., 10., 10., 10., 10., 10.,\n",
       "       10., 10., 10., 10., 10., 10.,  7.,  5., 10., 10., 10., 10., 10.,\n",
       "       10., 10., 10., 10., 10., 10., 10., 10., 10., 10., 10., 10., 10.,\n",
       "       10., 10., 10., 10., 10.,  7., 10., 10., 10., 10., 10., 10., 10.,\n",
       "       10., 10.,  7., 10.,  0., 10., 10., 10., 10., 10., 10., 10., 10.,\n",
       "       10., 10., 10., 10., 10., 10.,  7., 10.,  7., 10., 10., 10., 10.,\n",
       "       10., 10., 10., 10.,  5.])"
      ]
     },
     "execution_count": 273,
     "metadata": {},
     "output_type": "execute_result"
    }
   ],
   "source": [
    "#logistic regression model\n",
    "for multi_class in ('multinomial', 'ovr'):\n",
    "    \n",
    "# do fit (original model)\n",
    "#     clf = linear_model.LogisticRegression(solver='sag', max_iter=100,\n",
    "#                              multi_class='multinomial')\n",
    "\n",
    "# second model (balanced classes and more iterations)\n",
    "#     clf = linear_model.LogisticRegression(solver='sag', max_iter=10000,\n",
    "#                              multi_class='multinomial', class_weight='balanced')\n",
    "\n",
    "# third model (different solver, with class weights)\n",
    "    class_weights = {0:10, 1:10, 2:10, 3:10, 4:10, 5:10, 6:10, 7:10, 8:3, 9:2, 10:1}\n",
    "    clf = linear_model.LogisticRegression(solver='liblinear', max_iter=1000, class_weight=class_weights, multi_class='ovr')\n",
    "   \n",
    "    clf.fit(x_train3, y_train3)\n",
    "# with scaled features\n",
    "#     clf.fit(x_train_scaled, y_train3)\n",
    "\n",
    "# print the training scores\n",
    "    print(\"training accuracy : %.3f (%s)\" % (clf.score(x_train3, y_train3), multi_class))\n",
    "    print(\"test accuracy : %.3f (%s)\" % (clf.score(x_test3, y_test3), multi_class))\n",
    "\n",
    "clf.predict(x_train3[0:1])\n",
    "# y_train3\n",
    "predictions = clf.predict(x_test3)\n",
    "cm = metrics.confusion_matrix(y_test3, predictions)\n",
    "print(cm)\n",
    "predictions\n"
   ]
  },
  {
   "cell_type": "code",
   "execution_count": 301,
   "id": "0e583459",
   "metadata": {},
   "outputs": [
    {
     "name": "stdout",
     "output_type": "stream",
     "text": [
      "training score : 0.918 (n_est=4)\n"
     ]
    }
   ],
   "source": [
    "# Random Forest Model\n",
    "n_est=4\n",
    "class_weights = {0:10, 1:10, 2:10, 3:10, 4:10, 5:10, 6:10, 7:10, 8:10, 9:10, 10:1}\n",
    "clf = RandomForestClassifier(class_weight=class_weights,n_estimators=n_est)\n",
    "clf.fit(x_train3, y_train3)\n",
    "print(\"training score : %.3f (n_est=%d)\" % (clf.score(x_train3, y_train3), n_est))\n"
   ]
  },
  {
   "cell_type": "code",
   "execution_count": 314,
   "id": "598d4062",
   "metadata": {
    "scrolled": false
   },
   "outputs": [
    {
     "name": "stdout",
     "output_type": "stream",
     "text": [
      "[0.  0.  0.  0.  0.  0.  0.  0.  0.5 0.  0.5]\n",
      "[10.]\n",
      "[8.]\n",
      "[[  9   0   0   0   0   0   0   0   0   1   1]\n",
      " [  0   4   0   0   0   0   0   0   1   0   0]\n",
      " [  0   0   6   0   0   2   0   0   0   0   1]\n",
      " [  0   0   0   3   0   0   0   0   0   1   0]\n",
      " [  0   0   0   0   3   0   0   0   0   0   0]\n",
      " [  0   0   0   0   0  12   0   0   0   0   0]\n",
      " [  0   0   0   0   0   0   5   0   1   0   0]\n",
      " [  1   0   0   0   0   0   0  19   0   1   3]\n",
      " [  0   0   0   0   0   0   0   0  30   0   3]\n",
      " [  0   0   0   0   0   0   0   0   1  28   1]\n",
      " [  2   0   0   1   1   2   0   2   3   2 230]]\n"
     ]
    },
    {
     "data": {
      "image/png": "[encoded data removed]",
      "text/plain": [
       "<Figure size 800x600 with 2 Axes>"
      ]
     },
     "metadata": {},
     "output_type": "display_data"
    },
    {
     "name": "stdout",
     "output_type": "stream",
     "text": [
      "              precision    recall  f1-score   support\n",
      "\n",
      "         0.0       0.82      0.75      0.78        12\n",
      "         1.0       0.80      1.00      0.89         4\n",
      "         2.0       0.67      1.00      0.80         6\n",
      "         3.0       0.75      0.75      0.75         4\n",
      "         4.0       1.00      0.75      0.86         4\n",
      "         5.0       1.00      0.75      0.86        16\n",
      "         6.0       0.83      1.00      0.91         5\n",
      "         7.0       0.79      0.90      0.84        21\n",
      "         8.0       0.91      0.83      0.87        36\n",
      "         9.0       0.93      0.85      0.89        33\n",
      "        10.0       0.95      0.96      0.95       239\n",
      "\n",
      "    accuracy                           0.92       380\n",
      "   macro avg       0.86      0.87      0.85       380\n",
      "weighted avg       0.92      0.92      0.92       380\n",
      "\n"
     ]
    }
   ],
   "source": [
    "pred_y_train = clf.predict(x_train3)\n",
    "pred_y_test = clf.predict(x_test3)\n",
    "\n",
    "#probabilities to belong to each category\n",
    "pred_y_train_proba = clf.predict_proba(x_train3)\n",
    "print(pred_y_train_proba[0,:])\n",
    "#actual first value\n",
    "print(y_train3[0:1])\n",
    "#predicted first value\n",
    "print(pred_y_train[0:1])\n",
    "\n",
    "# 4. confusion matrix\n",
    "from sklearn import metrics\n",
    "conf_matrix=metrics.confusion_matrix(pred_y_train, y_train3)\n",
    "# conf_matrix=metrics.confusion_matrix(pred_y_test, y_test3)\n",
    "# metrics.confusion_matrix(pred_y_test, y_test).flatten()\n",
    "\n",
    "print(conf_matrix)\n",
    "\n",
    "# Define class labels\n",
    "class_names = ['Class 0', 'Class 1', 'Class 2', 'Class 3','Class 4','Class 5','Class 6','Class 7','Class 8','Class 9', 'Class 10']\n",
    "\n",
    "# Plot the confusion matrix\n",
    "plt.figure(figsize=(8, 6))\n",
    "plt.imshow(conf_matrix, interpolation='nearest', cmap=plt.cm.Blues)\n",
    "plt.title('Confusion Matrix')\n",
    "plt.colorbar()\n",
    "\n",
    "# Add labels\n",
    "tick_marks = np.arange(len(class_names))\n",
    "plt.xticks(tick_marks, class_names, rotation=45)\n",
    "plt.yticks(tick_marks, class_names)\n",
    "\n",
    "# Add values inside the squares\n",
    "thresh = conf_matrix.max() / 2.\n",
    "for i, j in np.ndindex(conf_matrix.shape):\n",
    "    plt.text(j, i, format(conf_matrix[i, j], 'd'),\n",
    "             horizontalalignment=\"center\",\n",
    "             color=\"white\" if conf_matrix[i, j] > thresh else \"black\")\n",
    "    \n",
    "plt.xlabel('Actual')\n",
    "plt.ylabel('Predicted')\n",
    "plt.show()\n",
    "\n",
    "pred_y_train\n",
    "print(classification_report(y_train3, pred_y_train))"
   ]
  },
  {
   "cell_type": "code",
   "execution_count": null,
   "id": "08ffa920",
   "metadata": {},
   "outputs": [],
   "source": []
  },
  {
   "cell_type": "code",
   "execution_count": 67,
   "id": "9d9e16d1",
   "metadata": {
    "scrolled": true
   },
   "outputs": [
    {
     "name": "stdout",
     "output_type": "stream",
     "text": [
      "train mse = expectmet24    2.511227\n",
      "dtype: float64\n",
      "test mse = expectmet24    2.526041\n",
      "dtype: float64\n",
      "train MAD = 1.2233611097246975\n",
      "test MAD = 1.2371307077002136\n",
      "train R2 = 0.029756062223046498\n",
      "test R2 = 0.03989754546666735\n"
     ]
    }
   ],
   "source": [
    "# 3. evaluate MSE, MAD, and R2 on train and test datasets\n",
    "print('train mse =', np.std(y_train - reg.predict(x_train)))\n",
    "print('test mse =', np.std(y_test - reg.predict(x_test)))\n",
    "# reg.coef_, reg.intercept_\n",
    "# w, w0 = reg.coef_, reg.intercept_\n",
    "print('train MAD =', np.median(abs(y_train - reg.predict(x_train))))\n",
    "print('test MAD =', np.median(abs(y_test - reg.predict(x_test))))\n",
    "print('train R2 =', reg.score(x_train, y_train))\n",
    "print('test R2 =', reg.score(x_test, y_test))"
   ]
  },
  {
   "cell_type": "code",
   "execution_count": 66,
   "id": "fc89fc70",
   "metadata": {},
   "outputs": [
    {
     "data": {
      "image/png": "[encoded data removed]",
      "text/plain": [
       "<Figure size 640x480 with 1 Axes>"
      ]
     },
     "metadata": {},
     "output_type": "display_data"
    }
   ],
   "source": [
    "# 4. plot y vs predicted y for test and train parts\n",
    "plt.scatter(y_train, reg.predict(x_train), marker='x', label='Training Data')\n",
    "plt.scatter(y_test,reg.predict(x_test), marker='o',label='Test Data')\n",
    "plt.legend()\n",
    "plt.title('\"Real\" Y vs Predicted Y')\n",
    "plt.show()"
   ]
  },
  {
   "cell_type": "code",
   "execution_count": 19,
   "id": "5273f628",
   "metadata": {},
   "outputs": [
    {
     "name": "stdout",
     "output_type": "stream",
     "text": [
      "C:\\Users\\tim94\\OneDrive\\Dokumente\\Universität Bern\\Data Analysis and Machine Learning\\Project\\SAR-221023.csv\n"
     ]
    },
    {
     "ename": "KeyError",
     "evalue": "['LotArea', 'Utilities', 'OverallQual', 'OverallCond', 'YearBuilt', 'YearRemodAdd', 'ExterQual', 'ExterCond', 'HeatingQC', 'CentralAir', 'Electrical', '1stFlrSF', '2ndFlrSF', 'GrLivArea', 'FullBath', 'HalfBath', 'BedroomAbvGr', 'KitchenAbvGr', 'KitchenQual', 'TotRmsAbvGrd', 'Functional', 'PoolArea', 'YrSold', 'MoSold', 'SalePrice']",
     "output_type": "error",
     "traceback": [
      "\u001b[1;31m---------------------------------------------------------------------------\u001b[0m",
      "\u001b[1;31mKeyError\u001b[0m                                  Traceback (most recent call last)",
      "Cell \u001b[1;32mIn[19], line 23\u001b[0m\n\u001b[0;32m     11\u001b[0m useful_fields \u001b[38;5;241m=\u001b[39m [\u001b[38;5;124m'\u001b[39m\u001b[38;5;124mLotArea\u001b[39m\u001b[38;5;124m'\u001b[39m,\n\u001b[0;32m     12\u001b[0m                  \u001b[38;5;124m'\u001b[39m\u001b[38;5;124mUtilities\u001b[39m\u001b[38;5;124m'\u001b[39m, \u001b[38;5;124m'\u001b[39m\u001b[38;5;124mOverallQual\u001b[39m\u001b[38;5;124m'\u001b[39m, \u001b[38;5;124m'\u001b[39m\u001b[38;5;124mOverallCond\u001b[39m\u001b[38;5;124m'\u001b[39m,\n\u001b[0;32m     13\u001b[0m                  \u001b[38;5;124m'\u001b[39m\u001b[38;5;124mYearBuilt\u001b[39m\u001b[38;5;124m'\u001b[39m, \u001b[38;5;124m'\u001b[39m\u001b[38;5;124mYearRemodAdd\u001b[39m\u001b[38;5;124m'\u001b[39m, \u001b[38;5;124m'\u001b[39m\u001b[38;5;124mExterQual\u001b[39m\u001b[38;5;124m'\u001b[39m, \u001b[38;5;124m'\u001b[39m\u001b[38;5;124mExterCond\u001b[39m\u001b[38;5;124m'\u001b[39m,\n\u001b[1;32m   (...)\u001b[0m\n\u001b[0;32m     19\u001b[0m                  \u001b[38;5;124m'\u001b[39m\u001b[38;5;124mYrSold\u001b[39m\u001b[38;5;124m'\u001b[39m, \u001b[38;5;124m'\u001b[39m\u001b[38;5;124mMoSold\u001b[39m\u001b[38;5;124m'\u001b[39m\n\u001b[0;32m     20\u001b[0m                  ]\n\u001b[0;32m     21\u001b[0m target_field \u001b[38;5;241m=\u001b[39m \u001b[38;5;124m'\u001b[39m\u001b[38;5;124mSalePrice\u001b[39m\u001b[38;5;124m'\u001b[39m\n\u001b[1;32m---> 23\u001b[0m df\u001b[38;5;241m.\u001b[39mdropna(axis\u001b[38;5;241m=\u001b[39m\u001b[38;5;241m0\u001b[39m, subset\u001b[38;5;241m=\u001b[39museful_fields\u001b[38;5;241m+\u001b[39m[target_field], inplace\u001b[38;5;241m=\u001b[39m\u001b[38;5;28;01mTrue\u001b[39;00m)\n\u001b[0;32m     25\u001b[0m cleanup_nums \u001b[38;5;241m=\u001b[39m {\u001b[38;5;124m'\u001b[39m\u001b[38;5;124mStreet\u001b[39m\u001b[38;5;124m'\u001b[39m:      {\u001b[38;5;124m'\u001b[39m\u001b[38;5;124mGrvl\u001b[39m\u001b[38;5;124m'\u001b[39m: \u001b[38;5;241m0\u001b[39m, \u001b[38;5;124m'\u001b[39m\u001b[38;5;124mPave\u001b[39m\u001b[38;5;124m'\u001b[39m: \u001b[38;5;241m1\u001b[39m},\n\u001b[0;32m     26\u001b[0m                   \u001b[38;5;124m'\u001b[39m\u001b[38;5;124mLotFrontage\u001b[39m\u001b[38;5;124m'\u001b[39m: {\u001b[38;5;124m'\u001b[39m\u001b[38;5;124mNA\u001b[39m\u001b[38;5;124m'\u001b[39m:\u001b[38;5;241m0\u001b[39m},\n\u001b[0;32m     27\u001b[0m                   \u001b[38;5;124m'\u001b[39m\u001b[38;5;124mAlley\u001b[39m\u001b[38;5;124m'\u001b[39m:       {\u001b[38;5;124m'\u001b[39m\u001b[38;5;124mNA\u001b[39m\u001b[38;5;124m'\u001b[39m:\u001b[38;5;241m0\u001b[39m, \u001b[38;5;124m'\u001b[39m\u001b[38;5;124mGrvl\u001b[39m\u001b[38;5;124m'\u001b[39m: \u001b[38;5;241m1\u001b[39m, \u001b[38;5;124m'\u001b[39m\u001b[38;5;124mPave\u001b[39m\u001b[38;5;124m'\u001b[39m: \u001b[38;5;241m2\u001b[39m},\n\u001b[1;32m   (...)\u001b[0m\n\u001b[0;32m     45\u001b[0m                   \u001b[38;5;124m'\u001b[39m\u001b[38;5;124mFence\u001b[39m\u001b[38;5;124m'\u001b[39m:       {\u001b[38;5;124m'\u001b[39m\u001b[38;5;124mNA\u001b[39m\u001b[38;5;124m'\u001b[39m:\u001b[38;5;241m0\u001b[39m, \u001b[38;5;124m'\u001b[39m\u001b[38;5;124mMnWw\u001b[39m\u001b[38;5;124m'\u001b[39m: \u001b[38;5;241m1\u001b[39m, \u001b[38;5;124m'\u001b[39m\u001b[38;5;124mGdWo\u001b[39m\u001b[38;5;124m'\u001b[39m: \u001b[38;5;241m2\u001b[39m, \u001b[38;5;124m'\u001b[39m\u001b[38;5;124mMnPrv\u001b[39m\u001b[38;5;124m'\u001b[39m: \u001b[38;5;241m3\u001b[39m, \u001b[38;5;124m'\u001b[39m\u001b[38;5;124mGdPrv\u001b[39m\u001b[38;5;124m'\u001b[39m:\u001b[38;5;241m4\u001b[39m},\n\u001b[0;32m     46\u001b[0m                   }\n\u001b[0;32m     48\u001b[0m df_X \u001b[38;5;241m=\u001b[39m df[useful_fields]\u001b[38;5;241m.\u001b[39mcopy()\n",
      "File \u001b[1;32m~\\anaconda3\\Lib\\site-packages\\pandas\\util\\_decorators.py:331\u001b[0m, in \u001b[0;36mdeprecate_nonkeyword_arguments.<locals>.decorate.<locals>.wrapper\u001b[1;34m(*args, **kwargs)\u001b[0m\n\u001b[0;32m    325\u001b[0m \u001b[38;5;28;01mif\u001b[39;00m \u001b[38;5;28mlen\u001b[39m(args) \u001b[38;5;241m>\u001b[39m num_allow_args:\n\u001b[0;32m    326\u001b[0m     warnings\u001b[38;5;241m.\u001b[39mwarn(\n\u001b[0;32m    327\u001b[0m         msg\u001b[38;5;241m.\u001b[39mformat(arguments\u001b[38;5;241m=\u001b[39m_format_argument_list(allow_args)),\n\u001b[0;32m    328\u001b[0m         \u001b[38;5;167;01mFutureWarning\u001b[39;00m,\n\u001b[0;32m    329\u001b[0m         stacklevel\u001b[38;5;241m=\u001b[39mfind_stack_level(),\n\u001b[0;32m    330\u001b[0m     )\n\u001b[1;32m--> 331\u001b[0m \u001b[38;5;28;01mreturn\u001b[39;00m func(\u001b[38;5;241m*\u001b[39margs, \u001b[38;5;241m*\u001b[39m\u001b[38;5;241m*\u001b[39mkwargs)\n",
      "File \u001b[1;32m~\\anaconda3\\Lib\\site-packages\\pandas\\core\\frame.py:6561\u001b[0m, in \u001b[0;36mDataFrame.dropna\u001b[1;34m(self, axis, how, thresh, subset, inplace)\u001b[0m\n\u001b[0;32m   6559\u001b[0m     check \u001b[38;5;241m=\u001b[39m indices \u001b[38;5;241m==\u001b[39m \u001b[38;5;241m-\u001b[39m\u001b[38;5;241m1\u001b[39m\n\u001b[0;32m   6560\u001b[0m     \u001b[38;5;28;01mif\u001b[39;00m check\u001b[38;5;241m.\u001b[39many():\n\u001b[1;32m-> 6561\u001b[0m         \u001b[38;5;28;01mraise\u001b[39;00m \u001b[38;5;167;01mKeyError\u001b[39;00m(np\u001b[38;5;241m.\u001b[39marray(subset)[check]\u001b[38;5;241m.\u001b[39mtolist())\n\u001b[0;32m   6562\u001b[0m     agg_obj \u001b[38;5;241m=\u001b[39m \u001b[38;5;28mself\u001b[39m\u001b[38;5;241m.\u001b[39mtake(indices, axis\u001b[38;5;241m=\u001b[39magg_axis)\n\u001b[0;32m   6564\u001b[0m \u001b[38;5;28;01mif\u001b[39;00m thresh \u001b[38;5;129;01mis\u001b[39;00m \u001b[38;5;129;01mnot\u001b[39;00m no_default:\n",
      "\u001b[1;31mKeyError\u001b[0m: ['LotArea', 'Utilities', 'OverallQual', 'OverallCond', 'YearBuilt', 'YearRemodAdd', 'ExterQual', 'ExterCond', 'HeatingQC', 'CentralAir', 'Electrical', '1stFlrSF', '2ndFlrSF', 'GrLivArea', 'FullBath', 'HalfBath', 'BedroomAbvGr', 'KitchenAbvGr', 'KitchenQual', 'TotRmsAbvGrd', 'Functional', 'PoolArea', 'YrSold', 'MoSold', 'SalePrice']"
     ]
    }
   ],
   "source": [
    "# def patient_satisfaction_dataset(return_df=False, return_df_xy=False, price_max=400000, area_max=40000):\n",
    "#   path = 'path/AmesHousing.csv'\n",
    "path= path+\"\\SAR-221023.csv\"\n",
    "print(path)\n",
    "df = pd.read_csv(path)\n",
    "#                  , na_values=('NaN', ''), keep_default_na=False)\n",
    "\n",
    "rename_dict = {k:k.replace(' ', '').replace('/', '') for k in df.keys()}\n",
    "df.rename(columns=rename_dict, inplace=True)\n",
    "\n",
    "useful_fields = ['LotArea',\n",
    "                 'Utilities', 'OverallQual', 'OverallCond',\n",
    "                 'YearBuilt', 'YearRemodAdd', 'ExterQual', 'ExterCond',\n",
    "                 'HeatingQC', 'CentralAir', 'Electrical',\n",
    "                 '1stFlrSF', '2ndFlrSF','GrLivArea',\n",
    "                 'FullBath', 'HalfBath',\n",
    "                 'BedroomAbvGr', 'KitchenAbvGr', 'KitchenQual', 'TotRmsAbvGrd',\n",
    "                 'Functional','PoolArea',\n",
    "                 'YrSold', 'MoSold'\n",
    "                 ]\n",
    "target_field = 'SalePrice'\n",
    "\n",
    "df.dropna(axis=0, subset=useful_fields+[target_field], inplace=True)\n",
    "\n",
    "cleanup_nums = {'Street':      {'Grvl': 0, 'Pave': 1},\n",
    "                  'LotFrontage': {'NA':0},\n",
    "                  'Alley':       {'NA':0, 'Grvl': 1, 'Pave': 2},\n",
    "                  'LotShape':    {'IR3':0, 'IR2': 1, 'IR1': 2, 'Reg':3},\n",
    "                  'Utilities':   {'ELO':0, 'NoSeWa': 1, 'NoSewr': 2, 'AllPub': 3},\n",
    "                  'LandSlope':   {'Sev':0, 'Mod': 1, 'Gtl': 3},\n",
    "                  'ExterQual':   {'Po':0, 'Fa': 1, 'TA': 2, 'Gd': 3, 'Ex':4},\n",
    "                  'ExterCond':   {'Po':0, 'Fa': 1, 'TA': 2, 'Gd': 3, 'Ex':4},\n",
    "                  'BsmtQual':    {'NA':0, 'Po':1, 'Fa': 2, 'TA': 3, 'Gd': 4, 'Ex':5},\n",
    "                  'BsmtCond':    {'NA':0, 'Po':1, 'Fa': 2, 'TA': 3, 'Gd': 4, 'Ex':5},\n",
    "                  'BsmtExposure':{'NA':0, 'No':1, 'Mn': 2, 'Av': 3, 'Gd': 4},\n",
    "                  'BsmtFinType1':{'NA':0, 'Unf':1, 'LwQ': 2, 'Rec': 3, 'BLQ': 4, 'ALQ':5, 'GLQ':6},\n",
    "                  'BsmtFinType2':{'NA':0, 'Unf':1, 'LwQ': 2, 'Rec': 3, 'BLQ': 4, 'ALQ':5, 'GLQ':6},\n",
    "                  'HeatingQC':   {'Po':0, 'Fa': 1, 'TA': 2, 'Gd': 3, 'Ex':4},\n",
    "                  'CentralAir':  {'N':0, 'Y': 1},\n",
    "                  'Electrical':  {'':0, 'NA':0, 'Mix':1, 'FuseP':2, 'FuseF': 3, 'FuseA': 4, 'SBrkr': 5},\n",
    "                  'KitchenQual': {'Po':0, 'Fa': 1, 'TA': 2, 'Gd': 3, 'Ex':4},\n",
    "                  'Functional':  {'Sal':0, 'Sev':1, 'Maj2': 2, 'Maj1': 3, 'Mod': 4, 'Min2':5, 'Min1':6, 'Typ':7},\n",
    "                  'FireplaceQu': {'NA':0, 'Po':1, 'Fa': 2, 'TA': 3, 'Gd': 4, 'Ex':5},\n",
    "                  'PoolQC':      {'NA':0, 'Fa': 1, 'TA': 2, 'Gd': 3, 'Ex':4},\n",
    "                  'Fence':       {'NA':0, 'MnWw': 1, 'GdWo': 2, 'MnPrv': 3, 'GdPrv':4},\n",
    "                  }\n",
    "\n",
    "df_X = df[useful_fields].copy()\n",
    "df_X.replace(cleanup_nums, inplace=True)  # convert continous categorial variables to numerical\n",
    "df_Y = df[target_field].copy()\n",
    "\n",
    "x = df_X.to_numpy().astype(np.float32)\n",
    "y = df_Y.to_numpy().astype(np.float32)\n",
    "\n",
    "if price_max>0:\n",
    "  idxs = y<price_max\n",
    "  x = x[idxs]\n",
    "  y = y[idxs]\n",
    "\n",
    "if area_max>0:\n",
    "  idxs = x[:,0]<area_max\n",
    "  x = x[idxs]\n",
    "  y = y[idxs]\n",
    "\n",
    "return (x, y, df) if return_df else ((x, y, (df_X, df_Y)) if return_df_xy else (x,y))"
   ]
  },
  {
   "cell_type": "code",
   "execution_count": null,
   "id": "fa5d730b",
   "metadata": {
    "scrolled": true
   },
   "outputs": [],
   "source": []
  },
  {
   "cell_type": "code",
   "execution_count": null,
   "id": "2de8697d",
   "metadata": {},
   "outputs": [],
   "source": []
  },
  {
   "cell_type": "code",
   "execution_count": null,
   "id": "e469baad",
   "metadata": {},
   "outputs": [],
   "source": []
  }
 ],
 "metadata": {
  "kernelspec": {
   "display_name": "Python 3 (ipykernel)",
   "language": "python",
   "name": "python3"
  },
  "language_info": {
   "codemirror_mode": {
    "name": "ipython",
    "version": 3
   },
   "file_extension": ".py",
   "mimetype": "text/x-python",
   "name": "python",
   "nbconvert_exporter": "python",
   "pygments_lexer": "ipython3",
   "version": "3.11.4"
  }
 },
 "nbformat": 4,
 "nbformat_minor": 5
}
