{
 "cells": [
  {
   "cell_type": "markdown",
   "metadata": {
    "id": "n_5oRe0SXilM"
   },
   "source": [
    "<a href=\"https://colab.research.google.com/github/neworldemancer/DSF5/blob/master/Solutions_2.ipynb\" target=\"_parent\"><img src=\"https://colab.research.google.com/assets/colab-badge.svg\" alt=\"Open In Colab\"/></a>"
   ]
  },
  {
   "cell_type": "markdown",
   "metadata": {},
   "source": [
    "# Introduction to machine learning & Data Analysis\n",
    "\n",
    "Basic introduction on how to perform typical machine learning tasks with Python.\n",
    "\n",
    "Prepared by Mykhailo Vladymyrov & Aris Marcolongo,\n",
    "Data Science Lab, University Of Bern, 2023\n",
    "\n",
    "This work is licensed under <a href=\"https://creativecommons.org/share-your-work/public-domain/cc0/\">CC0</a>.\n",
    "\n",
    "# Solutions to Part 2."
   ]
  },
  {
   "cell_type": "code",
   "execution_count": null,
   "metadata": {
    "ExecuteTime": {
     "end_time": "2022-09-27T14:58:59.711051Z",
     "start_time": "2022-09-27T14:58:55.828717Z"
    },
    "colab": {
     "base_uri": "https://localhost:8080/",
     "height": 71
    },
    "collapsed": true,
    "id": "845f_i-B55ep",
    "outputId": "539289b5-fd83-4873-8dbf-134b559cba5c"
   },
   "outputs": [],
   "source": [
    "from sklearn import tree\n",
    "from sklearn import ensemble\n",
    "\n",
    "from sklearn.datasets import make_blobs\n",
    "from sklearn.model_selection import train_test_split\n",
    "from sklearn import metrics\n",
    "from sklearn.preprocessing import StandardScaler\n",
    "from sklearn.decomposition import PCA\n",
    "\n",
    "from matplotlib import  pyplot as plt\n",
    "import seaborn as sns\n",
    "from time import time as timer\n",
    "from imageio import imread\n",
    "import pandas as pd\n",
    "import numpy as np\n",
    "import os\n",
    "\n",
    "from sklearn.manifold import TSNE\n",
    "\n",
    "import tensorflow as tf\n",
    "\n",
    "%matplotlib inline\n",
    "from matplotlib import animation\n",
    "from IPython.display import HTML"
   ]
  },
  {
   "cell_type": "code",
   "execution_count": null,
   "metadata": {},
   "outputs": [],
   "source": [
    "pip install umap-learn"
   ]
  },
  {
   "cell_type": "code",
   "execution_count": null,
   "metadata": {},
   "outputs": [],
   "source": [
    "import umap"
   ]
  },
  {
   "cell_type": "code",
   "execution_count": null,
   "metadata": {
    "colab": {
     "base_uri": "https://localhost:8080/",
     "height": 51
    },
    "id": "8Y7aMevU3Ug8",
    "outputId": "3cc9281e-0251-4216-deff-19eec68e776d"
   },
   "outputs": [],
   "source": [
    "if not os.path.exists('data'):\n",
    "    path = os.path.abspath('.')+'/colab_material.tgz'\n",
    "    tf.keras.utils.get_file(path, 'https://github.com/neworldemancer/DSF5/raw/master/colab_material.tgz')\n",
    "    !tar -xvzf colab_material.tgz > /dev/null 2>&1"
   ]
  },
  {
   "cell_type": "code",
   "execution_count": null,
   "metadata": {
    "ExecuteTime": {
     "end_time": "2022-09-27T14:59:21.913828Z",
     "start_time": "2022-09-27T14:59:21.864992Z"
    },
    "id": "atch-QcelhRy"
   },
   "outputs": [],
   "source": [
    "from utils.routines import *"
   ]
  },
  {
   "cell_type": "markdown",
   "metadata": {
    "id": "cBxkWZaLCUcR"
   },
   "source": [
    "# Datasets"
   ]
  },
  {
   "cell_type": "markdown",
   "metadata": {
    "id": "4MssLYOiCUcX"
   },
   "source": [
    "In this course we will use several synthetic and real-world datasets to illustrate the behavior of the models and exercise our skills."
   ]
  },
  {
   "cell_type": "markdown",
   "metadata": {
    "id": "8UQgU5I-lEll"
   },
   "source": [
    "## 1. Synthetic linear"
   ]
  },
  {
   "cell_type": "code",
   "execution_count": null,
   "metadata": {
    "id": "jGfWOWRjlWPa"
   },
   "outputs": [],
   "source": [
    "def get_linear(n_d=1, n_points=10, w=None, b=None, sigma=5):\n",
    "  x = np.random.uniform(0, 10, size=(n_points, n_d))\n",
    "  \n",
    "  w = w or np.random.uniform(0.1, 10, n_d)\n",
    "  b = b or np.random.uniform(-10, 10)\n",
    "  y = np.dot(x, w) + b + np.random.normal(0, sigma, size=n_points)\n",
    "\n",
    "  print('true slopes: w =', w, ';  b =', b)\n",
    "\n",
    "  return x, y"
   ]
  },
  {
   "cell_type": "code",
   "execution_count": null,
   "metadata": {
    "colab": {
     "base_uri": "https://localhost:8080/",
     "height": 302
    },
    "id": "5RLYxGy_nBZG",
    "outputId": "938668c0-7e4b-4bb6-89ab-b03dfe30e98f"
   },
   "outputs": [],
   "source": [
    "x, y = get_linear(n_d=1, sigma=0)\n",
    "plt.plot(x[:, 0], y, '*')"
   ]
  },
  {
   "cell_type": "code",
   "execution_count": null,
   "metadata": {
    "colab": {
     "base_uri": "https://localhost:8080/",
     "height": 500
    },
    "id": "10ODDOp4nX4S",
    "outputId": "6a3cd7e3-42c1-4263-f30a-1a4ec576dbc3"
   },
   "outputs": [],
   "source": [
    "n_d = 2\n",
    "x, y = get_linear(n_d=n_d, n_points=100)\n",
    "\n",
    "fig = plt.figure(figsize=(8,8))\n",
    "ax = fig.add_subplot(111, projection='3d')\n",
    "ax.scatter(x[:,0], x[:,1], y, marker='x', color='b',s=40)"
   ]
  },
  {
   "cell_type": "markdown",
   "metadata": {
    "id": "-2uMw5C4CUcj"
   },
   "source": [
    "## 2. House prices"
   ]
  },
  {
   "cell_type": "markdown",
   "metadata": {
    "id": "qi_Q6YTNCUcj"
   },
   "source": [
    "Subset of the Ames Houses dataset: http://jse.amstat.org/v19n3/decock.pdf"
   ]
  },
  {
   "cell_type": "code",
   "execution_count": null,
   "metadata": {
    "id": "Uj2LFlahCUcj"
   },
   "outputs": [],
   "source": [
    "def house_prices_dataset(return_df=False, price_max=400000, area_max=40000):\n",
    "  path = 'data/AmesHousing.csv'\n",
    "\n",
    "  df = pd.read_csv(path, na_values=('NaN', ''), keep_default_na=False)\n",
    "  \n",
    "  rename_dict = {k:k.replace(' ', '').replace('/', '') for k in df.keys()}\n",
    "  df.rename(columns=rename_dict, inplace=True)\n",
    "  \n",
    "  useful_fields = ['LotArea',\n",
    "                  'Utilities', 'OverallQual', 'OverallCond',\n",
    "                  'YearBuilt', 'YearRemodAdd', 'ExterQual', 'ExterCond',\n",
    "                  'HeatingQC', 'CentralAir', 'Electrical',\n",
    "                  '1stFlrSF', '2ndFlrSF','GrLivArea',\n",
    "                  'FullBath', 'HalfBath',\n",
    "                  'BedroomAbvGr', 'KitchenAbvGr', 'KitchenQual', 'TotRmsAbvGrd',\n",
    "                  'Functional','PoolArea',\n",
    "                  'YrSold', 'MoSold'\n",
    "                  ]\n",
    "  target_field = 'SalePrice'\n",
    "\n",
    "  df.dropna(axis=0, subset=useful_fields+[target_field], inplace=True)\n",
    "\n",
    "  cleanup_nums = {'Street':      {'Grvl': 0, 'Pave': 1},\n",
    "                  'LotFrontage': {'NA':0},\n",
    "                  'Alley':       {'NA':0, 'Grvl': 1, 'Pave': 2},\n",
    "                  'LotShape':    {'IR3':0, 'IR2': 1, 'IR1': 2, 'Reg':3},\n",
    "                  'Utilities':   {'ELO':0, 'NoSeWa': 1, 'NoSewr': 2, 'AllPub': 3},\n",
    "                  'LandSlope':   {'Sev':0, 'Mod': 1, 'Gtl': 3},\n",
    "                  'ExterQual':   {'Po':0, 'Fa': 1, 'TA': 2, 'Gd': 3, 'Ex':4},\n",
    "                  'ExterCond':   {'Po':0, 'Fa': 1, 'TA': 2, 'Gd': 3, 'Ex':4},\n",
    "                  'BsmtQual':    {'NA':0, 'Po':1, 'Fa': 2, 'TA': 3, 'Gd': 4, 'Ex':5},\n",
    "                  'BsmtCond':    {'NA':0, 'Po':1, 'Fa': 2, 'TA': 3, 'Gd': 4, 'Ex':5},\n",
    "                  'BsmtExposure':{'NA':0, 'No':1, 'Mn': 2, 'Av': 3, 'Gd': 4},\n",
    "                  'BsmtFinType1':{'NA':0, 'Unf':1, 'LwQ': 2, 'Rec': 3, 'BLQ': 4, 'ALQ':5, 'GLQ':6},\n",
    "                  'BsmtFinType2':{'NA':0, 'Unf':1, 'LwQ': 2, 'Rec': 3, 'BLQ': 4, 'ALQ':5, 'GLQ':6},\n",
    "                  'HeatingQC':   {'Po':0, 'Fa': 1, 'TA': 2, 'Gd': 3, 'Ex':4},\n",
    "                  'CentralAir':  {'N':0, 'Y': 1},\n",
    "                  'Electrical':  {'':0, 'NA':0, 'Mix':1, 'FuseP':2, 'FuseF': 3, 'FuseA': 4, 'SBrkr': 5},\n",
    "                  'KitchenQual': {'Po':0, 'Fa': 1, 'TA': 2, 'Gd': 3, 'Ex':4},\n",
    "                  'Functional':  {'Sal':0, 'Sev':1, 'Maj2': 2, 'Maj1': 3, 'Mod': 4, 'Min2':5, 'Min1':6, 'Typ':7},\n",
    "                  'FireplaceQu': {'NA':0, 'Po':1, 'Fa': 2, 'TA': 3, 'Gd': 4, 'Ex':5},\n",
    "                  'PoolQC':      {'NA':0, 'Fa': 1, 'TA': 2, 'Gd': 3, 'Ex':4},\n",
    "                  'Fence':       {'NA':0, 'MnWw': 1, 'GdWo': 2, 'MnPrv': 3, 'GdPrv':4},\n",
    "                  }\n",
    "\n",
    "  df_X = df[useful_fields].copy()                              \n",
    "  df_X.replace(cleanup_nums, inplace=True)  # convert continous categorial variables to numerical\n",
    "  df_Y = df[target_field].copy()\n",
    "\n",
    "  x = df_X.to_numpy().astype(np.float32)\n",
    "  y = df_Y.to_numpy().astype(np.float32)\n",
    "\n",
    "  if price_max>0:\n",
    "    idxs = y<price_max\n",
    "    x = x[idxs]\n",
    "    y = y[idxs]\n",
    "\n",
    "  if area_max>0:\n",
    "    idxs = x[:,0]<area_max\n",
    "    x = x[idxs]\n",
    "    y = y[idxs]\n",
    "\n",
    "  return (x, y, df) if return_df else (x,y)"
   ]
  },
  {
   "cell_type": "code",
   "execution_count": null,
   "metadata": {
    "id": "-jcX7oYDFwzQ"
   },
   "outputs": [],
   "source": [
    "def house_prices_dataset_normed():\n",
    "    x, y = house_prices_dataset(return_df=False, price_max=-1, area_max=-1)\n",
    "    \n",
    "    scaler=StandardScaler()\n",
    "    features_scaled=scaler.fit_transform(x)\n",
    "    \n",
    "    return features_scaled"
   ]
  },
  {
   "cell_type": "code",
   "execution_count": null,
   "metadata": {
    "colab": {
     "base_uri": "https://localhost:8080/",
     "height": 268
    },
    "id": "YqWU0eHts1RM",
    "outputId": "7bc818eb-f9bf-4dd4-edca-012497088d11"
   },
   "outputs": [],
   "source": [
    "x, y, df = house_prices_dataset(return_df=True)\n",
    "print(x.shape, y.shape)\n",
    "df.head()"
   ]
  },
  {
   "cell_type": "code",
   "execution_count": null,
   "metadata": {
    "colab": {
     "base_uri": "https://localhost:8080/",
     "height": 279
    },
    "id": "91nj7znzMEpA",
    "outputId": "8050e291-2aa8-44f9-cd86-9d162a239b03"
   },
   "outputs": [],
   "source": [
    "plt.plot(x[:, 0], y, '.')\n",
    "plt.xlabel('area, sq.ft')\n",
    "plt.ylabel('price, $');"
   ]
  },
  {
   "cell_type": "markdown",
   "metadata": {
    "id": "q7CNxkPdNB4L"
   },
   "source": [
    "## 3. Blobs"
   ]
  },
  {
   "cell_type": "code",
   "execution_count": null,
   "metadata": {
    "colab": {
     "base_uri": "https://localhost:8080/",
     "height": 265
    },
    "id": "j8wXhleONKgZ",
    "outputId": "9fb3f3a7-4dd7-491d-ca96-3ce2259da91d"
   },
   "outputs": [],
   "source": [
    "x, y = make_blobs(n_samples=1000, centers=[[0,0], [5,5], [10, 0]])\n",
    "colors = \"ygr\"\n",
    "for i, color in enumerate(colors):\n",
    "    idx = y == i\n",
    "    plt.scatter(x[idx, 0], x[idx, 1], c=color, edgecolor='gray', s=25)"
   ]
  },
  {
   "cell_type": "markdown",
   "metadata": {
    "id": "8S1jwU4cXQX4"
   },
   "source": [
    "## 4. MNIST"
   ]
  },
  {
   "cell_type": "markdown",
   "metadata": {
    "id": "e2u82UQ5XQX4"
   },
   "source": [
    "The MNIST database of handwritten digits has a training set of 60,000 examples, and a test set of 10,000 examples. The digits have been size-normalized and centered in a fixed-size image.\n",
    "It is a good database for people who want to try learning techniques and pattern recognition methods on real-world data while spending minimal efforts on preprocessing and formatting (taken from http://yann.lecun.com/exdb/mnist/). Each example is a 28x28 grayscale image and the dataset can be readily downloaded from Tensorflow."
   ]
  },
  {
   "cell_type": "code",
   "execution_count": null,
   "metadata": {
    "colab": {
     "base_uri": "https://localhost:8080/",
     "height": 51
    },
    "id": "JaNaGGOkXQX5",
    "outputId": "69f9a489-b3d1-4269-af27-0b34a545da9c"
   },
   "outputs": [],
   "source": [
    "mnist = tf.keras.datasets.mnist\n",
    "(train_images, train_labels), (test_images, test_labels) = mnist.load_data()"
   ]
  },
  {
   "cell_type": "markdown",
   "metadata": {
    "id": "dlUY5gl8XQX7"
   },
   "source": [
    "Let's check few samples:"
   ]
  },
  {
   "cell_type": "code",
   "execution_count": null,
   "metadata": {
    "colab": {
     "base_uri": "https://localhost:8080/",
     "height": 462
    },
    "id": "qtYtGEDdXQX8",
    "outputId": "d5a3e200-b27b-47df-aae7-f778f888d646"
   },
   "outputs": [],
   "source": [
    "n = 3\n",
    "fig, ax = plt.subplots(n, n, figsize=(2*n, 2*n))\n",
    "ax = [ax_xy for ax_y in ax for ax_xy in ax_y]\n",
    "for axi, im_idx in zip(ax, np.random.choice(len(train_images), n**2)):\n",
    "  im = train_images[im_idx]\n",
    "  im_class = train_labels[im_idx]\n",
    "  axi.imshow(im, cmap='gray')\n",
    "  axi.text(1, 4, f'{im_class}', color='r', size=16)\n",
    "  axi.grid(False)\n",
    "plt.tight_layout(0,0,0)\n"
   ]
  },
  {
   "cell_type": "markdown",
   "metadata": {
    "id": "5MXcNBOBCUcy"
   },
   "source": [
    "## 5. Fashion MNIST"
   ]
  },
  {
   "cell_type": "markdown",
   "metadata": {
    "id": "rANzstLwCUcy"
   },
   "source": [
    "`Fashion-MNIST` is a dataset of Zalando's article images—consisting of a training set of 60,000 examples and a test set of 10,000 examples. Each example is a 28x28 grayscale image, associated with a label from 10 classes. (from https://github.com/zalandoresearch/fashion-mnist)"
   ]
  },
  {
   "cell_type": "code",
   "execution_count": null,
   "metadata": {
    "colab": {
     "base_uri": "https://localhost:8080/",
     "height": 156
    },
    "id": "Woc5ld-HCUcz",
    "outputId": "4f15de93-a713-46a3-adc3-7288c54c43ad"
   },
   "outputs": [],
   "source": [
    "fashion_mnist = tf.keras.datasets.fashion_mnist\n",
    "(train_images, train_labels), (test_images, test_labels) = fashion_mnist.load_data()"
   ]
  },
  {
   "cell_type": "markdown",
   "metadata": {
    "id": "FH2G-FAHCUc1"
   },
   "source": [
    "Let's check few samples:"
   ]
  },
  {
   "cell_type": "code",
   "execution_count": null,
   "metadata": {
    "colab": {
     "base_uri": "https://localhost:8080/",
     "height": 462
    },
    "id": "90EhR8nmCUc1",
    "outputId": "319ba8e1-0b93-4818-e416-7ebcab70d358"
   },
   "outputs": [],
   "source": [
    "n = 3\n",
    "fig, ax = plt.subplots(n, n, figsize=(2*n, 2*n))\n",
    "ax = [ax_xy for ax_y in ax for ax_xy in ax_y]\n",
    "for axi, im_idx in zip(ax, np.random.choice(len(train_images), n**2)):\n",
    "  im = train_images[im_idx]\n",
    "  im_class = train_labels[im_idx]\n",
    "  axi.imshow(im, cmap='gray')\n",
    "  axi.text(1, 4, f'{im_class}', color='r', size=16)\n",
    "  axi.grid(False)\n",
    "plt.tight_layout(0,0,0)"
   ]
  },
  {
   "cell_type": "markdown",
   "metadata": {
    "id": "xeaJnq9hCUc3"
   },
   "source": [
    "Each of the training and test examples is assigned to one of the following labels:\n",
    "\n",
    "| Label | Description |\n",
    "| --- | --- |\n",
    "| 0 | T-shirt/top |\n",
    "| 1 | Trouser |\n",
    "| 2 | Pullover |\n",
    "| 3 | Dress |\n",
    "| 4 | Coat |\n",
    "| 5 | Sandal |\n",
    "| 6 | Shirt |\n",
    "| 7 | Sneaker |\n",
    "| 8 | Bag |\n",
    "| 9 | Ankle boot |"
   ]
  },
  {
   "cell_type": "markdown",
   "metadata": {
    "id": "s_wxOrdWko8W"
   },
   "source": [
    "In this course we will use several synthetic and real-world datasets to illustrate the behavior of the models and exercise our skills."
   ]
  },
  {
   "cell_type": "markdown",
   "metadata": {
    "id": "1B7g_pGO91md"
   },
   "source": [
    "# EXERCISE 0 (bonus) : PCA with a non-linear data-set"
   ]
  },
  {
   "cell_type": "code",
   "execution_count": null,
   "metadata": {
    "colab": {
     "base_uri": "https://localhost:8080/",
     "height": 993
    },
    "id": "07pdQhds91mo",
    "outputId": "2cf207fc-161b-42ef-974e-ce54e3422506"
   },
   "outputs": [],
   "source": [
    "# 1. Load the data using the function load_ex1_data_pca() , check the dimensionality of the data and plot them.\n",
    "# Solution:\n",
    "\n",
    "data = load_ex1_data_pca()\n",
    "\n",
    "n_samples,n_dim=data.shape\n",
    "\n",
    "print('We have ',n_samples, 'samples of dimension ', n_dim)\n",
    "\n",
    "plt.figure(figsize=((5,5)))\n",
    "plt.grid()\n",
    "plt.plot(data[:,0],data[:,1],'o')\n",
    "\n",
    "# 2. Define a PCA object and perform the PCA fitting.\n",
    "pca=PCA()\n",
    "pca.fit(data)\n",
    "\n",
    "# 3. Check the explained variance ratio and select best number of components.\n",
    "\n",
    "print('Explained variance ratio: ' ,pca.explained_variance_ratio_)\n",
    "\n",
    "# 4. Plot the reconstructed vectors for different values of k.\n",
    "\n",
    "scores=pca.transform(data)\n",
    "for k in range(1,3):\n",
    "    res=np.dot(scores[:,:k], pca.components_[:k,:]) \n",
    "\n",
    "    plt.figure(figsize=((5,5)))\n",
    "    plt.title('Reconstructed vector for k ='+ str(k))\n",
    "    plt.plot(res[:,0],res[:,1],'o')\n",
    "    plt.plot(data[:,0],data[:,1],'o')\n",
    "\n",
    "    for a,b,c,d in zip(data[:,0],data[:,1],res[:,0],res[:,1]) :\n",
    "        plt.plot([a,c],[b,d],'-', linestyle = '--', color='red')\n",
    "\n",
    "    plt.grid()\n",
    "    \n",
    "# Message: if the manyfold is non-linear one is forced to use a high number of principal components. \n",
    "# For example, in the parabola example the projection for k=1 looks bad. But using too many principal components \n",
    "# the reconstructed vectors are almost equal to the original ones (for k=2 we get exact reconstruction in our example ) \n",
    "# and the advanteges of dimensionality reduction are lost. This is a general pattern."
   ]
  },
  {
   "cell_type": "markdown",
   "metadata": {},
   "source": [
    "# EXERCISE 1 : Find dimensionality of hidden dataset."
   ]
  },
  {
   "cell_type": "code",
   "execution_count": null,
   "metadata": {
    "ExecuteTime": {
     "end_time": "2022-09-27T14:59:26.080592Z",
     "start_time": "2022-09-27T14:59:25.987229Z"
    }
   },
   "outputs": [],
   "source": [
    "high_dim_dataset=load_multidimensional_data_pca(n_data=40 ,n_vec=6, dim=20, eps= 0.5)\n",
    "n_samples,n_dim=high_dim_dataset.shape\n",
    "\n",
    "print('We have ',n_samples, 'samples of dimension ', n_dim)\n",
    "\n",
    "pca=PCA()\n",
    "pca.fit(high_dim_dataset)\n",
    "plt.plot([str(i) for i in range(1,len(pca.explained_variance_ratio_)+1)],\n",
    "         pca.explained_variance_ratio_,'-o')\n",
    "plt.title('Scree plot')\n",
    "plt.ylabel('Percentage of explained variance')\n",
    "plt.grid()\n",
    "plt.show()"
   ]
  },
  {
   "cell_type": "code",
   "execution_count": null,
   "metadata": {},
   "outputs": [],
   "source": [
    "for vec in pca.components_[:6]:\n",
    "    plt.figure()\n",
    "    plt.plot([f'sensor {i}' for i in range(1,len(pca.explained_variance_ratio_)+1)], vec)\n",
    "    plt.xticks(rotation=90)\n",
    "    plt.grid()"
   ]
  },
  {
   "cell_type": "markdown",
   "metadata": {
    "id": "6nJsEk2R91nM"
   },
   "source": [
    "# EXERCISE 2 : Find the hidden drawing."
   ]
  },
  {
   "cell_type": "code",
   "execution_count": null,
   "metadata": {
    "colab": {
     "base_uri": "https://localhost:8080/",
     "height": 596
    },
    "id": "GVHaSTYU91nR",
    "outputId": "37fcc41d-a5ec-4698-c3fa-4e8035c18a2c"
   },
   "outputs": [],
   "source": [
    "# 1. Load the data using the function load_ex2_data_pca(seed=1235) , check the dimensionality of the data and plot them.\n",
    "\n",
    "data= load_ex2_data_pca(seed=1235)\n",
    "n_samples,n_dim=data.shape\n",
    "print('We have ',n_samples, 'samples of dimension ', n_dim)\n",
    "\n",
    "# 2. Define a PCA object and perform the PCA fitting.\n",
    "pca=PCA()\n",
    "pca.fit(data)\n",
    "\n",
    "# 3. Check the explained variance ratio and select best number of components.\n",
    "plt.figure()\n",
    "print('Explained variance ratio: ' ,pca.explained_variance_ratio_)\n",
    "plt.plot(pca.explained_variance_ratio_,'-o')\n",
    "plt.xlabel('k')\n",
    "plt.ylabel('Explained variance ratio')\n",
    "plt.grid()\n",
    "\n",
    "# 4. Can you make a 2D plots that visualized the first two scores of the dataset ?.\n",
    "plt.figure()\n",
    "k=2\n",
    "data_transformed=pca.transform(data)\n",
    "plt.plot(data_transformed[:,0],data_transformed[:,1],'o')\n",
    "\n",
    "# **Message:** Sometimes the data hides simple patterns in high dimensional datasets. \n",
    "# PCA can be very useful in identifying these patterns."
   ]
  }
 ],
 "metadata": {
  "colab": {
   "collapsed_sections": [
    "n_5oRe0SXilM",
    "pclZR6uFklf_",
    "8UQgU5I-lEll",
    "FJ5rjq7fIe8Q",
    "q7CNxkPdNB4L",
    "ITfbaOgfYNsq",
    "zI6s2Amob48j",
    "AQ69XKdbZcA3"
   ],
   "name": "Solutions_2.ipynb",
   "provenance": []
  },
  "kernelspec": {
   "display_name": "Python 3 (ipykernel)",
   "language": "python",
   "name": "python3"
  },
  "language_info": {
   "codemirror_mode": {
    "name": "ipython",
    "version": 3
   },
   "file_extension": ".py",
   "mimetype": "text/x-python",
   "name": "python",
   "nbconvert_exporter": "python",
   "pygments_lexer": "ipython3",
   "version": "3.9.12"
  }
 },
 "nbformat": 4,
 "nbformat_minor": 1
}
