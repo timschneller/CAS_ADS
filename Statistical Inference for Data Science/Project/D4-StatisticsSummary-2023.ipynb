{
 "cells": [
  {
   "cell_type": "markdown",
   "metadata": {
    "id": "vi0l7ZtiEKhy"
   },
   "source": [
    "Notebook 5, Module 2, Statistical Inference for Data Science, CAS Applied Data Science, 2023-09-01, A. Mühlemann, University of Bern.\n",
    "\n",
    "*This notebook is based on the notebook by S. Haug and G. Conti from 2020*"
   ]
  },
  {
   "cell_type": "markdown",
   "metadata": {
    "id": "rLlWFcE4EKh2"
   },
   "source": [
    "## Project work Module 2\n",
    "\n",
    "This is my project work for Module 2. Plots, numbers and tables for the poster or presentation are produced with this Notebook.\n",
    "\n",
    "The data used is the Iris data set. Available here:\n",
    "https://archive.ics.uci.edu/ml/datasets/iris\n",
    "\n",
    "**Outline of the data analysis** 3x45 min (depending on your background)\n",
    "\n",
    "- Introduction (situation and goal)\n",
    "- Descriptive part\n",
    "- Data filtering with efficiency from fitted models\n",
    "- Hypothesis testing\n",
    "- Conclusions\n",
    "\n",
    "it covers a lot! this level of detail is not required for own project!\n"
   ]
  },
  {
   "cell_type": "markdown",
   "metadata": {
    "id": "4mX1nGv8EKh4"
   },
   "source": [
    "## 1. Introduction\n",
    "\n",
    "I am in court as a data science expert. My task is to give advice to the judges. I will have 15 minutes time and plan to bring slides for the presentation. This way court participants can also look at it in the breaks.\n",
    "\n",
    "**Situation (fictional):**\n",
    "\n",
    "Some new company v4Setosa recently sequenced the genes of the Iris species Setosa and patented it, apparently in order to preserve this species because it is so beautiful. Due this patent it is not allowed to change the plant.\n",
    "\n",
    "A big farmer and hater of Iris and with a field where Iris is a disturbing weed, has been using a new product from Sonte Manto for a couple of years. The product is supposed to effectively kill Iris plants.\n",
    "\n",
    "A big Iris lover collected a sample of Iris plants from the farmer's field and thinks the Iris Setosa setal leaves are bigger than normal. She sent the sample to v4setosa, which in turn came to the conclusion that Setosa must have mutated due to the product from Sonte Manto.\n",
    "\n",
    "So w4setosa sued Sonte Manto with the claim that they have changed the plant with their product. Sonte Manto may risk to pay a billion dollars. The court has asked me to give a neutral and scientific advice.\n",
    "\n",
    "**Data Analysis**\n",
    "\n",
    "- Data collection\n",
    "    - Request a larger Iris sample from a field far away from the farmer -dataset 0. The data is labeled as the local collector had separate greenhouses for each species.\n",
    "    - Request a Iris sample from the farmer (collected by some neutral person) - dataset 1. The data is a random mix of all species\n",
    "- Description of the data\n",
    "    - Calculate means, variances and correlations\n",
    "    - Test normality\n",
    "    - Choose good plots\n",
    "- Find by **regression** a good way to filter out setosa in the farmer sample (increases the the power of the final test)\n",
    "- Add a **test** to the filtered sample, checking if the farmer setosa leaves differ significantly from the reference sample\n",
    "- Conclude\n",
    "- (Additionally **exclude** all mutation hypotheses not compatible with this experiment)\n",
    "\n",
    "\n",
    "\n",
    "\n"
   ]
  },
  {
   "cell_type": "markdown",
   "metadata": {
    "id": "bjeOWLTPEKh5"
   },
   "source": [
    "**Definition of significant**\n",
    "\n",
    "We consider p-values below 0.001 as unlikely enough to reject the fluctuation hypothesis. We will for such values advice the court to consider it as a mutation. (This is a weak point that the laywers of Sonte Manto will of course attack.)"
   ]
  },
  {
   "cell_type": "markdown",
   "metadata": {
    "id": "vhPdmeIWEKh5"
   },
   "source": [
    "## 2. Description of the datasets"
   ]
  },
  {
   "cell_type": "markdown",
   "metadata": {
    "id": "9X4hV95yEKh6"
   },
   "source": [
    "We artificially create the datasets. Out of the first 30 entries from each Iris species make the reference sets (annotated/labeled). With the rest, 20 rows per species, we create a mixed sample being the farmer sample (not anotated).   "
   ]
  },
  {
   "cell_type": "markdown",
   "metadata": {
    "id": "dcT0YMpDEKh6"
   },
   "source": [
    "**Import modules we may need**"
   ]
  },
  {
   "cell_type": "code",
   "execution_count": 2,
   "metadata": {
    "executionInfo": {
     "elapsed": 1544,
     "status": "ok",
     "timestamp": 1693132306603,
     "user": {
      "displayName": "Anja Mühlemann",
      "userId": "13180139022750424409"
     },
     "user_tz": -120
    },
    "id": "zxLAHf2ZEKh7"
   },
   "outputs": [],
   "source": [
    "import numpy as np\n",
    "import matplotlib.pyplot as plt\n",
    "import pandas as pd\n",
    "from scipy import stats"
   ]
  },
  {
   "cell_type": "markdown",
   "metadata": {
    "id": "7PAJhqRjEKh8"
   },
   "source": [
    "**Create the datasets**"
   ]
  },
  {
   "cell_type": "code",
   "execution_count": 3,
   "metadata": {
    "colab": {
     "base_uri": "https://localhost:8080/"
    },
    "executionInfo": {
     "elapsed": 394,
     "status": "ok",
     "timestamp": 1693132306995,
     "user": {
      "displayName": "Anja Mühlemann",
      "userId": "13180139022750424409"
     },
     "user_tz": -120
    },
    "id": "NEaKzgytEKh9",
    "outputId": "eb38fab2-6017-4d23-fa36-adf857090e2c"
   },
   "outputs": [
    {
     "name": "stderr",
     "output_type": "stream",
     "text": [
      "C:\\Users\\tim94\\AppData\\Local\\Temp\\ipykernel_23508\\670061783.py:9: FutureWarning: The frame.append method is deprecated and will be removed from pandas in a future version. Use pandas.concat instead.\n",
      "  df_farm    = df_farm_1.append(df_farm_2.append(df_farm_3))\n",
      "C:\\Users\\tim94\\AppData\\Local\\Temp\\ipykernel_23508\\670061783.py:9: FutureWarning: The frame.append method is deprecated and will be removed from pandas in a future version. Use pandas.concat instead.\n",
      "  df_farm    = df_farm_1.append(df_farm_2.append(df_farm_3))\n"
     ]
    }
   ],
   "source": [
    "url = \"https://archive.ics.uci.edu/ml/machine-learning-databases/iris/iris.data\"\n",
    "df_org = pd.read_csv(url,names=['slength','swidth','plength','pwidth','species'])\n",
    "df_ref_set = df_org[df_org['species']=='Iris-setosa'][:30]\n",
    "df_ref_vir = df_org[df_org['species']=='Iris-virginica'][:30]\n",
    "df_ref_ver = df_org[df_org['species']=='Iris-versicolor'][:30]\n",
    "df_farm_1  = df_org[df_org['species']=='Iris-setosa'][30:]\n",
    "df_farm_2  = df_org[df_org['species']=='Iris-virginica'][30:]\n",
    "df_farm_3  = df_org[df_org['species']=='Iris-versicolor'][30:]\n",
    "df_farm    = df_farm_1.append(df_farm_2.append(df_farm_3))\n"
   ]
  },
  {
   "cell_type": "markdown",
   "metadata": {
    "id": "6c26uuPcEKh9"
   },
   "source": [
    "The labels in the farmer dataset are unknown, so we remove them to 'simulate' the real situation."
   ]
  },
  {
   "cell_type": "code",
   "execution_count": 4,
   "metadata": {
    "colab": {
     "base_uri": "https://localhost:8080/",
     "height": 206
    },
    "executionInfo": {
     "elapsed": 10,
     "status": "ok",
     "timestamp": 1693132306995,
     "user": {
      "displayName": "Anja Mühlemann",
      "userId": "13180139022750424409"
     },
     "user_tz": -120
    },
    "id": "VK_gWoawEKh-",
    "outputId": "21fdf2e3-7654-4c94-8e82-a920bf7be5d2"
   },
   "outputs": [
    {
     "data": {
      "text/html": [
       "<div>\n",
       "<style scoped>\n",
       "    .dataframe tbody tr th:only-of-type {\n",
       "        vertical-align: middle;\n",
       "    }\n",
       "\n",
       "    .dataframe tbody tr th {\n",
       "        vertical-align: top;\n",
       "    }\n",
       "\n",
       "    .dataframe thead th {\n",
       "        text-align: right;\n",
       "    }\n",
       "</style>\n",
       "<table border=\"1\" class=\"dataframe\">\n",
       "  <thead>\n",
       "    <tr style=\"text-align: right;\">\n",
       "      <th></th>\n",
       "      <th>slength</th>\n",
       "      <th>swidth</th>\n",
       "      <th>plength</th>\n",
       "      <th>pwidth</th>\n",
       "      <th>species</th>\n",
       "    </tr>\n",
       "  </thead>\n",
       "  <tbody>\n",
       "    <tr>\n",
       "      <th>30</th>\n",
       "      <td>4.8</td>\n",
       "      <td>3.1</td>\n",
       "      <td>1.6</td>\n",
       "      <td>0.2</td>\n",
       "      <td>Unknown</td>\n",
       "    </tr>\n",
       "    <tr>\n",
       "      <th>31</th>\n",
       "      <td>5.4</td>\n",
       "      <td>3.4</td>\n",
       "      <td>1.5</td>\n",
       "      <td>0.4</td>\n",
       "      <td>Unknown</td>\n",
       "    </tr>\n",
       "    <tr>\n",
       "      <th>32</th>\n",
       "      <td>5.2</td>\n",
       "      <td>4.1</td>\n",
       "      <td>1.5</td>\n",
       "      <td>0.1</td>\n",
       "      <td>Unknown</td>\n",
       "    </tr>\n",
       "    <tr>\n",
       "      <th>33</th>\n",
       "      <td>5.5</td>\n",
       "      <td>4.2</td>\n",
       "      <td>1.4</td>\n",
       "      <td>0.2</td>\n",
       "      <td>Unknown</td>\n",
       "    </tr>\n",
       "    <tr>\n",
       "      <th>34</th>\n",
       "      <td>4.9</td>\n",
       "      <td>3.1</td>\n",
       "      <td>1.5</td>\n",
       "      <td>0.1</td>\n",
       "      <td>Unknown</td>\n",
       "    </tr>\n",
       "  </tbody>\n",
       "</table>\n",
       "</div>"
      ],
      "text/plain": [
       "    slength  swidth  plength  pwidth  species\n",
       "30      4.8     3.1      1.6     0.2  Unknown\n",
       "31      5.4     3.4      1.5     0.4  Unknown\n",
       "32      5.2     4.1      1.5     0.1  Unknown\n",
       "33      5.5     4.2      1.4     0.2  Unknown\n",
       "34      4.9     3.1      1.5     0.1  Unknown"
      ]
     },
     "execution_count": 4,
     "metadata": {},
     "output_type": "execute_result"
    }
   ],
   "source": [
    "df_farm['species']='Unknown'\n",
    "df_farm.head()"
   ]
  },
  {
   "cell_type": "markdown",
   "metadata": {
    "id": "BRmnQSbHEKh_"
   },
   "source": [
    "**Describe setosa**"
   ]
  },
  {
   "cell_type": "code",
   "execution_count": 5,
   "metadata": {
    "colab": {
     "base_uri": "https://localhost:8080/",
     "height": 300
    },
    "executionInfo": {
     "elapsed": 9,
     "status": "ok",
     "timestamp": 1693132306996,
     "user": {
      "displayName": "Anja Mühlemann",
      "userId": "13180139022750424409"
     },
     "user_tz": -120
    },
    "id": "pUARmtDDEKiA",
    "outputId": "cf0135c1-8481-426c-ca70-f4f0175655b8"
   },
   "outputs": [
    {
     "data": {
      "text/html": [
       "<div>\n",
       "<style scoped>\n",
       "    .dataframe tbody tr th:only-of-type {\n",
       "        vertical-align: middle;\n",
       "    }\n",
       "\n",
       "    .dataframe tbody tr th {\n",
       "        vertical-align: top;\n",
       "    }\n",
       "\n",
       "    .dataframe thead th {\n",
       "        text-align: right;\n",
       "    }\n",
       "</style>\n",
       "<table border=\"1\" class=\"dataframe\">\n",
       "  <thead>\n",
       "    <tr style=\"text-align: right;\">\n",
       "      <th></th>\n",
       "      <th>slength</th>\n",
       "      <th>swidth</th>\n",
       "      <th>plength</th>\n",
       "      <th>pwidth</th>\n",
       "    </tr>\n",
       "  </thead>\n",
       "  <tbody>\n",
       "    <tr>\n",
       "      <th>count</th>\n",
       "      <td>30.000000</td>\n",
       "      <td>30.000000</td>\n",
       "      <td>30.000000</td>\n",
       "      <td>30.000000</td>\n",
       "    </tr>\n",
       "    <tr>\n",
       "      <th>mean</th>\n",
       "      <td>5.026667</td>\n",
       "      <td>3.450000</td>\n",
       "      <td>1.473333</td>\n",
       "      <td>0.246667</td>\n",
       "    </tr>\n",
       "    <tr>\n",
       "      <th>std</th>\n",
       "      <td>0.372256</td>\n",
       "      <td>0.350123</td>\n",
       "      <td>0.185571</td>\n",
       "      <td>0.100801</td>\n",
       "    </tr>\n",
       "    <tr>\n",
       "      <th>min</th>\n",
       "      <td>4.300000</td>\n",
       "      <td>2.900000</td>\n",
       "      <td>1.000000</td>\n",
       "      <td>0.100000</td>\n",
       "    </tr>\n",
       "    <tr>\n",
       "      <th>25%</th>\n",
       "      <td>4.800000</td>\n",
       "      <td>3.200000</td>\n",
       "      <td>1.400000</td>\n",
       "      <td>0.200000</td>\n",
       "    </tr>\n",
       "    <tr>\n",
       "      <th>50%</th>\n",
       "      <td>5.000000</td>\n",
       "      <td>3.400000</td>\n",
       "      <td>1.500000</td>\n",
       "      <td>0.200000</td>\n",
       "    </tr>\n",
       "    <tr>\n",
       "      <th>75%</th>\n",
       "      <td>5.200000</td>\n",
       "      <td>3.675000</td>\n",
       "      <td>1.600000</td>\n",
       "      <td>0.300000</td>\n",
       "    </tr>\n",
       "    <tr>\n",
       "      <th>max</th>\n",
       "      <td>5.800000</td>\n",
       "      <td>4.400000</td>\n",
       "      <td>1.900000</td>\n",
       "      <td>0.500000</td>\n",
       "    </tr>\n",
       "  </tbody>\n",
       "</table>\n",
       "</div>"
      ],
      "text/plain": [
       "         slength     swidth    plength     pwidth\n",
       "count  30.000000  30.000000  30.000000  30.000000\n",
       "mean    5.026667   3.450000   1.473333   0.246667\n",
       "std     0.372256   0.350123   0.185571   0.100801\n",
       "min     4.300000   2.900000   1.000000   0.100000\n",
       "25%     4.800000   3.200000   1.400000   0.200000\n",
       "50%     5.000000   3.400000   1.500000   0.200000\n",
       "75%     5.200000   3.675000   1.600000   0.300000\n",
       "max     5.800000   4.400000   1.900000   0.500000"
      ]
     },
     "execution_count": 5,
     "metadata": {},
     "output_type": "execute_result"
    }
   ],
   "source": [
    "df_ref_set.describe()"
   ]
  },
  {
   "cell_type": "markdown",
   "metadata": {
    "id": "J4_zUV0j-4Ej"
   },
   "source": [
    "**Describe virginica**"
   ]
  },
  {
   "cell_type": "code",
   "execution_count": 5,
   "metadata": {
    "colab": {
     "base_uri": "https://localhost:8080/",
     "height": 300
    },
    "executionInfo": {
     "elapsed": 457,
     "status": "ok",
     "timestamp": 1693132307444,
     "user": {
      "displayName": "Anja Mühlemann",
      "userId": "13180139022750424409"
     },
     "user_tz": -120
    },
    "id": "lxrZUUiHEKiA",
    "outputId": "5b3800f1-a529-4cb7-fadb-f3429e87fa66"
   },
   "outputs": [
    {
     "data": {
      "text/html": [
       "\n",
       "  <div id=\"df-5b08fc5d-a0e0-4938-ab2c-29f89d93e467\" class=\"colab-df-container\">\n",
       "    <div>\n",
       "<style scoped>\n",
       "    .dataframe tbody tr th:only-of-type {\n",
       "        vertical-align: middle;\n",
       "    }\n",
       "\n",
       "    .dataframe tbody tr th {\n",
       "        vertical-align: top;\n",
       "    }\n",
       "\n",
       "    .dataframe thead th {\n",
       "        text-align: right;\n",
       "    }\n",
       "</style>\n",
       "<table border=\"1\" class=\"dataframe\">\n",
       "  <thead>\n",
       "    <tr style=\"text-align: right;\">\n",
       "      <th></th>\n",
       "      <th>slength</th>\n",
       "      <th>swidth</th>\n",
       "      <th>plength</th>\n",
       "      <th>pwidth</th>\n",
       "    </tr>\n",
       "  </thead>\n",
       "  <tbody>\n",
       "    <tr>\n",
       "      <th>count</th>\n",
       "      <td>30.000000</td>\n",
       "      <td>30.000000</td>\n",
       "      <td>30.000000</td>\n",
       "      <td>30.000000</td>\n",
       "    </tr>\n",
       "    <tr>\n",
       "      <th>mean</th>\n",
       "      <td>6.583333</td>\n",
       "      <td>2.933333</td>\n",
       "      <td>5.603333</td>\n",
       "      <td>2.006667</td>\n",
       "    </tr>\n",
       "    <tr>\n",
       "      <th>std</th>\n",
       "      <td>0.688869</td>\n",
       "      <td>0.334595</td>\n",
       "      <td>0.626695</td>\n",
       "      <td>0.255874</td>\n",
       "    </tr>\n",
       "    <tr>\n",
       "      <th>min</th>\n",
       "      <td>4.900000</td>\n",
       "      <td>2.200000</td>\n",
       "      <td>4.500000</td>\n",
       "      <td>1.500000</td>\n",
       "    </tr>\n",
       "    <tr>\n",
       "      <th>25%</th>\n",
       "      <td>6.225000</td>\n",
       "      <td>2.725000</td>\n",
       "      <td>5.100000</td>\n",
       "      <td>1.800000</td>\n",
       "    </tr>\n",
       "    <tr>\n",
       "      <th>50%</th>\n",
       "      <td>6.500000</td>\n",
       "      <td>2.950000</td>\n",
       "      <td>5.600000</td>\n",
       "      <td>2.000000</td>\n",
       "    </tr>\n",
       "    <tr>\n",
       "      <th>75%</th>\n",
       "      <td>7.175000</td>\n",
       "      <td>3.150000</td>\n",
       "      <td>5.975000</td>\n",
       "      <td>2.175000</td>\n",
       "    </tr>\n",
       "    <tr>\n",
       "      <th>max</th>\n",
       "      <td>7.700000</td>\n",
       "      <td>3.800000</td>\n",
       "      <td>6.900000</td>\n",
       "      <td>2.500000</td>\n",
       "    </tr>\n",
       "  </tbody>\n",
       "</table>\n",
       "</div>\n",
       "    <div class=\"colab-df-buttons\">\n",
       "\n",
       "  <div class=\"colab-df-container\">\n",
       "    <button class=\"colab-df-convert\" onclick=\"convertToInteractive('df-5b08fc5d-a0e0-4938-ab2c-29f89d93e467')\"\n",
       "            title=\"Convert this dataframe to an interactive table.\"\n",
       "            style=\"display:none;\">\n",
       "\n",
       "  <svg xmlns=\"http://www.w3.org/2000/svg\" height=\"24px\" viewBox=\"0 -960 960 960\">\n",
       "    <path d=\"M120-120v-720h720v720H120Zm60-500h600v-160H180v160Zm220 220h160v-160H400v160Zm0 220h160v-160H400v160ZM180-400h160v-160H180v160Zm440 0h160v-160H620v160ZM180-180h160v-160H180v160Zm440 0h160v-160H620v160Z\"/>\n",
       "  </svg>\n",
       "    </button>\n",
       "\n",
       "  <style>\n",
       "    .colab-df-container {\n",
       "      display:flex;\n",
       "      gap: 12px;\n",
       "    }\n",
       "\n",
       "    .colab-df-convert {\n",
       "      background-color: #E8F0FE;\n",
       "      border: none;\n",
       "      border-radius: 50%;\n",
       "      cursor: pointer;\n",
       "      display: none;\n",
       "      fill: #1967D2;\n",
       "      height: 32px;\n",
       "      padding: 0 0 0 0;\n",
       "      width: 32px;\n",
       "    }\n",
       "\n",
       "    .colab-df-convert:hover {\n",
       "      background-color: #E2EBFA;\n",
       "      box-shadow: 0px 1px 2px rgba(60, 64, 67, 0.3), 0px 1px 3px 1px rgba(60, 64, 67, 0.15);\n",
       "      fill: #174EA6;\n",
       "    }\n",
       "\n",
       "    .colab-df-buttons div {\n",
       "      margin-bottom: 4px;\n",
       "    }\n",
       "\n",
       "    [theme=dark] .colab-df-convert {\n",
       "      background-color: #3B4455;\n",
       "      fill: #D2E3FC;\n",
       "    }\n",
       "\n",
       "    [theme=dark] .colab-df-convert:hover {\n",
       "      background-color: #434B5C;\n",
       "      box-shadow: 0px 1px 3px 1px rgba(0, 0, 0, 0.15);\n",
       "      filter: drop-shadow(0px 1px 2px rgba(0, 0, 0, 0.3));\n",
       "      fill: #FFFFFF;\n",
       "    }\n",
       "  </style>\n",
       "\n",
       "    <script>\n",
       "      const buttonEl =\n",
       "        document.querySelector('#df-5b08fc5d-a0e0-4938-ab2c-29f89d93e467 button.colab-df-convert');\n",
       "      buttonEl.style.display =\n",
       "        google.colab.kernel.accessAllowed ? 'block' : 'none';\n",
       "\n",
       "      async function convertToInteractive(key) {\n",
       "        const element = document.querySelector('#df-5b08fc5d-a0e0-4938-ab2c-29f89d93e467');\n",
       "        const dataTable =\n",
       "          await google.colab.kernel.invokeFunction('convertToInteractive',\n",
       "                                                    [key], {});\n",
       "        if (!dataTable) return;\n",
       "\n",
       "        const docLinkHtml = 'Like what you see? Visit the ' +\n",
       "          '<a target=\"_blank\" href=https://colab.research.google.com/notebooks/data_table.ipynb>data table notebook</a>'\n",
       "          + ' to learn more about interactive tables.';\n",
       "        element.innerHTML = '';\n",
       "        dataTable['output_type'] = 'display_data';\n",
       "        await google.colab.output.renderOutput(dataTable, element);\n",
       "        const docLink = document.createElement('div');\n",
       "        docLink.innerHTML = docLinkHtml;\n",
       "        element.appendChild(docLink);\n",
       "      }\n",
       "    </script>\n",
       "  </div>\n",
       "\n",
       "\n",
       "<div id=\"df-8304b6a7-a394-44a4-bf0e-c13306dc3776\">\n",
       "  <button class=\"colab-df-quickchart\" onclick=\"quickchart('df-8304b6a7-a394-44a4-bf0e-c13306dc3776')\"\n",
       "            title=\"Suggest charts.\"\n",
       "            style=\"display:none;\">\n",
       "\n",
       "<svg xmlns=\"http://www.w3.org/2000/svg\" height=\"24px\"viewBox=\"0 0 24 24\"\n",
       "     width=\"24px\">\n",
       "    <g>\n",
       "        <path d=\"M19 3H5c-1.1 0-2 .9-2 2v14c0 1.1.9 2 2 2h14c1.1 0 2-.9 2-2V5c0-1.1-.9-2-2-2zM9 17H7v-7h2v7zm4 0h-2V7h2v10zm4 0h-2v-4h2v4z\"/>\n",
       "    </g>\n",
       "</svg>\n",
       "  </button>\n",
       "\n",
       "<style>\n",
       "  .colab-df-quickchart {\n",
       "    background-color: #E8F0FE;\n",
       "    border: none;\n",
       "    border-radius: 50%;\n",
       "    cursor: pointer;\n",
       "    display: none;\n",
       "    fill: #1967D2;\n",
       "    height: 32px;\n",
       "    padding: 0 0 0 0;\n",
       "    width: 32px;\n",
       "  }\n",
       "\n",
       "  .colab-df-quickchart:hover {\n",
       "    background-color: #E2EBFA;\n",
       "    box-shadow: 0px 1px 2px rgba(60, 64, 67, 0.3), 0px 1px 3px 1px rgba(60, 64, 67, 0.15);\n",
       "    fill: #174EA6;\n",
       "  }\n",
       "\n",
       "  [theme=dark] .colab-df-quickchart {\n",
       "    background-color: #3B4455;\n",
       "    fill: #D2E3FC;\n",
       "  }\n",
       "\n",
       "  [theme=dark] .colab-df-quickchart:hover {\n",
       "    background-color: #434B5C;\n",
       "    box-shadow: 0px 1px 3px 1px rgba(0, 0, 0, 0.15);\n",
       "    filter: drop-shadow(0px 1px 2px rgba(0, 0, 0, 0.3));\n",
       "    fill: #FFFFFF;\n",
       "  }\n",
       "</style>\n",
       "\n",
       "  <script>\n",
       "    async function quickchart(key) {\n",
       "      const charts = await google.colab.kernel.invokeFunction(\n",
       "          'suggestCharts', [key], {});\n",
       "    }\n",
       "    (() => {\n",
       "      let quickchartButtonEl =\n",
       "        document.querySelector('#df-8304b6a7-a394-44a4-bf0e-c13306dc3776 button');\n",
       "      quickchartButtonEl.style.display =\n",
       "        google.colab.kernel.accessAllowed ? 'block' : 'none';\n",
       "    })();\n",
       "  </script>\n",
       "</div>\n",
       "    </div>\n",
       "  </div>\n"
      ],
      "text/plain": [
       "         slength     swidth    plength     pwidth\n",
       "count  30.000000  30.000000  30.000000  30.000000\n",
       "mean    6.583333   2.933333   5.603333   2.006667\n",
       "std     0.688869   0.334595   0.626695   0.255874\n",
       "min     4.900000   2.200000   4.500000   1.500000\n",
       "25%     6.225000   2.725000   5.100000   1.800000\n",
       "50%     6.500000   2.950000   5.600000   2.000000\n",
       "75%     7.175000   3.150000   5.975000   2.175000\n",
       "max     7.700000   3.800000   6.900000   2.500000"
      ]
     },
     "execution_count": 5,
     "metadata": {},
     "output_type": "execute_result"
    }
   ],
   "source": [
    "df_ref_vir.describe()"
   ]
  },
  {
   "cell_type": "markdown",
   "metadata": {
    "id": "WAduKX_u_ApX"
   },
   "source": [
    "**Describe versicolor**"
   ]
  },
  {
   "cell_type": "code",
   "execution_count": 6,
   "metadata": {
    "colab": {
     "base_uri": "https://localhost:8080/",
     "height": 300
    },
    "executionInfo": {
     "elapsed": 15,
     "status": "ok",
     "timestamp": 1693132307444,
     "user": {
      "displayName": "Anja Mühlemann",
      "userId": "13180139022750424409"
     },
     "user_tz": -120
    },
    "id": "YoN5EqrREKiA",
    "outputId": "8b20cd26-6363-45c3-b453-a529d9779564"
   },
   "outputs": [
    {
     "data": {
      "text/html": [
       "\n",
       "  <div id=\"df-782b69c6-e9a7-49d4-ba7f-7f02d685828b\" class=\"colab-df-container\">\n",
       "    <div>\n",
       "<style scoped>\n",
       "    .dataframe tbody tr th:only-of-type {\n",
       "        vertical-align: middle;\n",
       "    }\n",
       "\n",
       "    .dataframe tbody tr th {\n",
       "        vertical-align: top;\n",
       "    }\n",
       "\n",
       "    .dataframe thead th {\n",
       "        text-align: right;\n",
       "    }\n",
       "</style>\n",
       "<table border=\"1\" class=\"dataframe\">\n",
       "  <thead>\n",
       "    <tr style=\"text-align: right;\">\n",
       "      <th></th>\n",
       "      <th>slength</th>\n",
       "      <th>swidth</th>\n",
       "      <th>plength</th>\n",
       "      <th>pwidth</th>\n",
       "    </tr>\n",
       "  </thead>\n",
       "  <tbody>\n",
       "    <tr>\n",
       "      <th>count</th>\n",
       "      <td>30.000000</td>\n",
       "      <td>30.000000</td>\n",
       "      <td>30.000000</td>\n",
       "      <td>30.000000</td>\n",
       "    </tr>\n",
       "    <tr>\n",
       "      <th>mean</th>\n",
       "      <td>6.070000</td>\n",
       "      <td>2.790000</td>\n",
       "      <td>4.333333</td>\n",
       "      <td>1.353333</td>\n",
       "    </tr>\n",
       "    <tr>\n",
       "      <th>std</th>\n",
       "      <td>0.545925</td>\n",
       "      <td>0.328371</td>\n",
       "      <td>0.459635</td>\n",
       "      <td>0.211291</td>\n",
       "    </tr>\n",
       "    <tr>\n",
       "      <th>min</th>\n",
       "      <td>4.900000</td>\n",
       "      <td>2.000000</td>\n",
       "      <td>3.300000</td>\n",
       "      <td>1.000000</td>\n",
       "    </tr>\n",
       "    <tr>\n",
       "      <th>25%</th>\n",
       "      <td>5.700000</td>\n",
       "      <td>2.625000</td>\n",
       "      <td>4.000000</td>\n",
       "      <td>1.300000</td>\n",
       "    </tr>\n",
       "    <tr>\n",
       "      <th>50%</th>\n",
       "      <td>6.100000</td>\n",
       "      <td>2.850000</td>\n",
       "      <td>4.500000</td>\n",
       "      <td>1.400000</td>\n",
       "    </tr>\n",
       "    <tr>\n",
       "      <th>75%</th>\n",
       "      <td>6.475000</td>\n",
       "      <td>3.000000</td>\n",
       "      <td>4.700000</td>\n",
       "      <td>1.500000</td>\n",
       "    </tr>\n",
       "    <tr>\n",
       "      <th>max</th>\n",
       "      <td>7.000000</td>\n",
       "      <td>3.300000</td>\n",
       "      <td>5.000000</td>\n",
       "      <td>1.800000</td>\n",
       "    </tr>\n",
       "  </tbody>\n",
       "</table>\n",
       "</div>\n",
       "    <div class=\"colab-df-buttons\">\n",
       "\n",
       "  <div class=\"colab-df-container\">\n",
       "    <button class=\"colab-df-convert\" onclick=\"convertToInteractive('df-782b69c6-e9a7-49d4-ba7f-7f02d685828b')\"\n",
       "            title=\"Convert this dataframe to an interactive table.\"\n",
       "            style=\"display:none;\">\n",
       "\n",
       "  <svg xmlns=\"http://www.w3.org/2000/svg\" height=\"24px\" viewBox=\"0 -960 960 960\">\n",
       "    <path d=\"M120-120v-720h720v720H120Zm60-500h600v-160H180v160Zm220 220h160v-160H400v160Zm0 220h160v-160H400v160ZM180-400h160v-160H180v160Zm440 0h160v-160H620v160ZM180-180h160v-160H180v160Zm440 0h160v-160H620v160Z\"/>\n",
       "  </svg>\n",
       "    </button>\n",
       "\n",
       "  <style>\n",
       "    .colab-df-container {\n",
       "      display:flex;\n",
       "      gap: 12px;\n",
       "    }\n",
       "\n",
       "    .colab-df-convert {\n",
       "      background-color: #E8F0FE;\n",
       "      border: none;\n",
       "      border-radius: 50%;\n",
       "      cursor: pointer;\n",
       "      display: none;\n",
       "      fill: #1967D2;\n",
       "      height: 32px;\n",
       "      padding: 0 0 0 0;\n",
       "      width: 32px;\n",
       "    }\n",
       "\n",
       "    .colab-df-convert:hover {\n",
       "      background-color: #E2EBFA;\n",
       "      box-shadow: 0px 1px 2px rgba(60, 64, 67, 0.3), 0px 1px 3px 1px rgba(60, 64, 67, 0.15);\n",
       "      fill: #174EA6;\n",
       "    }\n",
       "\n",
       "    .colab-df-buttons div {\n",
       "      margin-bottom: 4px;\n",
       "    }\n",
       "\n",
       "    [theme=dark] .colab-df-convert {\n",
       "      background-color: #3B4455;\n",
       "      fill: #D2E3FC;\n",
       "    }\n",
       "\n",
       "    [theme=dark] .colab-df-convert:hover {\n",
       "      background-color: #434B5C;\n",
       "      box-shadow: 0px 1px 3px 1px rgba(0, 0, 0, 0.15);\n",
       "      filter: drop-shadow(0px 1px 2px rgba(0, 0, 0, 0.3));\n",
       "      fill: #FFFFFF;\n",
       "    }\n",
       "  </style>\n",
       "\n",
       "    <script>\n",
       "      const buttonEl =\n",
       "        document.querySelector('#df-782b69c6-e9a7-49d4-ba7f-7f02d685828b button.colab-df-convert');\n",
       "      buttonEl.style.display =\n",
       "        google.colab.kernel.accessAllowed ? 'block' : 'none';\n",
       "\n",
       "      async function convertToInteractive(key) {\n",
       "        const element = document.querySelector('#df-782b69c6-e9a7-49d4-ba7f-7f02d685828b');\n",
       "        const dataTable =\n",
       "          await google.colab.kernel.invokeFunction('convertToInteractive',\n",
       "                                                    [key], {});\n",
       "        if (!dataTable) return;\n",
       "\n",
       "        const docLinkHtml = 'Like what you see? Visit the ' +\n",
       "          '<a target=\"_blank\" href=https://colab.research.google.com/notebooks/data_table.ipynb>data table notebook</a>'\n",
       "          + ' to learn more about interactive tables.';\n",
       "        element.innerHTML = '';\n",
       "        dataTable['output_type'] = 'display_data';\n",
       "        await google.colab.output.renderOutput(dataTable, element);\n",
       "        const docLink = document.createElement('div');\n",
       "        docLink.innerHTML = docLinkHtml;\n",
       "        element.appendChild(docLink);\n",
       "      }\n",
       "    </script>\n",
       "  </div>\n",
       "\n",
       "\n",
       "<div id=\"df-a785f198-1f2c-461f-8bd0-97d054d7e266\">\n",
       "  <button class=\"colab-df-quickchart\" onclick=\"quickchart('df-a785f198-1f2c-461f-8bd0-97d054d7e266')\"\n",
       "            title=\"Suggest charts.\"\n",
       "            style=\"display:none;\">\n",
       "\n",
       "<svg xmlns=\"http://www.w3.org/2000/svg\" height=\"24px\"viewBox=\"0 0 24 24\"\n",
       "     width=\"24px\">\n",
       "    <g>\n",
       "        <path d=\"M19 3H5c-1.1 0-2 .9-2 2v14c0 1.1.9 2 2 2h14c1.1 0 2-.9 2-2V5c0-1.1-.9-2-2-2zM9 17H7v-7h2v7zm4 0h-2V7h2v10zm4 0h-2v-4h2v4z\"/>\n",
       "    </g>\n",
       "</svg>\n",
       "  </button>\n",
       "\n",
       "<style>\n",
       "  .colab-df-quickchart {\n",
       "    background-color: #E8F0FE;\n",
       "    border: none;\n",
       "    border-radius: 50%;\n",
       "    cursor: pointer;\n",
       "    display: none;\n",
       "    fill: #1967D2;\n",
       "    height: 32px;\n",
       "    padding: 0 0 0 0;\n",
       "    width: 32px;\n",
       "  }\n",
       "\n",
       "  .colab-df-quickchart:hover {\n",
       "    background-color: #E2EBFA;\n",
       "    box-shadow: 0px 1px 2px rgba(60, 64, 67, 0.3), 0px 1px 3px 1px rgba(60, 64, 67, 0.15);\n",
       "    fill: #174EA6;\n",
       "  }\n",
       "\n",
       "  [theme=dark] .colab-df-quickchart {\n",
       "    background-color: #3B4455;\n",
       "    fill: #D2E3FC;\n",
       "  }\n",
       "\n",
       "  [theme=dark] .colab-df-quickchart:hover {\n",
       "    background-color: #434B5C;\n",
       "    box-shadow: 0px 1px 3px 1px rgba(0, 0, 0, 0.15);\n",
       "    filter: drop-shadow(0px 1px 2px rgba(0, 0, 0, 0.3));\n",
       "    fill: #FFFFFF;\n",
       "  }\n",
       "</style>\n",
       "\n",
       "  <script>\n",
       "    async function quickchart(key) {\n",
       "      const charts = await google.colab.kernel.invokeFunction(\n",
       "          'suggestCharts', [key], {});\n",
       "    }\n",
       "    (() => {\n",
       "      let quickchartButtonEl =\n",
       "        document.querySelector('#df-a785f198-1f2c-461f-8bd0-97d054d7e266 button');\n",
       "      quickchartButtonEl.style.display =\n",
       "        google.colab.kernel.accessAllowed ? 'block' : 'none';\n",
       "    })();\n",
       "  </script>\n",
       "</div>\n",
       "    </div>\n",
       "  </div>\n"
      ],
      "text/plain": [
       "         slength     swidth    plength     pwidth\n",
       "count  30.000000  30.000000  30.000000  30.000000\n",
       "mean    6.070000   2.790000   4.333333   1.353333\n",
       "std     0.545925   0.328371   0.459635   0.211291\n",
       "min     4.900000   2.000000   3.300000   1.000000\n",
       "25%     5.700000   2.625000   4.000000   1.300000\n",
       "50%     6.100000   2.850000   4.500000   1.400000\n",
       "75%     6.475000   3.000000   4.700000   1.500000\n",
       "max     7.000000   3.300000   5.000000   1.800000"
      ]
     },
     "execution_count": 6,
     "metadata": {},
     "output_type": "execute_result"
    }
   ],
   "source": [
    "df_ref_ver.describe()"
   ]
  },
  {
   "cell_type": "markdown",
   "metadata": {
    "id": "ThAkLAUG_GD7"
   },
   "source": [
    "**Describe the unknown sample**"
   ]
  },
  {
   "cell_type": "code",
   "execution_count": 7,
   "metadata": {
    "colab": {
     "base_uri": "https://localhost:8080/",
     "height": 300
    },
    "executionInfo": {
     "elapsed": 12,
     "status": "ok",
     "timestamp": 1693132307444,
     "user": {
      "displayName": "Anja Mühlemann",
      "userId": "13180139022750424409"
     },
     "user_tz": -120
    },
    "id": "yO6g0yI1_Moc",
    "outputId": "6026eca6-35c4-4f62-c190-c4d37b659953"
   },
   "outputs": [
    {
     "data": {
      "text/html": [
       "\n",
       "  <div id=\"df-0080b637-c097-408e-8700-389394305aad\" class=\"colab-df-container\">\n",
       "    <div>\n",
       "<style scoped>\n",
       "    .dataframe tbody tr th:only-of-type {\n",
       "        vertical-align: middle;\n",
       "    }\n",
       "\n",
       "    .dataframe tbody tr th {\n",
       "        vertical-align: top;\n",
       "    }\n",
       "\n",
       "    .dataframe thead th {\n",
       "        text-align: right;\n",
       "    }\n",
       "</style>\n",
       "<table border=\"1\" class=\"dataframe\">\n",
       "  <thead>\n",
       "    <tr style=\"text-align: right;\">\n",
       "      <th></th>\n",
       "      <th>slength</th>\n",
       "      <th>swidth</th>\n",
       "      <th>plength</th>\n",
       "      <th>pwidth</th>\n",
       "    </tr>\n",
       "  </thead>\n",
       "  <tbody>\n",
       "    <tr>\n",
       "      <th>count</th>\n",
       "      <td>60.000000</td>\n",
       "      <td>60.000000</td>\n",
       "      <td>60.000000</td>\n",
       "      <td>60.000000</td>\n",
       "    </tr>\n",
       "    <tr>\n",
       "      <th>mean</th>\n",
       "      <td>5.768333</td>\n",
       "      <td>3.048333</td>\n",
       "      <td>3.691667</td>\n",
       "      <td>1.193333</td>\n",
       "    </tr>\n",
       "    <tr>\n",
       "      <th>std</th>\n",
       "      <td>0.796495</td>\n",
       "      <td>0.428830</td>\n",
       "      <td>1.729141</td>\n",
       "      <td>0.778932</td>\n",
       "    </tr>\n",
       "    <tr>\n",
       "      <th>min</th>\n",
       "      <td>4.400000</td>\n",
       "      <td>2.300000</td>\n",
       "      <td>1.200000</td>\n",
       "      <td>0.100000</td>\n",
       "    </tr>\n",
       "    <tr>\n",
       "      <th>25%</th>\n",
       "      <td>5.100000</td>\n",
       "      <td>2.775000</td>\n",
       "      <td>1.500000</td>\n",
       "      <td>0.300000</td>\n",
       "    </tr>\n",
       "    <tr>\n",
       "      <th>50%</th>\n",
       "      <td>5.700000</td>\n",
       "      <td>3.000000</td>\n",
       "      <td>4.200000</td>\n",
       "      <td>1.300000</td>\n",
       "    </tr>\n",
       "    <tr>\n",
       "      <th>75%</th>\n",
       "      <td>6.300000</td>\n",
       "      <td>3.300000</td>\n",
       "      <td>5.100000</td>\n",
       "      <td>1.825000</td>\n",
       "    </tr>\n",
       "    <tr>\n",
       "      <th>max</th>\n",
       "      <td>7.900000</td>\n",
       "      <td>4.200000</td>\n",
       "      <td>6.400000</td>\n",
       "      <td>2.500000</td>\n",
       "    </tr>\n",
       "  </tbody>\n",
       "</table>\n",
       "</div>\n",
       "    <div class=\"colab-df-buttons\">\n",
       "\n",
       "  <div class=\"colab-df-container\">\n",
       "    <button class=\"colab-df-convert\" onclick=\"convertToInteractive('df-0080b637-c097-408e-8700-389394305aad')\"\n",
       "            title=\"Convert this dataframe to an interactive table.\"\n",
       "            style=\"display:none;\">\n",
       "\n",
       "  <svg xmlns=\"http://www.w3.org/2000/svg\" height=\"24px\" viewBox=\"0 -960 960 960\">\n",
       "    <path d=\"M120-120v-720h720v720H120Zm60-500h600v-160H180v160Zm220 220h160v-160H400v160Zm0 220h160v-160H400v160ZM180-400h160v-160H180v160Zm440 0h160v-160H620v160ZM180-180h160v-160H180v160Zm440 0h160v-160H620v160Z\"/>\n",
       "  </svg>\n",
       "    </button>\n",
       "\n",
       "  <style>\n",
       "    .colab-df-container {\n",
       "      display:flex;\n",
       "      gap: 12px;\n",
       "    }\n",
       "\n",
       "    .colab-df-convert {\n",
       "      background-color: #E8F0FE;\n",
       "      border: none;\n",
       "      border-radius: 50%;\n",
       "      cursor: pointer;\n",
       "      display: none;\n",
       "      fill: #1967D2;\n",
       "      height: 32px;\n",
       "      padding: 0 0 0 0;\n",
       "      width: 32px;\n",
       "    }\n",
       "\n",
       "    .colab-df-convert:hover {\n",
       "      background-color: #E2EBFA;\n",
       "      box-shadow: 0px 1px 2px rgba(60, 64, 67, 0.3), 0px 1px 3px 1px rgba(60, 64, 67, 0.15);\n",
       "      fill: #174EA6;\n",
       "    }\n",
       "\n",
       "    .colab-df-buttons div {\n",
       "      margin-bottom: 4px;\n",
       "    }\n",
       "\n",
       "    [theme=dark] .colab-df-convert {\n",
       "      background-color: #3B4455;\n",
       "      fill: #D2E3FC;\n",
       "    }\n",
       "\n",
       "    [theme=dark] .colab-df-convert:hover {\n",
       "      background-color: #434B5C;\n",
       "      box-shadow: 0px 1px 3px 1px rgba(0, 0, 0, 0.15);\n",
       "      filter: drop-shadow(0px 1px 2px rgba(0, 0, 0, 0.3));\n",
       "      fill: #FFFFFF;\n",
       "    }\n",
       "  </style>\n",
       "\n",
       "    <script>\n",
       "      const buttonEl =\n",
       "        document.querySelector('#df-0080b637-c097-408e-8700-389394305aad button.colab-df-convert');\n",
       "      buttonEl.style.display =\n",
       "        google.colab.kernel.accessAllowed ? 'block' : 'none';\n",
       "\n",
       "      async function convertToInteractive(key) {\n",
       "        const element = document.querySelector('#df-0080b637-c097-408e-8700-389394305aad');\n",
       "        const dataTable =\n",
       "          await google.colab.kernel.invokeFunction('convertToInteractive',\n",
       "                                                    [key], {});\n",
       "        if (!dataTable) return;\n",
       "\n",
       "        const docLinkHtml = 'Like what you see? Visit the ' +\n",
       "          '<a target=\"_blank\" href=https://colab.research.google.com/notebooks/data_table.ipynb>data table notebook</a>'\n",
       "          + ' to learn more about interactive tables.';\n",
       "        element.innerHTML = '';\n",
       "        dataTable['output_type'] = 'display_data';\n",
       "        await google.colab.output.renderOutput(dataTable, element);\n",
       "        const docLink = document.createElement('div');\n",
       "        docLink.innerHTML = docLinkHtml;\n",
       "        element.appendChild(docLink);\n",
       "      }\n",
       "    </script>\n",
       "  </div>\n",
       "\n",
       "\n",
       "<div id=\"df-23b98c9f-8b8a-4c2b-8439-dc48fb14a889\">\n",
       "  <button class=\"colab-df-quickchart\" onclick=\"quickchart('df-23b98c9f-8b8a-4c2b-8439-dc48fb14a889')\"\n",
       "            title=\"Suggest charts.\"\n",
       "            style=\"display:none;\">\n",
       "\n",
       "<svg xmlns=\"http://www.w3.org/2000/svg\" height=\"24px\"viewBox=\"0 0 24 24\"\n",
       "     width=\"24px\">\n",
       "    <g>\n",
       "        <path d=\"M19 3H5c-1.1 0-2 .9-2 2v14c0 1.1.9 2 2 2h14c1.1 0 2-.9 2-2V5c0-1.1-.9-2-2-2zM9 17H7v-7h2v7zm4 0h-2V7h2v10zm4 0h-2v-4h2v4z\"/>\n",
       "    </g>\n",
       "</svg>\n",
       "  </button>\n",
       "\n",
       "<style>\n",
       "  .colab-df-quickchart {\n",
       "    background-color: #E8F0FE;\n",
       "    border: none;\n",
       "    border-radius: 50%;\n",
       "    cursor: pointer;\n",
       "    display: none;\n",
       "    fill: #1967D2;\n",
       "    height: 32px;\n",
       "    padding: 0 0 0 0;\n",
       "    width: 32px;\n",
       "  }\n",
       "\n",
       "  .colab-df-quickchart:hover {\n",
       "    background-color: #E2EBFA;\n",
       "    box-shadow: 0px 1px 2px rgba(60, 64, 67, 0.3), 0px 1px 3px 1px rgba(60, 64, 67, 0.15);\n",
       "    fill: #174EA6;\n",
       "  }\n",
       "\n",
       "  [theme=dark] .colab-df-quickchart {\n",
       "    background-color: #3B4455;\n",
       "    fill: #D2E3FC;\n",
       "  }\n",
       "\n",
       "  [theme=dark] .colab-df-quickchart:hover {\n",
       "    background-color: #434B5C;\n",
       "    box-shadow: 0px 1px 3px 1px rgba(0, 0, 0, 0.15);\n",
       "    filter: drop-shadow(0px 1px 2px rgba(0, 0, 0, 0.3));\n",
       "    fill: #FFFFFF;\n",
       "  }\n",
       "</style>\n",
       "\n",
       "  <script>\n",
       "    async function quickchart(key) {\n",
       "      const charts = await google.colab.kernel.invokeFunction(\n",
       "          'suggestCharts', [key], {});\n",
       "    }\n",
       "    (() => {\n",
       "      let quickchartButtonEl =\n",
       "        document.querySelector('#df-23b98c9f-8b8a-4c2b-8439-dc48fb14a889 button');\n",
       "      quickchartButtonEl.style.display =\n",
       "        google.colab.kernel.accessAllowed ? 'block' : 'none';\n",
       "    })();\n",
       "  </script>\n",
       "</div>\n",
       "    </div>\n",
       "  </div>\n"
      ],
      "text/plain": [
       "         slength     swidth    plength     pwidth\n",
       "count  60.000000  60.000000  60.000000  60.000000\n",
       "mean    5.768333   3.048333   3.691667   1.193333\n",
       "std     0.796495   0.428830   1.729141   0.778932\n",
       "min     4.400000   2.300000   1.200000   0.100000\n",
       "25%     5.100000   2.775000   1.500000   0.300000\n",
       "50%     5.700000   3.000000   4.200000   1.300000\n",
       "75%     6.300000   3.300000   5.100000   1.825000\n",
       "max     7.900000   4.200000   6.400000   2.500000"
      ]
     },
     "execution_count": 7,
     "metadata": {},
     "output_type": "execute_result"
    }
   ],
   "source": [
    "df_farm.describe()"
   ]
  },
  {
   "cell_type": "markdown",
   "metadata": {
    "id": "8sp4LwMn_QK9"
   },
   "source": [
    "The descriptive measures from the possibly mutated sample do not seem to differ a lot from the known species. But since it's a mix it also does not really coincide with a specific species"
   ]
  },
  {
   "cell_type": "markdown",
   "metadata": {
    "id": "SFSh1lC-EKiC"
   },
   "source": [
    "**Plot the histograms**"
   ]
  },
  {
   "cell_type": "code",
   "execution_count": 6,
   "metadata": {
    "colab": {
     "base_uri": "https://localhost:8080/",
     "height": 853
    },
    "executionInfo": {
     "elapsed": 1531,
     "status": "ok",
     "timestamp": 1693132410517,
     "user": {
      "displayName": "Anja Mühlemann",
      "userId": "13180139022750424409"
     },
     "user_tz": -120
    },
    "id": "yM8ke-zjEKiD",
    "outputId": "979922aa-fc3b-42a7-89d1-8c59c7909b27"
   },
   "outputs": [
    {
     "data": {
      "image/png": "[encoded data removed]",
      "text/plain": [
       "<Figure size 1200x1000 with 4 Axes>"
      ]
     },
     "metadata": {},
     "output_type": "display_data"
    }
   ],
   "source": [
    "datasets = [df_ref_set['swidth'],df_ref_vir['swidth'],df_ref_ver['swidth'],df_farm['swidth'] ]\n",
    "dataset_labels = ['Setosa','Virginica','Versicolor','Farmer']\n",
    "plt.figure(figsize=(12,10))\n",
    "plt.subplot(2,2,1)\n",
    "plt.title('Setal Width')\n",
    "i=0\n",
    "for dataset in datasets[0:4]:\n",
    "    dataset.plot(kind=\"hist\",fill=True,alpha=0.2,histtype='step',label=dataset_labels[i])\n",
    "    #print('%10s %1.2f ' % (datasets_labels[i],p))\n",
    "    i+=1\n",
    "plt.legend()\n",
    "plt.subplot(2,2,2)\n",
    "plt.title('Setal Length')\n",
    "datasets2 = [df_ref_set['slength'],df_ref_vir['slength'],df_ref_ver['slength'],df_farm['slength'] ]\n",
    "i=0\n",
    "for dataset in datasets2[0:4]:\n",
    "    dataset.plot(kind=\"hist\",fill=True,alpha=0.2,histtype='step',label=dataset_labels[i])\n",
    "    #print('%10s %1.2f ' % (datasets_labels[i],p))\n",
    "    i+=1\n",
    "plt.legend()\n",
    "#plt.show()\n",
    "plt.subplot(2,2,3)\n",
    "plt.title('Petal Width')\n",
    "datasets3 = [df_ref_set['pwidth'],df_ref_vir['pwidth'],df_ref_ver['pwidth'],df_farm['pwidth'] ]\n",
    "i=0\n",
    "for dataset in datasets3[0:4]:\n",
    "    dataset.plot(kind=\"hist\",fill=True,alpha=0.2,histtype='step',label=dataset_labels[i])\n",
    "    #print('%10s %1.2f ' % (datasets_labels[i],p))\n",
    "    i+=1\n",
    "plt.legend()\n",
    "#plt.show()\n",
    "plt.subplot(2,2,4)\n",
    "plt.title('Petal Length')\n",
    "datasets4 = [df_ref_set['plength'],df_ref_vir['plength'],df_ref_ver['plength'],df_farm['plength'] ]\n",
    "i=0\n",
    "for dataset in datasets4[0:4]:\n",
    "    dataset.plot(kind=\"hist\",fill=True,alpha=0.2,histtype='step',label=dataset_labels[i])\n",
    "    #print('%10s %1.2f ' % (datasets_labels[i],p))\n",
    "    i+=1\n",
    "plt.legend()\n",
    "plt.show()"
   ]
  },
  {
   "cell_type": "markdown",
   "metadata": {
    "id": "y-gkxYkrEKiD"
   },
   "source": [
    "While the 3 known species seem the differ a bit from each other concerning the four characteristics, the sample from the farmers field seem to not strongly differ from any of known species however one can clearly see that it might be a mix of all species."
   ]
  },
  {
   "cell_type": "code",
   "execution_count": 7,
   "metadata": {
    "colab": {
     "base_uri": "https://localhost:8080/",
     "height": 449
    },
    "executionInfo": {
     "elapsed": 444,
     "status": "ok",
     "timestamp": 1693132310591,
     "user": {
      "displayName": "Anja Mühlemann",
      "userId": "13180139022750424409"
     },
     "user_tz": -120
    },
    "id": "Vf-8_mrTEKiD",
    "outputId": "b2d3dc23-b77b-4342-aaa3-393e9d743024"
   },
   "outputs": [
    {
     "data": {
      "image/png": "[encoded data removed]",
      "text/plain": [
       "<Figure size 640x480 with 1 Axes>"
      ]
     },
     "metadata": {},
     "output_type": "display_data"
    }
   ],
   "source": [
    "plt.subplot(1,1,1)\n",
    "plt.scatter(df_ref_set['plength'],df_ref_set['pwidth'],c='b',label='Setosa')\n",
    "plt.scatter(df_ref_vir['plength'],df_ref_vir['pwidth'],c='g',label='Virginica')\n",
    "plt.scatter(df_ref_ver['plength'],df_ref_ver['pwidth'],c='r',label='Versicolor')\n",
    "plt.scatter(df_farm['plength'],df_farm['pwidth'],c='purple',label='Farmer')\n",
    "plt.xlabel('plength')\n",
    "plt.ylabel('pwidth')\n",
    "plt.legend()\n",
    "plt.show()"
   ]
  },
  {
   "cell_type": "markdown",
   "metadata": {
    "id": "D50xds2PEKiE"
   },
   "source": [
    "Take a look at the sepal version of the plot, too."
   ]
  },
  {
   "cell_type": "code",
   "execution_count": 8,
   "metadata": {
    "colab": {
     "base_uri": "https://localhost:8080/",
     "height": 452
    },
    "executionInfo": {
     "elapsed": 711,
     "status": "ok",
     "timestamp": 1693132311297,
     "user": {
      "displayName": "Anja Mühlemann",
      "userId": "13180139022750424409"
     },
     "user_tz": -120
    },
    "id": "g_QcrbI_EKiE",
    "outputId": "7c672052-1153-459e-aa4c-fe281cf34104"
   },
   "outputs": [
    {
     "data": {
      "image/png": "[encoded data removed]",
      "text/plain": [
       "<Figure size 640x480 with 1 Axes>"
      ]
     },
     "metadata": {},
     "output_type": "display_data"
    }
   ],
   "source": [
    "plt.subplot(1,1,1)\n",
    "plt.scatter(df_ref_set['slength'],df_ref_set['swidth'],c='b',label='Setosa')\n",
    "plt.scatter(df_ref_vir['slength'],df_ref_vir['swidth'],c='g',label='Virginica')\n",
    "plt.scatter(df_ref_ver['slength'],df_ref_ver['swidth'],c='r',label='Versicolor')\n",
    "plt.scatter(df_farm['slength'],df_farm['swidth'],c='purple',label='Farmer')\n",
    "plt.xlabel('slength')\n",
    "plt.ylabel('swidth')\n",
    "plt.legend()\n",
    "plt.show()"
   ]
  },
  {
   "cell_type": "markdown",
   "metadata": {
    "id": "rDDPBDaUEKiE"
   },
   "source": [
    "Also here the characteristics of the sample from the farm does not seem to fall out of the range of the reference samples\n"
   ]
  },
  {
   "cell_type": "markdown",
   "metadata": {
    "id": "saM7Zd4uEKiG"
   },
   "source": [
    "## 3. Test the hypothesis"
   ]
  },
  {
   "cell_type": "markdown",
   "metadata": {
    "id": "I-7J1YmyEKiB"
   },
   "source": [
    "**Check normality**"
   ]
  },
  {
   "cell_type": "markdown",
   "metadata": {
    "id": "Z6G0aWwcBcyR"
   },
   "source": [
    "First we consider *swidth*"
   ]
  },
  {
   "cell_type": "code",
   "execution_count": 9,
   "metadata": {
    "colab": {
     "base_uri": "https://localhost:8080/"
    },
    "executionInfo": {
     "elapsed": 17,
     "status": "ok",
     "timestamp": 1693132311298,
     "user": {
      "displayName": "Anja Mühlemann",
      "userId": "13180139022750424409"
     },
     "user_tz": -120
    },
    "id": "eAwK3531EKiB",
    "outputId": "24c26a31-de56-4e89-f746-0a80636781c9"
   },
   "outputs": [
    {
     "name": "stdout",
     "output_type": "stream",
     "text": [
      "p-values from the normality tests on the setal width (D Agostino-Pearson):\n",
      "    Setosa 0.30 \n",
      " Virginica 0.34 \n",
      "Versicolor 0.23 \n",
      "    Farmer 0.30 \n"
     ]
    }
   ],
   "source": [
    "print('p-values from the normality tests on the setal width (D Agostino-Pearson):')\n",
    "datasets        = [df_ref_set['swidth'],df_ref_vir['swidth'],df_ref_ver['swidth'],df_farm['swidth'] ]\n",
    "dataset_labels = ['Setosa','Virginica','Versicolor','Farmer']\n",
    "i = 0\n",
    "for dataset in datasets:\n",
    "  k2, p = stats.normaltest(dataset) # D Agostino-Pearson\n",
    "  print('%10s %1.2f ' % (dataset_labels[i],p))\n",
    "  i+=1"
   ]
  },
  {
   "cell_type": "markdown",
   "metadata": {
    "id": "EqRqZ65nBlGH"
   },
   "source": [
    "*slength*"
   ]
  },
  {
   "cell_type": "code",
   "execution_count": 10,
   "metadata": {
    "colab": {
     "base_uri": "https://localhost:8080/"
    },
    "executionInfo": {
     "elapsed": 13,
     "status": "ok",
     "timestamp": 1693132311298,
     "user": {
      "displayName": "Anja Mühlemann",
      "userId": "13180139022750424409"
     },
     "user_tz": -120
    },
    "id": "uvQkWf6xBksV",
    "outputId": "1770a90f-918e-4ab4-d8f3-32c8717480e7"
   },
   "outputs": [
    {
     "name": "stdout",
     "output_type": "stream",
     "text": [
      "p-values from the normality tests on the setal width (D Agostino-Pearson):\n",
      "    Setosa 0.85 \n",
      " Virginica 0.93 \n",
      "Versicolor 0.69 \n",
      "    Farmer 0.26 \n"
     ]
    }
   ],
   "source": [
    "print('p-values from the normality tests on the setal width (D Agostino-Pearson):')\n",
    "datasets        = [df_ref_set['slength'],df_ref_vir['slength'],df_ref_ver['slength'],df_farm['slength'] ]\n",
    "dataset_labels = ['Setosa','Virginica','Versicolor','Farmer']\n",
    "i = 0\n",
    "for dataset in datasets:\n",
    "  k2, p = stats.normaltest(dataset) # D Agostino-Pearson\n",
    "  print('%10s %1.2f ' % (dataset_labels[i],p))\n",
    "  i+=1"
   ]
  },
  {
   "cell_type": "markdown",
   "metadata": {
    "id": "d3XNyEPrCC3I"
   },
   "source": [
    "*plength*"
   ]
  },
  {
   "cell_type": "code",
   "execution_count": 11,
   "metadata": {
    "colab": {
     "base_uri": "https://localhost:8080/"
    },
    "executionInfo": {
     "elapsed": 11,
     "status": "ok",
     "timestamp": 1693132311299,
     "user": {
      "displayName": "Anja Mühlemann",
      "userId": "13180139022750424409"
     },
     "user_tz": -120
    },
    "id": "9d80jJbtB1jR",
    "outputId": "850eee51-d4d9-44cf-b429-a80c3baa198c"
   },
   "outputs": [
    {
     "name": "stdout",
     "output_type": "stream",
     "text": [
      "p-values from the normality tests on the setal width (D Agostino-Pearson):\n",
      "    Setosa 0.31 \n",
      " Virginica 0.52 \n",
      "Versicolor 0.25 \n",
      "    Farmer 0.00 \n"
     ]
    }
   ],
   "source": [
    "print('p-values from the normality tests on the setal width (D Agostino-Pearson):')\n",
    "datasets        = [df_ref_set['plength'],df_ref_vir['plength'],df_ref_ver['plength'],df_farm['plength'] ]\n",
    "dataset_labels = ['Setosa','Virginica','Versicolor','Farmer']\n",
    "i = 0\n",
    "for dataset in datasets:\n",
    "  k2, p = stats.normaltest(dataset) # D Agostino-Pearson\n",
    "  print('%10s %1.2f ' % (dataset_labels[i],p))\n",
    "  i+=1"
   ]
  },
  {
   "cell_type": "markdown",
   "metadata": {
    "id": "cascJ89cBxl9"
   },
   "source": [
    "*pwidth*"
   ]
  },
  {
   "cell_type": "code",
   "execution_count": 12,
   "metadata": {
    "colab": {
     "base_uri": "https://localhost:8080/"
    },
    "executionInfo": {
     "elapsed": 10,
     "status": "ok",
     "timestamp": 1693132311300,
     "user": {
      "displayName": "Anja Mühlemann",
      "userId": "13180139022750424409"
     },
     "user_tz": -120
    },
    "id": "_xAY8OpiCLjc",
    "outputId": "519b9dec-a59d-4acc-e45a-ca62a5f7396e"
   },
   "outputs": [
    {
     "name": "stdout",
     "output_type": "stream",
     "text": [
      "p-values from the normality tests on the setal width (D Agostino-Pearson):\n",
      "    Setosa 0.13 \n",
      " Virginica 0.74 \n",
      "Versicolor 0.79 \n",
      "    Farmer 0.00 \n"
     ]
    }
   ],
   "source": [
    "print('p-values from the normality tests on the setal width (D Agostino-Pearson):')\n",
    "datasets        = [df_ref_set['pwidth'],df_ref_vir['pwidth'],df_ref_ver['pwidth'],df_farm['pwidth'] ]\n",
    "dataset_labels = ['Setosa','Virginica','Versicolor','Farmer']\n",
    "i = 0\n",
    "for dataset in datasets:\n",
    "  k2, p = stats.normaltest(dataset) # D Agostino-Pearson\n",
    "  print('%10s %1.2f ' % (dataset_labels[i],p))\n",
    "  i+=1"
   ]
  },
  {
   "cell_type": "markdown",
   "metadata": {
    "id": "rmrmY1eqEKiG"
   },
   "source": [
    "The normality test looks fine for *slength* and *swidth*, however for *plength* and *pwidth* the normality assumption for the farmers sample is violated.\n",
    "So techinally we could use test's suited for normalitly when considering *slength* and *swidth*. However, when trying to submit a paper it's often tedious to argue why some tests are parametric and some are not. Thus, we just use nonparametric tests here. Moreover, the Q-Q-Plots do also not look ideal.\n"
   ]
  },
  {
   "cell_type": "code",
   "execution_count": 13,
   "metadata": {
    "colab": {
     "base_uri": "https://localhost:8080/",
     "height": 886
    },
    "executionInfo": {
     "elapsed": 2155,
     "status": "ok",
     "timestamp": 1693132313449,
     "user": {
      "displayName": "Anja Mühlemann",
      "userId": "13180139022750424409"
     },
     "user_tz": -120
    },
    "id": "4_IWcZLwDPPr",
    "outputId": "237575d3-8e44-4c1e-c626-e7ae8f3dc40b"
   },
   "outputs": [
    {
     "data": {
      "image/png": "[encoded data removed]",
      "text/plain": [
       "<Figure size 640x480 with 1 Axes>"
      ]
     },
     "metadata": {},
     "output_type": "display_data"
    },
    {
     "data": {
      "image/png": "[encoded data removed]",
      "text/plain": [
       "<Figure size 640x480 with 1 Axes>"
      ]
     },
     "metadata": {},
     "output_type": "display_data"
    }
   ],
   "source": [
    "import statsmodels.api as sm\n",
    "fig=sm.qqplot(df_farm['pwidth'], line='s' )\n",
    "sm.qqplot(df_farm['plength'], line='s')\n",
    "plt.show()"
   ]
  },
  {
   "cell_type": "markdown",
   "metadata": {
    "id": "4AJ1x7eFEJ8U"
   },
   "source": [
    "Yesterday's slides suggest that we could perfom a Kruskal-Wallis test to test the hypothesis that the four groups don't differ. We have to do this for each characteristic separately. I'll illustrate the proccedure with *plength*"
   ]
  },
  {
   "cell_type": "code",
   "execution_count": 14,
   "metadata": {
    "colab": {
     "base_uri": "https://localhost:8080/"
    },
    "executionInfo": {
     "elapsed": 10,
     "status": "ok",
     "timestamp": 1693132313451,
     "user": {
      "displayName": "Anja Mühlemann",
      "userId": "13180139022750424409"
     },
     "user_tz": -120
    },
    "id": "3Wg0X1vcEKiH",
    "outputId": "aa4fb3fc-7ccd-485f-f559-7719dd6c013f"
   },
   "outputs": [
    {
     "data": {
      "text/plain": [
       "KruskalResult(statistic=77.44303560081005, pvalue=1.0849078880123864e-16)"
      ]
     },
     "execution_count": 14,
     "metadata": {},
     "output_type": "execute_result"
    }
   ],
   "source": [
    "stats.kruskal(df_ref_set['plength'],df_ref_vir['plength'], df_ref_ver['plength'], df_farm['plength'])"
   ]
  },
  {
   "cell_type": "markdown",
   "metadata": {
    "id": "4kDNh9LWEKiH"
   },
   "source": [
    "Unfortunately, the p-value is very small so that we reject the null hypothesis that the four groups do not differ. But we need to be careful. The reason for the p-value to be significant could be due to the fact that, for example, setosa differs from virginica. So let us perform paired test between setosa and the farmers sample to be sure. For us it makes sense to use two-sided Mann Whitney U tests."
   ]
  },
  {
   "cell_type": "code",
   "execution_count": 15,
   "metadata": {
    "colab": {
     "base_uri": "https://localhost:8080/"
    },
    "executionInfo": {
     "elapsed": 6,
     "status": "ok",
     "timestamp": 1693132313451,
     "user": {
      "displayName": "Anja Mühlemann",
      "userId": "13180139022750424409"
     },
     "user_tz": -120
    },
    "id": "SC9BU7rBEKiH",
    "outputId": "d74bf672-eb97-47f3-b536-52b0f7260e37"
   },
   "outputs": [
    {
     "data": {
      "text/plain": [
       "MannwhitneyuResult(statistic=341.0, pvalue=1.6006260309353683e-06)"
      ]
     },
     "execution_count": 15,
     "metadata": {},
     "output_type": "execute_result"
    }
   ],
   "source": [
    "stats.mannwhitneyu(df_ref_set['plength'],df_farm['plength'], alternative='two-sided')"
   ]
  },
  {
   "cell_type": "markdown",
   "metadata": {
    "id": "QEsybRr4Gurx"
   },
   "source": [
    "The p-value is very small. Does this mean that there did indeed a mutation take place?\n",
    "\n",
    "Let's quickly think about whether this is actually a fair comparison. We said in the beginning that the farmers data is a random mix of all species. So actually the significant p-values could be due to us comparing some setosa samples to virginca samples because the farmer had chosen many virginica samples by chance. So let us make our comparison more fair. To this end we try to make a very simple filter to get the setosa samples from the farmers sample."
   ]
  },
  {
   "cell_type": "markdown",
   "metadata": {
    "id": "mQcNgT4-I0vK"
   },
   "source": [
    "# 4. Filter the farmer data"
   ]
  },
  {
   "cell_type": "code",
   "execution_count": 18,
   "metadata": {
    "colab": {
     "base_uri": "https://localhost:8080/",
     "height": 449
    },
    "executionInfo": {
     "elapsed": 542,
     "status": "ok",
     "timestamp": 1693132313990,
     "user": {
      "displayName": "Anja Mühlemann",
      "userId": "13180139022750424409"
     },
     "user_tz": -120
    },
    "id": "BAf7cgbtH5Bw",
    "outputId": "2f2bbe71-a51f-45ee-af0b-9788725661cc"
   },
   "outputs": [
    {
     "data": {
      "image/png": "[encoded data removed]",
      "text/plain": [
       "<Figure size 640x480 with 1 Axes>"
      ]
     },
     "metadata": {},
     "output_type": "display_data"
    }
   ],
   "source": [
    "plt.subplot(1,1,1)\n",
    "plt.scatter(df_ref_set['plength'],df_ref_set['pwidth'],c='b',label='Setosa')\n",
    "plt.scatter(df_ref_vir['plength'],df_ref_vir['pwidth'],c='g',label='Virginica')\n",
    "plt.scatter(df_ref_ver['plength'],df_ref_ver['pwidth'],c='r',label='Versicolor')\n",
    "plt.xlabel('plength')\n",
    "plt.ylabel('pwidth')\n",
    "plt.legend()\n",
    "plt.show()"
   ]
  },
  {
   "cell_type": "markdown",
   "metadata": {
    "id": "25FRDS0lH5Bw"
   },
   "source": [
    "A discrimination should work very well. However, we don't see the full distribution and this is just by eye. I will take a look at the sepal version of the plot, too."
   ]
  },
  {
   "cell_type": "code",
   "execution_count": 19,
   "metadata": {
    "colab": {
     "base_uri": "https://localhost:8080/",
     "height": 452
    },
    "executionInfo": {
     "elapsed": 633,
     "status": "ok",
     "timestamp": 1693132314619,
     "user": {
      "displayName": "Anja Mühlemann",
      "userId": "13180139022750424409"
     },
     "user_tz": -120
    },
    "id": "NSK5LkgxH5Bx",
    "outputId": "2a2fc812-aba8-4d7f-8823-dbb89f3dd990"
   },
   "outputs": [
    {
     "data": {
      "image/png": "[encoded data removed]",
      "text/plain": [
       "<Figure size 640x480 with 1 Axes>"
      ]
     },
     "metadata": {},
     "output_type": "display_data"
    }
   ],
   "source": [
    "plt.subplot(1,1,1)\n",
    "plt.scatter(df_ref_set['slength'],df_ref_set['swidth'],c='b',label='Setosa')\n",
    "plt.scatter(df_ref_vir['slength'],df_ref_vir['swidth'],c='g',label='Virginica')\n",
    "plt.scatter(df_ref_ver['slength'],df_ref_ver['swidth'],c='r',label='Versicolor')\n",
    "plt.xlabel('slength')\n",
    "plt.ylabel('swidth')\n",
    "plt.legend()\n",
    "plt.show()"
   ]
  },
  {
   "cell_type": "markdown",
   "metadata": {
    "id": "SjbYpjI7H5Bx"
   },
   "source": [
    "Also here a good separation seems easy by using a line. Fitting a line which best separates between two samples belongs to Module 3. Here we will choose by eye two cuts in the petal plane and estimate the efficiency of the filter by using generated values from fitted models."
   ]
  },
  {
   "cell_type": "markdown",
   "metadata": {
    "id": "oOBtFf9AH5Bx"
   },
   "source": [
    "### Filtering out Setosa from the farmer sample"
   ]
  },
  {
   "cell_type": "markdown",
   "metadata": {
    "id": "glVIqsVLH5Bx"
   },
   "source": [
    "Let us fit normal distributions to the reference samples. Then generate 100 000 rows with these distributions, plot the scatter plots with this simulated data, define the fitering cuts and calculate the efficiency of our filter."
   ]
  },
  {
   "cell_type": "code",
   "execution_count": 20,
   "metadata": {
    "colab": {
     "base_uri": "https://localhost:8080/",
     "height": 449
    },
    "executionInfo": {
     "elapsed": 9321,
     "status": "ok",
     "timestamp": 1693132323937,
     "user": {
      "displayName": "Anja Mühlemann",
      "userId": "13180139022750424409"
     },
     "user_tz": -120
    },
    "id": "E4s4q5D9H5By",
    "outputId": "f5413c1b-766e-4f52-a2f7-3c3c35011915"
   },
   "outputs": [
    {
     "data": {
      "image/png": "[encoded data removed]",
      "text/plain": [
       "<Figure size 640x480 with 1 Axes>"
      ]
     },
     "metadata": {},
     "output_type": "display_data"
    }
   ],
   "source": [
    "import scipy\n",
    "mean, sd = scipy.stats.norm.fit(df_ref_set['plength'])\n",
    "df_gen_pl_set = scipy.stats.norm.rvs(mean,sd,100000)\n",
    "mean, sd = scipy.stats.norm.fit(df_ref_set['pwidth'])\n",
    "df_gen_pw_set = scipy.stats.norm.rvs(mean,sd,100000)\n",
    "\n",
    "mean, sd = scipy.stats.norm.fit(df_ref_vir['plength'])\n",
    "df_gen_pl_vir = scipy.stats.norm.rvs(mean,sd,100000)\n",
    "mean, sd = scipy.stats.norm.fit(df_ref_vir['pwidth'])\n",
    "df_gen_pw_vir = scipy.stats.norm.rvs(mean,sd,100000)\n",
    "\n",
    "mean, sd = scipy.stats.norm.fit(df_ref_ver['plength'])\n",
    "df_gen_pl_ver = scipy.stats.norm.rvs(mean,sd,100000)\n",
    "mean, sd = scipy.stats.norm.fit(df_ref_ver['pwidth'])\n",
    "df_gen_pw_ver = scipy.stats.norm.rvs(mean,sd,100000)\n",
    "\n",
    "plt.subplot(1,1,1)\n",
    "plt.scatter(df_gen_pl_set,df_gen_pw_set,c='b',label='Setosa')\n",
    "plt.scatter(df_gen_pl_vir,df_gen_pw_vir,c='g',label='Virginiga')\n",
    "plt.scatter(df_gen_pl_ver,df_gen_pw_ver,c='r',label='Versicolor')\n",
    "plt.xlabel('plength')\n",
    "plt.ylabel('pwidth')\n",
    "plt.legend()\n",
    "plt.show()"
   ]
  },
  {
   "cell_type": "markdown",
   "metadata": {
    "id": "83brdBSJH5By"
   },
   "source": [
    "**Filter choice:** plength<2.5 and pwidth<1.0\n",
    "    \n",
    "**Filter efficiency:**\n",
    "- Setosa 1.0 (100%)\n",
    "- Virginica 0.0\n",
    "- Versicolor 0.0"
   ]
  },
  {
   "cell_type": "markdown",
   "metadata": {
    "id": "Dai6a2aSH5By"
   },
   "source": [
    "### Filter the farmer data"
   ]
  },
  {
   "cell_type": "code",
   "execution_count": 21,
   "metadata": {
    "colab": {
     "base_uri": "https://localhost:8080/",
     "height": 677
    },
    "executionInfo": {
     "elapsed": 24,
     "status": "ok",
     "timestamp": 1693132323937,
     "user": {
      "displayName": "Anja Mühlemann",
      "userId": "13180139022750424409"
     },
     "user_tz": -120
    },
    "id": "UAfIqv85H5Bz",
    "outputId": "7b1308cc-c5a2-43c5-e211-e80ec3b4b199"
   },
   "outputs": [
    {
     "data": {
      "text/html": [
       "\n",
       "  <div id=\"df-37f59172-21ba-40ec-807c-6240011446f8\" class=\"colab-df-container\">\n",
       "    <div>\n",
       "<style scoped>\n",
       "    .dataframe tbody tr th:only-of-type {\n",
       "        vertical-align: middle;\n",
       "    }\n",
       "\n",
       "    .dataframe tbody tr th {\n",
       "        vertical-align: top;\n",
       "    }\n",
       "\n",
       "    .dataframe thead th {\n",
       "        text-align: right;\n",
       "    }\n",
       "</style>\n",
       "<table border=\"1\" class=\"dataframe\">\n",
       "  <thead>\n",
       "    <tr style=\"text-align: right;\">\n",
       "      <th></th>\n",
       "      <th>slength</th>\n",
       "      <th>swidth</th>\n",
       "      <th>plength</th>\n",
       "      <th>pwidth</th>\n",
       "      <th>species</th>\n",
       "    </tr>\n",
       "  </thead>\n",
       "  <tbody>\n",
       "    <tr>\n",
       "      <th>42</th>\n",
       "      <td>4.4</td>\n",
       "      <td>3.2</td>\n",
       "      <td>1.3</td>\n",
       "      <td>0.2</td>\n",
       "      <td>Unknown</td>\n",
       "    </tr>\n",
       "    <tr>\n",
       "      <th>38</th>\n",
       "      <td>4.4</td>\n",
       "      <td>3.0</td>\n",
       "      <td>1.3</td>\n",
       "      <td>0.2</td>\n",
       "      <td>Unknown</td>\n",
       "    </tr>\n",
       "    <tr>\n",
       "      <th>41</th>\n",
       "      <td>4.5</td>\n",
       "      <td>2.3</td>\n",
       "      <td>1.3</td>\n",
       "      <td>0.3</td>\n",
       "      <td>Unknown</td>\n",
       "    </tr>\n",
       "    <tr>\n",
       "      <th>47</th>\n",
       "      <td>4.6</td>\n",
       "      <td>3.2</td>\n",
       "      <td>1.4</td>\n",
       "      <td>0.2</td>\n",
       "      <td>Unknown</td>\n",
       "    </tr>\n",
       "    <tr>\n",
       "      <th>30</th>\n",
       "      <td>4.8</td>\n",
       "      <td>3.1</td>\n",
       "      <td>1.6</td>\n",
       "      <td>0.2</td>\n",
       "      <td>Unknown</td>\n",
       "    </tr>\n",
       "    <tr>\n",
       "      <th>45</th>\n",
       "      <td>4.8</td>\n",
       "      <td>3.0</td>\n",
       "      <td>1.4</td>\n",
       "      <td>0.3</td>\n",
       "      <td>Unknown</td>\n",
       "    </tr>\n",
       "    <tr>\n",
       "      <th>37</th>\n",
       "      <td>4.9</td>\n",
       "      <td>3.1</td>\n",
       "      <td>1.5</td>\n",
       "      <td>0.1</td>\n",
       "      <td>Unknown</td>\n",
       "    </tr>\n",
       "    <tr>\n",
       "      <th>34</th>\n",
       "      <td>4.9</td>\n",
       "      <td>3.1</td>\n",
       "      <td>1.5</td>\n",
       "      <td>0.1</td>\n",
       "      <td>Unknown</td>\n",
       "    </tr>\n",
       "    <tr>\n",
       "      <th>49</th>\n",
       "      <td>5.0</td>\n",
       "      <td>3.3</td>\n",
       "      <td>1.4</td>\n",
       "      <td>0.2</td>\n",
       "      <td>Unknown</td>\n",
       "    </tr>\n",
       "    <tr>\n",
       "      <th>40</th>\n",
       "      <td>5.0</td>\n",
       "      <td>3.5</td>\n",
       "      <td>1.3</td>\n",
       "      <td>0.3</td>\n",
       "      <td>Unknown</td>\n",
       "    </tr>\n",
       "    <tr>\n",
       "      <th>35</th>\n",
       "      <td>5.0</td>\n",
       "      <td>3.2</td>\n",
       "      <td>1.2</td>\n",
       "      <td>0.2</td>\n",
       "      <td>Unknown</td>\n",
       "    </tr>\n",
       "    <tr>\n",
       "      <th>43</th>\n",
       "      <td>5.0</td>\n",
       "      <td>3.5</td>\n",
       "      <td>1.6</td>\n",
       "      <td>0.6</td>\n",
       "      <td>Unknown</td>\n",
       "    </tr>\n",
       "    <tr>\n",
       "      <th>46</th>\n",
       "      <td>5.1</td>\n",
       "      <td>3.8</td>\n",
       "      <td>1.6</td>\n",
       "      <td>0.2</td>\n",
       "      <td>Unknown</td>\n",
       "    </tr>\n",
       "    <tr>\n",
       "      <th>44</th>\n",
       "      <td>5.1</td>\n",
       "      <td>3.8</td>\n",
       "      <td>1.9</td>\n",
       "      <td>0.4</td>\n",
       "      <td>Unknown</td>\n",
       "    </tr>\n",
       "    <tr>\n",
       "      <th>39</th>\n",
       "      <td>5.1</td>\n",
       "      <td>3.4</td>\n",
       "      <td>1.5</td>\n",
       "      <td>0.2</td>\n",
       "      <td>Unknown</td>\n",
       "    </tr>\n",
       "    <tr>\n",
       "      <th>32</th>\n",
       "      <td>5.2</td>\n",
       "      <td>4.1</td>\n",
       "      <td>1.5</td>\n",
       "      <td>0.1</td>\n",
       "      <td>Unknown</td>\n",
       "    </tr>\n",
       "    <tr>\n",
       "      <th>48</th>\n",
       "      <td>5.3</td>\n",
       "      <td>3.7</td>\n",
       "      <td>1.5</td>\n",
       "      <td>0.2</td>\n",
       "      <td>Unknown</td>\n",
       "    </tr>\n",
       "    <tr>\n",
       "      <th>31</th>\n",
       "      <td>5.4</td>\n",
       "      <td>3.4</td>\n",
       "      <td>1.5</td>\n",
       "      <td>0.4</td>\n",
       "      <td>Unknown</td>\n",
       "    </tr>\n",
       "    <tr>\n",
       "      <th>36</th>\n",
       "      <td>5.5</td>\n",
       "      <td>3.5</td>\n",
       "      <td>1.3</td>\n",
       "      <td>0.2</td>\n",
       "      <td>Unknown</td>\n",
       "    </tr>\n",
       "    <tr>\n",
       "      <th>33</th>\n",
       "      <td>5.5</td>\n",
       "      <td>4.2</td>\n",
       "      <td>1.4</td>\n",
       "      <td>0.2</td>\n",
       "      <td>Unknown</td>\n",
       "    </tr>\n",
       "  </tbody>\n",
       "</table>\n",
       "</div>\n",
       "    <div class=\"colab-df-buttons\">\n",
       "\n",
       "  <div class=\"colab-df-container\">\n",
       "    <button class=\"colab-df-convert\" onclick=\"convertToInteractive('df-37f59172-21ba-40ec-807c-6240011446f8')\"\n",
       "            title=\"Convert this dataframe to an interactive table.\"\n",
       "            style=\"display:none;\">\n",
       "\n",
       "  <svg xmlns=\"http://www.w3.org/2000/svg\" height=\"24px\" viewBox=\"0 -960 960 960\">\n",
       "    <path d=\"M120-120v-720h720v720H120Zm60-500h600v-160H180v160Zm220 220h160v-160H400v160Zm0 220h160v-160H400v160ZM180-400h160v-160H180v160Zm440 0h160v-160H620v160ZM180-180h160v-160H180v160Zm440 0h160v-160H620v160Z\"/>\n",
       "  </svg>\n",
       "    </button>\n",
       "\n",
       "  <style>\n",
       "    .colab-df-container {\n",
       "      display:flex;\n",
       "      gap: 12px;\n",
       "    }\n",
       "\n",
       "    .colab-df-convert {\n",
       "      background-color: #E8F0FE;\n",
       "      border: none;\n",
       "      border-radius: 50%;\n",
       "      cursor: pointer;\n",
       "      display: none;\n",
       "      fill: #1967D2;\n",
       "      height: 32px;\n",
       "      padding: 0 0 0 0;\n",
       "      width: 32px;\n",
       "    }\n",
       "\n",
       "    .colab-df-convert:hover {\n",
       "      background-color: #E2EBFA;\n",
       "      box-shadow: 0px 1px 2px rgba(60, 64, 67, 0.3), 0px 1px 3px 1px rgba(60, 64, 67, 0.15);\n",
       "      fill: #174EA6;\n",
       "    }\n",
       "\n",
       "    .colab-df-buttons div {\n",
       "      margin-bottom: 4px;\n",
       "    }\n",
       "\n",
       "    [theme=dark] .colab-df-convert {\n",
       "      background-color: #3B4455;\n",
       "      fill: #D2E3FC;\n",
       "    }\n",
       "\n",
       "    [theme=dark] .colab-df-convert:hover {\n",
       "      background-color: #434B5C;\n",
       "      box-shadow: 0px 1px 3px 1px rgba(0, 0, 0, 0.15);\n",
       "      filter: drop-shadow(0px 1px 2px rgba(0, 0, 0, 0.3));\n",
       "      fill: #FFFFFF;\n",
       "    }\n",
       "  </style>\n",
       "\n",
       "    <script>\n",
       "      const buttonEl =\n",
       "        document.querySelector('#df-37f59172-21ba-40ec-807c-6240011446f8 button.colab-df-convert');\n",
       "      buttonEl.style.display =\n",
       "        google.colab.kernel.accessAllowed ? 'block' : 'none';\n",
       "\n",
       "      async function convertToInteractive(key) {\n",
       "        const element = document.querySelector('#df-37f59172-21ba-40ec-807c-6240011446f8');\n",
       "        const dataTable =\n",
       "          await google.colab.kernel.invokeFunction('convertToInteractive',\n",
       "                                                    [key], {});\n",
       "        if (!dataTable) return;\n",
       "\n",
       "        const docLinkHtml = 'Like what you see? Visit the ' +\n",
       "          '<a target=\"_blank\" href=https://colab.research.google.com/notebooks/data_table.ipynb>data table notebook</a>'\n",
       "          + ' to learn more about interactive tables.';\n",
       "        element.innerHTML = '';\n",
       "        dataTable['output_type'] = 'display_data';\n",
       "        await google.colab.output.renderOutput(dataTable, element);\n",
       "        const docLink = document.createElement('div');\n",
       "        docLink.innerHTML = docLinkHtml;\n",
       "        element.appendChild(docLink);\n",
       "      }\n",
       "    </script>\n",
       "  </div>\n",
       "\n",
       "\n",
       "<div id=\"df-5471018e-3f35-474a-b6e0-51147185e4f5\">\n",
       "  <button class=\"colab-df-quickchart\" onclick=\"quickchart('df-5471018e-3f35-474a-b6e0-51147185e4f5')\"\n",
       "            title=\"Suggest charts.\"\n",
       "            style=\"display:none;\">\n",
       "\n",
       "<svg xmlns=\"http://www.w3.org/2000/svg\" height=\"24px\"viewBox=\"0 0 24 24\"\n",
       "     width=\"24px\">\n",
       "    <g>\n",
       "        <path d=\"M19 3H5c-1.1 0-2 .9-2 2v14c0 1.1.9 2 2 2h14c1.1 0 2-.9 2-2V5c0-1.1-.9-2-2-2zM9 17H7v-7h2v7zm4 0h-2V7h2v10zm4 0h-2v-4h2v4z\"/>\n",
       "    </g>\n",
       "</svg>\n",
       "  </button>\n",
       "\n",
       "<style>\n",
       "  .colab-df-quickchart {\n",
       "    background-color: #E8F0FE;\n",
       "    border: none;\n",
       "    border-radius: 50%;\n",
       "    cursor: pointer;\n",
       "    display: none;\n",
       "    fill: #1967D2;\n",
       "    height: 32px;\n",
       "    padding: 0 0 0 0;\n",
       "    width: 32px;\n",
       "  }\n",
       "\n",
       "  .colab-df-quickchart:hover {\n",
       "    background-color: #E2EBFA;\n",
       "    box-shadow: 0px 1px 2px rgba(60, 64, 67, 0.3), 0px 1px 3px 1px rgba(60, 64, 67, 0.15);\n",
       "    fill: #174EA6;\n",
       "  }\n",
       "\n",
       "  [theme=dark] .colab-df-quickchart {\n",
       "    background-color: #3B4455;\n",
       "    fill: #D2E3FC;\n",
       "  }\n",
       "\n",
       "  [theme=dark] .colab-df-quickchart:hover {\n",
       "    background-color: #434B5C;\n",
       "    box-shadow: 0px 1px 3px 1px rgba(0, 0, 0, 0.15);\n",
       "    filter: drop-shadow(0px 1px 2px rgba(0, 0, 0, 0.3));\n",
       "    fill: #FFFFFF;\n",
       "  }\n",
       "</style>\n",
       "\n",
       "  <script>\n",
       "    async function quickchart(key) {\n",
       "      const charts = await google.colab.kernel.invokeFunction(\n",
       "          'suggestCharts', [key], {});\n",
       "    }\n",
       "    (() => {\n",
       "      let quickchartButtonEl =\n",
       "        document.querySelector('#df-5471018e-3f35-474a-b6e0-51147185e4f5 button');\n",
       "      quickchartButtonEl.style.display =\n",
       "        google.colab.kernel.accessAllowed ? 'block' : 'none';\n",
       "    })();\n",
       "  </script>\n",
       "</div>\n",
       "    </div>\n",
       "  </div>\n"
      ],
      "text/plain": [
       "    slength  swidth  plength  pwidth  species\n",
       "42      4.4     3.2      1.3     0.2  Unknown\n",
       "38      4.4     3.0      1.3     0.2  Unknown\n",
       "41      4.5     2.3      1.3     0.3  Unknown\n",
       "47      4.6     3.2      1.4     0.2  Unknown\n",
       "30      4.8     3.1      1.6     0.2  Unknown\n",
       "45      4.8     3.0      1.4     0.3  Unknown\n",
       "37      4.9     3.1      1.5     0.1  Unknown\n",
       "34      4.9     3.1      1.5     0.1  Unknown\n",
       "49      5.0     3.3      1.4     0.2  Unknown\n",
       "40      5.0     3.5      1.3     0.3  Unknown\n",
       "35      5.0     3.2      1.2     0.2  Unknown\n",
       "43      5.0     3.5      1.6     0.6  Unknown\n",
       "46      5.1     3.8      1.6     0.2  Unknown\n",
       "44      5.1     3.8      1.9     0.4  Unknown\n",
       "39      5.1     3.4      1.5     0.2  Unknown\n",
       "32      5.2     4.1      1.5     0.1  Unknown\n",
       "48      5.3     3.7      1.5     0.2  Unknown\n",
       "31      5.4     3.4      1.5     0.4  Unknown\n",
       "36      5.5     3.5      1.3     0.2  Unknown\n",
       "33      5.5     4.2      1.4     0.2  Unknown"
      ]
     },
     "execution_count": 21,
     "metadata": {},
     "output_type": "execute_result"
    }
   ],
   "source": [
    "df_farm = df_farm.sort_values('slength')\n",
    "df_farm_set = df_farm[df_farm['plength'] < 2.5]\n",
    "df_farm_rest=df_farm[df_farm['plength'] >= 2.5]\n",
    "df_farm_set"
   ]
  },
  {
   "cell_type": "markdown",
   "metadata": {
    "id": "vrBs3k4cJZXE"
   },
   "source": [
    "# 5. Back to tesing"
   ]
  },
  {
   "cell_type": "markdown",
   "metadata": {
    "id": "eAzB8Q_TJdQs"
   },
   "source": [
    "Rerun the tests for the filtered data\n"
   ]
  },
  {
   "cell_type": "code",
   "execution_count": 22,
   "metadata": {
    "colab": {
     "base_uri": "https://localhost:8080/"
    },
    "executionInfo": {
     "elapsed": 22,
     "status": "ok",
     "timestamp": 1693132323938,
     "user": {
      "displayName": "Anja Mühlemann",
      "userId": "13180139022750424409"
     },
     "user_tz": -120
    },
    "id": "YvzqIEV_JqlB",
    "outputId": "1170260b-a1f2-4768-f00a-73dff16a24ee"
   },
   "outputs": [
    {
     "data": {
      "text/plain": [
       "MannwhitneyuResult(statistic=341.0, pvalue=0.41266453964477956)"
      ]
     },
     "execution_count": 22,
     "metadata": {},
     "output_type": "execute_result"
    }
   ],
   "source": [
    "stats.mannwhitneyu(df_ref_set['plength'],df_farm_set['plength'], alternative='two-sided')"
   ]
  },
  {
   "cell_type": "markdown",
   "metadata": {
    "id": "NSBrSVmdJ3Y4"
   },
   "source": [
    "Now the p-value is not so small anymore. How about the other characteristics?"
   ]
  },
  {
   "cell_type": "code",
   "execution_count": 23,
   "metadata": {
    "colab": {
     "base_uri": "https://localhost:8080/"
    },
    "executionInfo": {
     "elapsed": 19,
     "status": "ok",
     "timestamp": 1693132323938,
     "user": {
      "displayName": "Anja Mühlemann",
      "userId": "13180139022750424409"
     },
     "user_tz": -120
    },
    "id": "GxVjlpkKLYRv",
    "outputId": "54c7ffa5-4852-4947-dbb4-8c77a83f5748"
   },
   "outputs": [
    {
     "data": {
      "text/plain": [
       "MannwhitneyuResult(statistic=320.0, pvalue=0.6693088928359507)"
      ]
     },
     "execution_count": 23,
     "metadata": {},
     "output_type": "execute_result"
    }
   ],
   "source": [
    "stats.mannwhitneyu(df_ref_set['pwidth'],df_farm_set['pwidth'], alternative='two-sided')"
   ]
  },
  {
   "cell_type": "code",
   "execution_count": 24,
   "metadata": {
    "colab": {
     "base_uri": "https://localhost:8080/"
    },
    "executionInfo": {
     "elapsed": 16,
     "status": "ok",
     "timestamp": 1693132323938,
     "user": {
      "displayName": "Anja Mühlemann",
      "userId": "13180139022750424409"
     },
     "user_tz": -120
    },
    "id": "KJqkJJAILYJX",
    "outputId": "38b75a43-4d6e-42d2-8274-7e88e2d1ce17"
   },
   "outputs": [
    {
     "data": {
      "text/plain": [
       "MannwhitneyuResult(statistic=317.0, pvalue=0.7424278372172379)"
      ]
     },
     "execution_count": 24,
     "metadata": {},
     "output_type": "execute_result"
    }
   ],
   "source": [
    "stats.mannwhitneyu(df_ref_set['slength'],df_farm_set['slength'], alternative='two-sided')"
   ]
  },
  {
   "cell_type": "code",
   "execution_count": 25,
   "metadata": {
    "colab": {
     "base_uri": "https://localhost:8080/"
    },
    "executionInfo": {
     "elapsed": 14,
     "status": "ok",
     "timestamp": 1693132323939,
     "user": {
      "displayName": "Anja Mühlemann",
      "userId": "13180139022750424409"
     },
     "user_tz": -120
    },
    "id": "5E8FQab4LX8c",
    "outputId": "8ab45619-ccfc-46a0-ea0c-ce7f5ea7ef9f"
   },
   "outputs": [
    {
     "data": {
      "text/plain": [
       "MannwhitneyuResult(statistic=329.0, pvalue=0.5701971439927103)"
      ]
     },
     "execution_count": 25,
     "metadata": {},
     "output_type": "execute_result"
    }
   ],
   "source": [
    "stats.mannwhitneyu(df_ref_set['swidth'],df_farm_set['swidth'], alternative='two-sided')"
   ]
  },
  {
   "cell_type": "markdown",
   "metadata": {
    "id": "JfpcidMQLkuI"
   },
   "source": [
    "Hence, we have no grounds to assume that setosa has mutated on the farmers field."
   ]
  },
  {
   "cell_type": "markdown",
   "metadata": {
    "id": "V6JGSmJSEKiJ"
   },
   "source": [
    "## Conclusion\n",
    "\n",
    "Our data analysis cannot confirm the claim of v4setosa. There is absolutely no evidence for the claim in our independent study. We advice the court to judge for not guilty.\n",
    "\n",
    "(And we sent a very large bill which the looser v4setosa had to pay. v4setosa went bankrott and we cannot sleep anymore...)\n",
    "\n",
    "(of course there is grounds to be critical with our analysis. By filtering what we believed to be setosa samples from the farmers sample we might have removed the strongly mutated ones with our filter. Unfortunately, with what was presented to us, we either had the chance to filter and end up with the results in section 5, or not filter and end up with the results in section 3. Both are not ideal. Maybe some labels would be helpful.)\n"
   ]
  }
 ],
 "metadata": {
  "colab": {
   "provenance": []
  },
  "kernelspec": {
   "display_name": "Python 3 (ipykernel)",
   "language": "python",
   "name": "python3"
  },
  "language_info": {
   "codemirror_mode": {
    "name": "ipython",
    "version": 3
   },
   "file_extension": ".py",
   "mimetype": "text/x-python",
   "name": "python",
   "nbconvert_exporter": "python",
   "pygments_lexer": "ipython3",
   "version": "3.11.4"
  }
 },
 "nbformat": 4,
 "nbformat_minor": 1
}
