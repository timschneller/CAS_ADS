{
 "cells": [
  {
   "cell_type": "markdown",
   "metadata": {
    "id": "VPrrXnuiCrxR"
   },
   "source": [
    "Notebook 2, Module 2, Statistical Inference for Data Science, CAS Applied Data Science, 2023-08-29, A. Mühlemann, University of Bern.\n",
    "\n",
    "*This notebook is based on the notebook by S. Haug and G. Conti from 2020*"
   ]
  },
  {
   "cell_type": "markdown",
   "metadata": {
    "id": "AXe5g2m0CrxU"
   },
   "source": [
    "\n",
    "# 2. Probability and descriptive statistics\n"
   ]
  },
  {
   "cell_type": "markdown",
   "metadata": {
    "id": "EC-udnfoCrxV"
   },
   "source": [
    "**Average expected study time :** 3x45 min (depending on your background). Your are supposed to play with the examples: change them, maybe test on another dataset. From just executing them, you will not learn much.\n",
    "\n",
    "**Learning outcomes :**\n",
    "- Random variables and probability density functions\n",
    "  - Know the normal probability density function (pdf)\n",
    "  - Know some other useful probability distributions\n",
    "- Describing data with descriptive statistics\n",
    "  - Obtain moments of a distribution. (mean, variance, standard deviation, kurtosis, skewness, quantile, median, mode)\n",
    "  - Generate data randomly according to a given distribution"
   ]
  },
  {
   "cell_type": "code",
   "execution_count": 1,
   "metadata": {
    "executionInfo": {
     "elapsed": 375,
     "status": "ok",
     "timestamp": 1693130007512,
     "user": {
      "displayName": "Anja Mühlemann",
      "userId": "13180139022750424409"
     },
     "user_tz": -120
    },
    "id": "6vWrFVAvCrxW"
   },
   "outputs": [],
   "source": [
    "# Load the needed python libraries by executing this python code (press ctrl enter)\n",
    "import pandas as pd\n",
    "import numpy as np\n",
    "import scipy.stats\n",
    "import matplotlib.pyplot as plt"
   ]
  },
  {
   "cell_type": "markdown",
   "metadata": {
    "id": "Xw0DzFIvCrxX"
   },
   "source": [
    "## 2.1 Random variables and probability density functions (pdf)\n",
    "\n"
   ]
  },
  {
   "cell_type": "markdown",
   "metadata": {
    "id": "ykLar845CrxX"
   },
   "source": [
    "As already mentioned this morning: probability theory is fundamental to statistics because it provides the mathematical framework for dealing with uncertainty and randomness, which are inherent in real-world data and phenomena.\n",
    "\n",
    "In inteferential statistics, we understand an experiment as a random process - similar to a coin toss - in which the outcome is unknown before it is conducted. With the help of probability theory, the possible outcomes can be described.\n",
    "\n",
    "Illustrated on our iris data set: we did not know which lenghts and widths we would obsereve, before we actually collected our data. Thus, the data set at hand is the product of a random process. More precisely, for each flower the observed values are the outcome of a random process.\n",
    "\n",
    "Thus, the observables are often called **random variables** and denoted by $X$. All in all, we can view our dataset as a number of manifestations of random variables $X_1$, $X_2$,...., $X_n$.\n",
    "\n",
    "A random variable $X$ can be discrete or continuous. And they can be uniquely described by their distribution. One option to discribe their distribution, is to work with probablility mass functions (in the case of discrete $X$) and probability density functions (in the case of continuous $X$).\n",
    "\n",
    "If $X$ is discrete, then we use $f(x;\\theta)=P_\\theta(X=x)$ to denote the probability that random variable $X$ takes value $x$ (in python the term probability mass function, pmf, is used for $f(x;\\theta)$). The parameter $\\theta$ stands for the parameters that influence the shape of the probability mass function.\n",
    "\n",
    "If $X$ is a continuous random variable, then $X$ can be uniquely described by its probability density funtion (pdf) $f(x;\\theta)$ that may also depend on one or more parameters $\\theta$. In contrast to the case where $X$ is discrete, the values of $f(x;\\theta)$ cannot be directly interpreted as the probabilities of outcome $x$. Instead, we look at an interval $[a,b], a\\le b, $ and interpret the area that the density assumes in this interval as the probability that X takes a value between $a$ and $b$ i.e.\n",
    "\n",
    "$$\n",
    "\\int_a^b f(y,\\theta) \\, dy = P(X \\in [a,b]).\n",
    "$$\n",
    "\n",
    "\n",
    "The pdf is always normalized to **unity** (the number 1), i.e.\n",
    "$$\n",
    "\\int_{-\\infty}^\\infty f(y,\\theta) \\, dy = 1.\n",
    "$$\n",
    "This makes sense, as this means nothing else as that the probability that any of the possible outcomes materializes equals 1.\n",
    "\n",
    "Sometimes $\\theta$ is unknown. Then, we wish to estimate its value from a given set of measurements of $X_1, ..., X_n$. This is a central topic of statistics (see next notebook on parameter estimation and regression).\n",
    "\n",
    "The following sections introduce some of the most used distributions - first and foremost the normal distribution."
   ]
  },
  {
   "cell_type": "markdown",
   "metadata": {
    "id": "HLNrZDw8yCm1"
   },
   "source": [
    "### 2.1.1 The normal distribution"
   ]
  },
  {
   "cell_type": "markdown",
   "metadata": {
    "id": "1mwatAILCrxY"
   },
   "source": [
    "The normal (or Gaussian) distribution is probably the most used one. It\n",
    "derives its importance in large part from the *central limit theorem*. Roughly speaking the central limit theorem says \"In most situations, when independent random variables are added, their properly normalized sum tends toward a normal distribution (informally a \"bell curve\") even if the original variables themselves are not normally distributed.\" https://en.wikipedia.org/wiki/Central_limit_theorem\n",
    "\n",
    "**Example:** If one flips a coin many times the probability of getting a given number of heads in a series of flips will approach a normal curve, with mean equal to half the total number of flips in each series. (In the limit of an infinite number of flips, it will equal a normal curve.)\n",
    "\n",
    "This means that in many cases it is sufficient to know the characteristics of the normal pdf. Also often unspecified statements like the *error*, or better, the *uncertainty* refer to their meaning on the normal pdf.\n",
    "\n",
    "The density of the normal distribution (in one dimension) is given by\n",
    "\n",
    "$$ f(x;\\mu,\\sigma) = \\frac{1}{\\sigma \\sqrt{2\\pi}} \\exp(\\frac{-(x-\\mu)^2}{2\\sigma^2}) $$\n",
    "\n",
    "It reads, given the distribution parameters mean $\\mu$ and variance $\\sigma$, x follows this function.\n",
    "\n",
    "### Exercise 2.1 (5 min)\n",
    "\n",
    "Plot the normal distribution with mean 0 and variance 5 for 400 x values between -20 to 20. Repeat this for two other means and variances. How big is the surface under the curves ?\n",
    "\n",
    "(See also scipy.stat.norm https://docs.scipy.org/doc/scipy-0.16.1/reference/generated/scipy.stats.norm.html)  \n"
   ]
  },
  {
   "cell_type": "code",
   "execution_count": 4,
   "metadata": {
    "colab": {
     "base_uri": "https://localhost:8080/",
     "height": 447
    },
    "executionInfo": {
     "elapsed": 473,
     "status": "ok",
     "timestamp": 1693130010998,
     "user": {
      "displayName": "Anja Mühlemann",
      "userId": "13180139022750424409"
     },
     "user_tz": -120
    },
    "id": "yOp5o6mMCrxZ",
    "outputId": "70be51e2-0cb9-4d59-a599-a7f96ad34bcf"
   },
   "outputs": [
    {
     "data": {
      "text/plain": [
       "<matplotlib.legend.Legend at 0x1b5c6fc6410>"
      ]
     },
     "execution_count": 4,
     "metadata": {},
     "output_type": "execute_result"
    },
    {
     "data": {
      "image/png": "[encoded data removed]",
      "text/plain": [
       "<Figure size 640x480 with 1 Axes>"
      ]
     },
     "metadata": {},
     "output_type": "display_data"
    }
   ],
   "source": [
    "# Part of the solution:\n",
    "\n",
    "#to be able to call norm.pdf directly as opposed to scipy.stats.norm\n",
    "from scipy.stats import norm\n",
    "x = np.linspace(-20,20,400) # 400 bins from -20 to 20\n",
    "# plt.plot(x, scipy.stats.norm.pdf(x,0,5**0.5))\n",
    "# plt.plot(x, scipy.stats.norm.pdf(x,0,2**0.5))\n",
    "plt.plot(x, norm.pdf(x,0,5**0.5))\n",
    "plt.plot(x, norm.pdf(x,0,2**0.5))\n",
    "plt.legend(['sigma=5', 'sigma=2'])"
   ]
  },
  {
   "cell_type": "code",
   "execution_count": 8,
   "metadata": {},
   "outputs": [
    {
     "name": "stdout",
     "output_type": "stream",
     "text": [
      "Help on method pdf in module scipy.stats._distn_infrastructure:\n",
      "\n",
      "pdf(x, *args, **kwds) method of scipy.stats._continuous_distns.norm_gen instance\n",
      "    Probability density function at x of the given RV.\n",
      "    \n",
      "    Parameters\n",
      "    ----------\n",
      "    x : array_like\n",
      "        quantiles\n",
      "    arg1, arg2, arg3,... : array_like\n",
      "        The shape parameter(s) for the distribution (see docstring of the\n",
      "        instance object for more information)\n",
      "    loc : array_like, optional\n",
      "        location parameter (default=0)\n",
      "    scale : array_like, optional\n",
      "        scale parameter (default=1)\n",
      "    \n",
      "    Returns\n",
      "    -------\n",
      "    pdf : ndarray\n",
      "        Probability density function evaluated at x\n",
      "\n"
     ]
    },
    {
     "data": {
      "image/png": "[encoded data removed]",
      "text/plain": [
       "<Figure size 640x480 with 1 Axes>"
      ]
     },
     "metadata": {},
     "output_type": "display_data"
    }
   ],
   "source": [
    "x = np.linspace(-10,10,100)\n",
    "plt.plot(x, norm.pdf(x,0,2))\n",
    "help(norm.pdf)"
   ]
  },
  {
   "cell_type": "markdown",
   "metadata": {
    "id": "kFwri6PS0LS7"
   },
   "source": [
    "### 2.1.2 Poisson distribution"
   ]
  },
  {
   "cell_type": "markdown",
   "metadata": {
    "id": "KENC1KioCrxh"
   },
   "source": [
    "**Some words on the Poisson distribution**\n",
    "\n",
    "The Poisson distribution is popular for modelling the number of times an event occurs in an interval of time or space. For example:\n",
    "\n",
    "- The number of meteorites greater than 1 meter diameter that strike earth in a year\n",
    "- The number of patients arriving in an emergency room between 10 and 11 pm\n",
    "\n",
    "The probability mass function is $$f(k;\\lambda) = \\frac{\\lambda^k exp(-\\lambda)}{k!}$$\n",
    "For large $k$ the normal distribution is an excellent approximation of the poisson pdf. For $k$ below 20 one should be careful using statements based on the normal distribution, e.g. the distribution is not symmetric anymore."
   ]
  },
  {
   "cell_type": "code",
   "execution_count": 7,
   "metadata": {
    "colab": {
     "base_uri": "https://localhost:8080/",
     "height": 447
    },
    "executionInfo": {
     "elapsed": 563,
     "status": "ok",
     "timestamp": 1693130014363,
     "user": {
      "displayName": "Anja Mühlemann",
      "userId": "13180139022750424409"
     },
     "user_tz": -120
    },
    "id": "d0Zhw0nGCrxh",
    "outputId": "a0bc2ff5-1739-401c-f668-2837aec40740"
   },
   "outputs": [
    {
     "data": {
      "text/plain": [
       "<matplotlib.legend.Legend at 0x7af23bbbe6b0>"
      ]
     },
     "execution_count": 7,
     "metadata": {},
     "output_type": "execute_result"
    },
    {
     "data": {
      "image/png": "[encoded data removed]",
      "text/plain": [
       "<Figure size 640x480 with 1 Axes>"
      ]
     },
     "metadata": {},
     "output_type": "display_data"
    }
   ],
   "source": [
    "x = np.arange(-1, 40)\n",
    "plt.step(x,scipy.stats.poisson.pmf(x,2))\n",
    "plt.step(x,scipy.stats.poisson.pmf(x,15))\n",
    "plt.legend(['lambda=2', 'lambda=15'])"
   ]
  },
  {
   "cell_type": "markdown",
   "metadata": {
    "id": "Dn2EbwxYCrxh"
   },
   "source": [
    "We see that a possion pdf with mean 15 looks very much like the normal distribution."
   ]
  },
  {
   "cell_type": "markdown",
   "metadata": {
    "id": "aH24nsOg0zRr"
   },
   "source": [
    "#### Exercise (after reading the section on descriptive statistics)\n",
    "Get some desciptive statistics from the poisson pmf with mean 1.7. See also https://docs.scipy.org/doc/scipy/reference/generated/scipy.stats.poisson.html"
   ]
  },
  {
   "cell_type": "code",
   "execution_count": 9,
   "metadata": {
    "colab": {
     "base_uri": "https://localhost:8080/"
    },
    "executionInfo": {
     "elapsed": 4,
     "status": "ok",
     "timestamp": 1693130046062,
     "user": {
      "displayName": "Anja Mühlemann",
      "userId": "13180139022750424409"
     },
     "user_tz": -120
    },
    "id": "jhgpz6OgCrxg",
    "outputId": "2d31feca-6fa1-47d9-b700-cc4f8c669e6c"
   },
   "outputs": [
    {
     "name": "stdout",
     "output_type": "stream",
     "text": [
      "Mean = 1.70 Var = 1.70 Std = 1.30 Skewness = 0.77 kurtosis = 0.59\n"
     ]
    }
   ],
   "source": [
    "mean, variance, skewness, kurtosis = scipy.stats.poisson.stats(1.7,moments='mvsk')\n",
    "#my_norm = norm(0,2)\n",
    "print('Mean = %1.2f Var = %1.2f Std = %1.2f Skewness = %1.2f kurtosis = %1.2f' % (mean,variance,variance**0.5,skewness,kurtosis))\n",
    "#my_norm.moments()"
   ]
  },
  {
   "cell_type": "markdown",
   "metadata": {
    "id": "Cg54iLV-Crxg"
   },
   "source": [
    "Plot mode and median of the above poisson distribution."
   ]
  },
  {
   "cell_type": "code",
   "execution_count": 10,
   "metadata": {
    "colab": {
     "base_uri": "https://localhost:8080/",
     "height": 447
    },
    "executionInfo": {
     "elapsed": 558,
     "status": "ok",
     "timestamp": 1693130059756,
     "user": {
      "displayName": "Anja Mühlemann",
      "userId": "13180139022750424409"
     },
     "user_tz": -120
    },
    "id": "Wk9FOtnrCrxg",
    "outputId": "f01db601-97ed-4da8-ecdd-3f584db919a8"
   },
   "outputs": [
    {
     "data": {
      "text/plain": [
       "<matplotlib.legend.Legend at 0x7af23af49180>"
      ]
     },
     "execution_count": 10,
     "metadata": {},
     "output_type": "execute_result"
    },
    {
     "data": {
      "image/png": "[encoded data removed]",
      "text/plain": [
       "<Figure size 640x480 with 1 Axes>"
      ]
     },
     "metadata": {},
     "output_type": "display_data"
    }
   ],
   "source": [
    "dist = scipy.stats.poisson(1.7)\n",
    "x = np.arange(-1, 10)\n",
    "sigma=variance**0.5\n",
    "plt.step(x,dist.pmf(x))\n",
    "dist.median()\n",
    "plt.axvline(x=mean, linewidth=2, color = 'k',label=\"Mean\")\n",
    "plt.axvline(x=mean+sigma, linewidth=2, color = 'r', label=\"Sigma (standard deviation)\")\n",
    "plt.axvline(x=dist.median(), linewidth=2, color = 'b',label=\"Median\")\n",
    "plt.legend(loc='upper right')"
   ]
  },
  {
   "cell_type": "markdown",
   "metadata": {
    "id": "WTZQ-K0eCrxh"
   },
   "source": [
    "### 2.1.3 Binomial distribution"
   ]
  },
  {
   "cell_type": "markdown",
   "metadata": {
    "id": "1AmdW0mZCrxh"
   },
   "source": [
    "The binomial distribution is frequently used to model the number of successes $k$ in a sequence of $n$ independent experiments.\n",
    "\n",
    "$$f(k;n,p) = \\binom{n}{k} \\cdot p^kq^{n-k}$$\n",
    "\n",
    "The binomial distribution converges towards the Poisson distribution as the number of trials $n$ goes to infinity while the product $np_n$ remains fixed. In this case, the Poisson distribution with parameter $\\lambda = np$ can be used as an approximation of the binomial distribution with parameters $n$ and $p$.\n",
    "\n",
    "For $n>20$ and $p$ not too close to $1$ or $0$, the normal distribution is also here a good approximation."
   ]
  },
  {
   "cell_type": "code",
   "execution_count": 11,
   "metadata": {
    "colab": {
     "base_uri": "https://localhost:8080/",
     "height": 447
    },
    "executionInfo": {
     "elapsed": 637,
     "status": "ok",
     "timestamp": 1693130120425,
     "user": {
      "displayName": "Anja Mühlemann",
      "userId": "13180139022750424409"
     },
     "user_tz": -120
    },
    "id": "kwu7F1Z4Crxi",
    "outputId": "66866029-7f7b-41ae-dbab-82bae73587ce"
   },
   "outputs": [
    {
     "data": {
      "text/plain": [
       "<matplotlib.legend.Legend at 0x7af23bba2a10>"
      ]
     },
     "execution_count": 11,
     "metadata": {},
     "output_type": "execute_result"
    },
    {
     "data": {
      "image/png": "[encoded data removed]",
      "text/plain": [
       "<Figure size 640x480 with 1 Axes>"
      ]
     },
     "metadata": {},
     "output_type": "display_data"
    }
   ],
   "source": [
    "x = np.arange(-1, 40)\n",
    "plt.step(x,scipy.stats.binom.pmf(x,40,0.05))\n",
    "plt.step(x,scipy.stats.binom.pmf(x,40,0.2))\n",
    "plt.step(x,scipy.stats.binom.pmf(x,40,0.5))\n",
    "plt.step(x,scipy.stats.binom.pmf(x,40,0.8))\n",
    "plt.legend(['n=40, p=0.05', 'n=40, p=0.2', 'n=40, p=0.5', 'n=40, p=0.8'])"
   ]
  },
  {
   "cell_type": "markdown",
   "metadata": {
    "id": "sn-zV5dL11kA"
   },
   "source": [
    "### 2.1.4 Student-distribution or t-distribution\n"
   ]
  },
  {
   "cell_type": "markdown",
   "metadata": {
    "id": "PkE4TeRCCN1C"
   },
   "source": [
    "The $t$-distribution is symmetric and bell-shaped, like the normal distribution. However, the $t$-distribution has heavier tails than the normal distribution. This means that it is more prone to producing values that fall far from its mean. This makes it useful for understanding the statistical behavior of certain types of ratios of random quantities, in which variation in the denominator is amplified and may produce outlying values when the denominator of the ratio falls close to zero.\n",
    "\n",
    "\n",
    "We will indirectly encounter the $t$-distribution on day four, when we look at hypothesis testing."
   ]
  },
  {
   "cell_type": "code",
   "execution_count": 24,
   "metadata": {
    "colab": {
     "base_uri": "https://localhost:8080/"
    },
    "executionInfo": {
     "elapsed": 5,
     "status": "ok",
     "timestamp": 1693130382310,
     "user": {
      "displayName": "Anja Mühlemann",
      "userId": "13180139022750424409"
     },
     "user_tz": -120
    },
    "id": "dEwcdhYg2nqW",
    "outputId": "031a4bed-001d-40f8-e450-2ba5efdd2945"
   },
   "outputs": [
    {
     "name": "stdout",
     "output_type": "stream",
     "text": [
      "Mean = 0.00 Var = 1.33 Std = 1.15 Skewness = 0.00 kurtosis = 1.50\n"
     ]
    }
   ],
   "source": [
    "from scipy.stats import t\n",
    "df=8\n",
    "mean, var, skew, kurt = t.stats(df, moments='mvsk')\n",
    "print('Mean = %1.2f Var = %1.2f Std = %1.2f Skewness = %1.2f kurtosis = %1.2f' % (mean,var,var**0.5,skew,kurt))"
   ]
  },
  {
   "cell_type": "markdown",
   "metadata": {
    "id": "3fBVK7bL4KyT"
   },
   "source": [
    "Plot the pdf for 2 and 10 degrees of freedom"
   ]
  },
  {
   "cell_type": "code",
   "execution_count": 15,
   "metadata": {
    "colab": {
     "base_uri": "https://localhost:8080/",
     "height": 447
    },
    "executionInfo": {
     "elapsed": 472,
     "status": "ok",
     "timestamp": 1693130175539,
     "user": {
      "displayName": "Anja Mühlemann",
      "userId": "13180139022750424409"
     },
     "user_tz": -120
    },
    "id": "8AlgX6A34N3K",
    "outputId": "945d8821-10c2-48c8-e1e9-92577f840821"
   },
   "outputs": [
    {
     "data": {
      "text/plain": [
       "<matplotlib.legend.Legend at 0x7af23ba4b940>"
      ]
     },
     "execution_count": 15,
     "metadata": {},
     "output_type": "execute_result"
    },
    {
     "data": {
      "image/png": "[encoded data removed]",
      "text/plain": [
       "<Figure size 640x480 with 1 Axes>"
      ]
     },
     "metadata": {},
     "output_type": "display_data"
    }
   ],
   "source": [
    "fig, ax = plt.subplots(1, 1)\n",
    "df=2\n",
    "x = np.linspace(t.ppf(0.01, df),\n",
    "                t.ppf(0.99, df), 100)\n",
    "ax.plot(x, t.pdf(x, df),\n",
    "        'r-', lw=2, alpha=0.6, label='t pdf')\n",
    "\n",
    "df=10\n",
    "x = np.linspace(t.ppf(0.01, df),\n",
    "                t.ppf(0.99, df), 100)\n",
    "ax.plot(x, t.pdf(x, df),\n",
    "        'b-', lw=2, alpha=0.6, label='t pdf')\n",
    "ax.legend(['df=2','df=10'])"
   ]
  },
  {
   "cell_type": "markdown",
   "metadata": {
    "id": "VdtG6mWF5Pen"
   },
   "source": [
    "### 2.1.5 Gamma distribution\n",
    "\n"
   ]
  },
  {
   "cell_type": "markdown",
   "metadata": {
    "id": "9K6_rgOWCS3k"
   },
   "source": [
    "In probability theory and statistics, the gamma distribution is a two-parameter family of continuous probability distributions.\n",
    "\n",
    "The depending on the parameters the Gamma distribution can be skewed to that it can be helpful to model the size of insurance claims and rainfalls.\n",
    "\n",
    "Lets look at the gamma pdf for different parameters"
   ]
  },
  {
   "cell_type": "code",
   "execution_count": 25,
   "metadata": {
    "colab": {
     "base_uri": "https://localhost:8080/",
     "height": 447
    },
    "executionInfo": {
     "elapsed": 476,
     "status": "ok",
     "timestamp": 1693130418974,
     "user": {
      "displayName": "Anja Mühlemann",
      "userId": "13180139022750424409"
     },
     "user_tz": -120
    },
    "id": "2M7wJtms6wmH",
    "outputId": "d712dad0-053a-48df-c4a7-8e275cb079a0"
   },
   "outputs": [
    {
     "data": {
      "text/plain": [
       "[<matplotlib.lines.Line2D at 0x7af23ad79b10>]"
      ]
     },
     "execution_count": 25,
     "metadata": {},
     "output_type": "execute_result"
    },
    {
     "data": {
      "image/png": "[encoded data removed]",
      "text/plain": [
       "<Figure size 640x480 with 1 Axes>"
      ]
     },
     "metadata": {},
     "output_type": "display_data"
    }
   ],
   "source": [
    "from scipy.stats import gamma\n",
    "fig, ax = plt.subplots(1, 1)\n",
    "a = 2\n",
    "x = np.linspace(gamma.ppf(0.01, a),\n",
    "                gamma.ppf(0.99, a), 100)\n",
    "\n",
    "ax.plot(x, gamma.pdf(x, a),\n",
    "       'r-', lw=2, alpha=0.6, label='gamma pdf')\n",
    "\n",
    "a = 4\n",
    "x = np.linspace(gamma.ppf(0.01, a),\n",
    "                gamma.ppf(0.99, a), 100)\n",
    "\n",
    "ax.plot(x, gamma.pdf(x, a),\n",
    "       'b-', lw=2, alpha=0.6, label='gamma pdf')\n",
    "a = 8\n",
    "x = np.linspace(gamma.ppf(0.01, a),\n",
    "                gamma.ppf(0.99, a), 100)\n",
    "\n",
    "ax.plot(x, gamma.pdf(x, a),\n",
    "       'g-', lw=2, alpha=0.6, label='gamma pdf')"
   ]
  },
  {
   "cell_type": "markdown",
   "metadata": {
    "id": "wn1aQWsuAMAA"
   },
   "source": [
    "Of course there are many many more useful distribution. If you want to see more, check out this reference http://staff.fysik.su.se/~walck/suf9601.pdf"
   ]
  },
  {
   "cell_type": "markdown",
   "metadata": {
    "id": "fK-auKXeCrxc"
   },
   "source": [
    "## 2.2 Describing distributions\n"
   ]
  },
  {
   "cell_type": "markdown",
   "metadata": {
    "id": "2GaZl2ICx20_"
   },
   "source": [
    "### 2.3.1 Moments of the pdf"
   ]
  },
  {
   "cell_type": "markdown",
   "metadata": {
    "id": "iR9Hd4wCCrxc"
   },
   "source": [
    "\n",
    "An important operator often used in probability theory and statistics is the expectation of a random variable $X$ with pdf $f(x;\\theta)$ given by\n",
    "$$\\mu=\\mathbb{E}(X) = \\int_{-\\infty}^{\\infty} xf(x; \\theta)dx.   $$\n",
    "The expected value is basically a generalized weighted average. In the case where $X$ is discrete the expectation is given by\n",
    "In the discrete case this integral becomes the sum known as the arithemtic mean:\n",
    "$$ \\mu = \\mathbb{E}(X)=  \\sum_{i=1}^n \\mathbb{P}(X=x_i) x_i.$$\n",
    "If $X$ is uniform this reduces to\n",
    "$$ \\mu=\\mathbb{E}(X) = \\frac{1}{n}\\sum_{i=1}^n  x_i.$$\n",
    "\n",
    "Since in statistics we assume that our draws are uniform this is the formula we use to estimate the expectation.\n",
    "<!--\n",
    "and the $n^{th}$ central moment of x (or moment about the mean, $α_1$) is\n",
    "\n",
    "$$ m_n \\equiv E[(x-\\alpha_1)^n] = \\int_{-\\infty}^{\\infty} (x-\\alpha_1)^nf(x)dx   $$\n",
    "-->\n",
    "\n",
    "Another operator closely related to the **mean $\\mu$ (or expectated value)** is the **variance $\\sigma^2$**, that is the expectation of the squared deviation of a random variable from its mean:\n",
    "\n",
    "$$\\sigma^2= Var(X) =\\int_{-\\infty}^{\\infty} (x-\\mu)^2 f(x)dx$$\n",
    "\n",
    "If $X$ is discrete then\n",
    "$$ \\sigma^2 = Var(X)=\\sum_{i=1}^n (x_i - \\mu)^2P(X=x_i).$$\n",
    "\n",
    "If $X$ is uniform this reduces to\n",
    "$$ \\sigma^2 = Var(X)= \\frac{1}{n} \\sum_{i=1}^n (x_i - \\mu)^2.$$\n",
    "\n",
    "The mean is the location of the “center of mass” of the pdf, and the variance is a measure of the square of its width. It is often convenient to use the **standard deviation (SD)** of $X$, $\\sigma$, defined as the square root of the variance.\n",
    "\n",
    "The mean and variance are especially important when talking about normal distribution as they uniquely characterize the graph of the normal distribution:  the mean is center of the graph and the standard deviation  determines the amount of dispersion away from the mean.\n",
    "\n",
    "The idea behind the mean can be generalized, so that we obtain a the notion of moments\n",
    "$$\\mathbb{E}(x^n) = \\int_{-\\infty}^{\\infty} x^nf(x)dx.   $$\n",
    "\n",
    "The second moment $\\mathbb{E}(X^2)$ occurs in the variance, the third $\\mathbb{E}(X^3)$ is related to the skewness and fourth moment $\\mathbb{E}(X^4)$ to the kurtosis.  The skewness is a number indicating the deviation from a symmetric form. Kurtosis is a number indicating if the tails of the distribution is larger or smaller then the tails of the normal distribution.\n"
   ]
  },
  {
   "cell_type": "markdown",
   "metadata": {
    "id": "qCzAPTnbCrxd"
   },
   "source": [
    "### 2.3.2 Quantiles and median"
   ]
  },
  {
   "cell_type": "markdown",
   "metadata": {
    "id": "qJO3-Bk6Crxd"
   },
   "source": [
    "The **quantile $q_{\\alpha}$** is the value $x$ of the random variable $X$ at which $\\alpha\\%$ of the area is smaller than $x$. An important special case is the **median, $q_{med} \\equiv q_{0.5}$**. At the median half the area lies above and half lies below.\n",
    "For the normal pdf the median equals the mean. The most probable value of a distribution is called **mode**.\n",
    "\n",
    "Special quantiles are the quartiles and percentiles. The first quartile is the $q_{0.25}$, the second the $q_{0.5}$ etc. Percentiles are for example $q_{0.75}$ etc.\n",
    "\n",
    "<!--\n",
    "Any odd moment about the mean is a measure of the **skewness** of the p.d.f. The simplest of these is the dimensionless coefficient of skewness $\\gamma_1 = m_33/\\sigma^3$.\n",
    "\n",
    "The fourth central moment $m_4$ provides a convenient measure of the tails of a distribution. For the Gaussian distribution, one has $m_4 = 3\\sigma^4$. The **kurtosis** is defined as $\\gamma_2 = m_4/\\sigma^4 − 3$, i.e., it is zero for a Gaussian, positive for a leptokurtic distribution with longer tails, and negative for a platykurtic distribution with tails that die off more quickly than those of a Gaussian.\n",
    "\n",
    "The **quantile $x_{\\alpha}$** is the value of the random variable x at which the cumulative distribution is equal to $\\alpha$. That is, the quantile is the inverse of the cumulative distribution function, i.e., $x_{alpha} = F^{−1}(\\alpha)$. An important special case is the **median, $x_{med}$**, defined by $F(x_{med}) = 1/2$, i.e., half the probability lies above and half lies below $x_{med}$. (More rigorously, $x_{med}$ is a median if $P(x \\geq x_{med}) \\geq 1/2$ and $P(x \\leq x_{med}) \\geq 1/2$. If only one value exists, it is called ‘the median.’)\n",
    "\n",
    "Under a monotonic change of variable $x \\rightarrow y(x)$, the quantiles of a distribution (and hence also the median) obey $y_{\\alpha} = y(x_{\\alpha})$. In general the expectation value and **mode** (most probable value) of a distribution do not, however, transform in this way.\n",
    "\n",
    "Let us look at median and quantile$_68$ of the normal pdf:\n",
    "-->"
   ]
  },
  {
   "cell_type": "markdown",
   "metadata": {
    "id": "qCwS2yugCrxe"
   },
   "source": [
    "#### Exercise"
   ]
  },
  {
   "cell_type": "markdown",
   "metadata": {
    "id": "h2KRFefuCrxe"
   },
   "source": [
    "Get some desciptive statistics from a normal (continous) pdf with mean 0 and standard deviation 4."
   ]
  },
  {
   "cell_type": "code",
   "execution_count": 26,
   "metadata": {
    "colab": {
     "base_uri": "https://localhost:8080/"
    },
    "executionInfo": {
     "elapsed": 405,
     "status": "ok",
     "timestamp": 1693130523095,
     "user": {
      "displayName": "Anja Mühlemann",
      "userId": "13180139022750424409"
     },
     "user_tz": -120
    },
    "id": "b8O9HCdPCrxe",
    "outputId": "3a6ae48a-f1a6-4f99-f7ba-c6eaef194e83"
   },
   "outputs": [
    {
     "name": "stdout",
     "output_type": "stream",
     "text": [
      "0.0 16.0 0.0 0.0\n"
     ]
    }
   ],
   "source": [
    "mean, variance, skewness, kurtosis = scipy.stats.norm.stats(0,4,moments='mvsk')\n",
    "print(mean, variance, skewness, kurtosis)"
   ]
  },
  {
   "cell_type": "markdown",
   "metadata": {
    "id": "P1zQ_0IPCrxf"
   },
   "source": [
    "Plot the pdf and some moments"
   ]
  },
  {
   "cell_type": "code",
   "execution_count": 27,
   "metadata": {
    "colab": {
     "base_uri": "https://localhost:8080/",
     "height": 447
    },
    "executionInfo": {
     "elapsed": 7,
     "status": "ok",
     "timestamp": 1693130526853,
     "user": {
      "displayName": "Anja Mühlemann",
      "userId": "13180139022750424409"
     },
     "user_tz": -120
    },
    "id": "xM0X1SedCrxf",
    "outputId": "7af2b9b9-7636-4617-d16b-fc337b9ecd4c"
   },
   "outputs": [
    {
     "data": {
      "text/plain": [
       "<matplotlib.legend.Legend at 0x7af23acc0d90>"
      ]
     },
     "execution_count": 27,
     "metadata": {},
     "output_type": "execute_result"
    },
    {
     "data": {
      "image/png": "[encoded data removed]",
      "text/plain": [
       "<Figure size 640x480 with 1 Axes>"
      ]
     },
     "metadata": {},
     "output_type": "display_data"
    }
   ],
   "source": [
    "x = np.linspace(-20,20,400)\n",
    "sigma=variance**0.5\n",
    "plt.plot(x,scipy.stats.norm.pdf(x,mean,sigma))\n",
    "plt.axvline(x=mean, linewidth=2, color = 'k',label=\"Mean\") # Plot the mean as a vertical line\n",
    "plt.axvline(x=mean-sigma, linewidth=2, color = 'r', label=\"Sigma (standard deviation)\")\n",
    "plt.axvline(x=mean+sigma, linewidth=2, color = 'r')\n",
    "plt.legend(loc='upper right')"
   ]
  },
  {
   "cell_type": "markdown",
   "metadata": {
    "id": "fOlh90B0Crxj"
   },
   "source": [
    "Produce the descriptive statistics for the Iris Virginica data.\n",
    "Then plot the histograms and scatter plots.\n",
    "We have seen that Iris Virginica could possibly be normal distributied. Thus, median and mean should be close. Let us check this"
   ]
  },
  {
   "cell_type": "code",
   "execution_count": 28,
   "metadata": {
    "colab": {
     "base_uri": "https://localhost:8080/",
     "height": 206
    },
    "executionInfo": {
     "elapsed": 900,
     "status": "ok",
     "timestamp": 1693130537019,
     "user": {
      "displayName": "Anja Mühlemann",
      "userId": "13180139022750424409"
     },
     "user_tz": -120
    },
    "id": "efAFpQ3pCrxj",
    "outputId": "e216785e-177f-49a7-bd1c-a189f6af370f"
   },
   "outputs": [
    {
     "data": {
      "text/html": [
       "\n",
       "  <div id=\"df-63014c6f-8e41-4d95-b3f4-8f8883dbd6d8\" class=\"colab-df-container\">\n",
       "    <div>\n",
       "<style scoped>\n",
       "    .dataframe tbody tr th:only-of-type {\n",
       "        vertical-align: middle;\n",
       "    }\n",
       "\n",
       "    .dataframe tbody tr th {\n",
       "        vertical-align: top;\n",
       "    }\n",
       "\n",
       "    .dataframe thead th {\n",
       "        text-align: right;\n",
       "    }\n",
       "</style>\n",
       "<table border=\"1\" class=\"dataframe\">\n",
       "  <thead>\n",
       "    <tr style=\"text-align: right;\">\n",
       "      <th></th>\n",
       "      <th>slength</th>\n",
       "      <th>swidth</th>\n",
       "      <th>plength</th>\n",
       "      <th>pwidth</th>\n",
       "      <th>species</th>\n",
       "    </tr>\n",
       "  </thead>\n",
       "  <tbody>\n",
       "    <tr>\n",
       "      <th>0</th>\n",
       "      <td>5.1</td>\n",
       "      <td>3.5</td>\n",
       "      <td>1.4</td>\n",
       "      <td>0.2</td>\n",
       "      <td>Iris-setosa</td>\n",
       "    </tr>\n",
       "    <tr>\n",
       "      <th>1</th>\n",
       "      <td>4.9</td>\n",
       "      <td>3.0</td>\n",
       "      <td>1.4</td>\n",
       "      <td>0.2</td>\n",
       "      <td>Iris-setosa</td>\n",
       "    </tr>\n",
       "    <tr>\n",
       "      <th>2</th>\n",
       "      <td>4.7</td>\n",
       "      <td>3.2</td>\n",
       "      <td>1.3</td>\n",
       "      <td>0.2</td>\n",
       "      <td>Iris-setosa</td>\n",
       "    </tr>\n",
       "    <tr>\n",
       "      <th>3</th>\n",
       "      <td>4.6</td>\n",
       "      <td>3.1</td>\n",
       "      <td>1.5</td>\n",
       "      <td>0.2</td>\n",
       "      <td>Iris-setosa</td>\n",
       "    </tr>\n",
       "    <tr>\n",
       "      <th>4</th>\n",
       "      <td>5.0</td>\n",
       "      <td>3.6</td>\n",
       "      <td>1.4</td>\n",
       "      <td>0.2</td>\n",
       "      <td>Iris-setosa</td>\n",
       "    </tr>\n",
       "  </tbody>\n",
       "</table>\n",
       "</div>\n",
       "    <div class=\"colab-df-buttons\">\n",
       "\n",
       "  <div class=\"colab-df-container\">\n",
       "    <button class=\"colab-df-convert\" onclick=\"convertToInteractive('df-63014c6f-8e41-4d95-b3f4-8f8883dbd6d8')\"\n",
       "            title=\"Convert this dataframe to an interactive table.\"\n",
       "            style=\"display:none;\">\n",
       "\n",
       "  <svg xmlns=\"http://www.w3.org/2000/svg\" height=\"24px\" viewBox=\"0 -960 960 960\">\n",
       "    <path d=\"M120-120v-720h720v720H120Zm60-500h600v-160H180v160Zm220 220h160v-160H400v160Zm0 220h160v-160H400v160ZM180-400h160v-160H180v160Zm440 0h160v-160H620v160ZM180-180h160v-160H180v160Zm440 0h160v-160H620v160Z\"/>\n",
       "  </svg>\n",
       "    </button>\n",
       "\n",
       "  <style>\n",
       "    .colab-df-container {\n",
       "      display:flex;\n",
       "      gap: 12px;\n",
       "    }\n",
       "\n",
       "    .colab-df-convert {\n",
       "      background-color: #E8F0FE;\n",
       "      border: none;\n",
       "      border-radius: 50%;\n",
       "      cursor: pointer;\n",
       "      display: none;\n",
       "      fill: #1967D2;\n",
       "      height: 32px;\n",
       "      padding: 0 0 0 0;\n",
       "      width: 32px;\n",
       "    }\n",
       "\n",
       "    .colab-df-convert:hover {\n",
       "      background-color: #E2EBFA;\n",
       "      box-shadow: 0px 1px 2px rgba(60, 64, 67, 0.3), 0px 1px 3px 1px rgba(60, 64, 67, 0.15);\n",
       "      fill: #174EA6;\n",
       "    }\n",
       "\n",
       "    .colab-df-buttons div {\n",
       "      margin-bottom: 4px;\n",
       "    }\n",
       "\n",
       "    [theme=dark] .colab-df-convert {\n",
       "      background-color: #3B4455;\n",
       "      fill: #D2E3FC;\n",
       "    }\n",
       "\n",
       "    [theme=dark] .colab-df-convert:hover {\n",
       "      background-color: #434B5C;\n",
       "      box-shadow: 0px 1px 3px 1px rgba(0, 0, 0, 0.15);\n",
       "      filter: drop-shadow(0px 1px 2px rgba(0, 0, 0, 0.3));\n",
       "      fill: #FFFFFF;\n",
       "    }\n",
       "  </style>\n",
       "\n",
       "    <script>\n",
       "      const buttonEl =\n",
       "        document.querySelector('#df-63014c6f-8e41-4d95-b3f4-8f8883dbd6d8 button.colab-df-convert');\n",
       "      buttonEl.style.display =\n",
       "        google.colab.kernel.accessAllowed ? 'block' : 'none';\n",
       "\n",
       "      async function convertToInteractive(key) {\n",
       "        const element = document.querySelector('#df-63014c6f-8e41-4d95-b3f4-8f8883dbd6d8');\n",
       "        const dataTable =\n",
       "          await google.colab.kernel.invokeFunction('convertToInteractive',\n",
       "                                                    [key], {});\n",
       "        if (!dataTable) return;\n",
       "\n",
       "        const docLinkHtml = 'Like what you see? Visit the ' +\n",
       "          '<a target=\"_blank\" href=https://colab.research.google.com/notebooks/data_table.ipynb>data table notebook</a>'\n",
       "          + ' to learn more about interactive tables.';\n",
       "        element.innerHTML = '';\n",
       "        dataTable['output_type'] = 'display_data';\n",
       "        await google.colab.output.renderOutput(dataTable, element);\n",
       "        const docLink = document.createElement('div');\n",
       "        docLink.innerHTML = docLinkHtml;\n",
       "        element.appendChild(docLink);\n",
       "      }\n",
       "    </script>\n",
       "  </div>\n",
       "\n",
       "\n",
       "<div id=\"df-b48cc727-ce46-418d-8252-12dc74139112\">\n",
       "  <button class=\"colab-df-quickchart\" onclick=\"quickchart('df-b48cc727-ce46-418d-8252-12dc74139112')\"\n",
       "            title=\"Suggest charts.\"\n",
       "            style=\"display:none;\">\n",
       "\n",
       "<svg xmlns=\"http://www.w3.org/2000/svg\" height=\"24px\"viewBox=\"0 0 24 24\"\n",
       "     width=\"24px\">\n",
       "    <g>\n",
       "        <path d=\"M19 3H5c-1.1 0-2 .9-2 2v14c0 1.1.9 2 2 2h14c1.1 0 2-.9 2-2V5c0-1.1-.9-2-2-2zM9 17H7v-7h2v7zm4 0h-2V7h2v10zm4 0h-2v-4h2v4z\"/>\n",
       "    </g>\n",
       "</svg>\n",
       "  </button>\n",
       "\n",
       "<style>\n",
       "  .colab-df-quickchart {\n",
       "    background-color: #E8F0FE;\n",
       "    border: none;\n",
       "    border-radius: 50%;\n",
       "    cursor: pointer;\n",
       "    display: none;\n",
       "    fill: #1967D2;\n",
       "    height: 32px;\n",
       "    padding: 0 0 0 0;\n",
       "    width: 32px;\n",
       "  }\n",
       "\n",
       "  .colab-df-quickchart:hover {\n",
       "    background-color: #E2EBFA;\n",
       "    box-shadow: 0px 1px 2px rgba(60, 64, 67, 0.3), 0px 1px 3px 1px rgba(60, 64, 67, 0.15);\n",
       "    fill: #174EA6;\n",
       "  }\n",
       "\n",
       "  [theme=dark] .colab-df-quickchart {\n",
       "    background-color: #3B4455;\n",
       "    fill: #D2E3FC;\n",
       "  }\n",
       "\n",
       "  [theme=dark] .colab-df-quickchart:hover {\n",
       "    background-color: #434B5C;\n",
       "    box-shadow: 0px 1px 3px 1px rgba(0, 0, 0, 0.15);\n",
       "    filter: drop-shadow(0px 1px 2px rgba(0, 0, 0, 0.3));\n",
       "    fill: #FFFFFF;\n",
       "  }\n",
       "</style>\n",
       "\n",
       "  <script>\n",
       "    async function quickchart(key) {\n",
       "      const charts = await google.colab.kernel.invokeFunction(\n",
       "          'suggestCharts', [key], {});\n",
       "    }\n",
       "    (() => {\n",
       "      let quickchartButtonEl =\n",
       "        document.querySelector('#df-b48cc727-ce46-418d-8252-12dc74139112 button');\n",
       "      quickchartButtonEl.style.display =\n",
       "        google.colab.kernel.accessAllowed ? 'block' : 'none';\n",
       "    })();\n",
       "  </script>\n",
       "</div>\n",
       "    </div>\n",
       "  </div>\n"
      ],
      "text/plain": [
       "   slength  swidth  plength  pwidth      species\n",
       "0      5.1     3.5      1.4     0.2  Iris-setosa\n",
       "1      4.9     3.0      1.4     0.2  Iris-setosa\n",
       "2      4.7     3.2      1.3     0.2  Iris-setosa\n",
       "3      4.6     3.1      1.5     0.2  Iris-setosa\n",
       "4      5.0     3.6      1.4     0.2  Iris-setosa"
      ]
     },
     "execution_count": 28,
     "metadata": {},
     "output_type": "execute_result"
    }
   ],
   "source": [
    "\n",
    "url = \"https://archive.ics.uci.edu/ml/machine-learning-databases/iris/iris.data\"\n",
    "dataframe = pd.read_csv(url,names=['slength','swidth','plength','pwidth','species'])\n",
    "dataframe.head()"
   ]
  },
  {
   "cell_type": "code",
   "execution_count": 29,
   "metadata": {
    "colab": {
     "base_uri": "https://localhost:8080/"
    },
    "executionInfo": {
     "elapsed": 381,
     "status": "ok",
     "timestamp": 1693130544194,
     "user": {
      "displayName": "Anja Mühlemann",
      "userId": "13180139022750424409"
     },
     "user_tz": -120
    },
    "id": "ArKI8jH_Crxk",
    "outputId": "7281842d-9bc1-4dbc-e744-56e292647621"
   },
   "outputs": [
    {
     "name": "stderr",
     "output_type": "stream",
     "text": [
      "<ipython-input-29-5fbb06f0437d>:2: FutureWarning: The default value of numeric_only in DataFrame.mean is deprecated. In a future version, it will default to False. In addition, specifying 'numeric_only=None' is deprecated. Select only valid columns or specify the value of numeric_only to silence this warning.\n",
      "  df_virginica.mean()\n"
     ]
    },
    {
     "data": {
      "text/plain": [
       "slength    6.588\n",
       "swidth     2.974\n",
       "plength    5.552\n",
       "pwidth     2.026\n",
       "dtype: float64"
      ]
     },
     "execution_count": 29,
     "metadata": {},
     "output_type": "execute_result"
    }
   ],
   "source": [
    "df_virginica = dataframe[dataframe['species']=='Iris-virginica']\n",
    "df_virginica.mean()\n",
    "\n"
   ]
  },
  {
   "cell_type": "code",
   "execution_count": 30,
   "metadata": {
    "colab": {
     "base_uri": "https://localhost:8080/"
    },
    "executionInfo": {
     "elapsed": 410,
     "status": "ok",
     "timestamp": 1693130548422,
     "user": {
      "displayName": "Anja Mühlemann",
      "userId": "13180139022750424409"
     },
     "user_tz": -120
    },
    "id": "A_zFdBALCrxk",
    "outputId": "37518072-800a-4bb9-9053-a5db71823319"
   },
   "outputs": [
    {
     "name": "stderr",
     "output_type": "stream",
     "text": [
      "<ipython-input-30-dd57efa64d19>:1: FutureWarning: The default value of numeric_only in DataFrame.median is deprecated. In a future version, it will default to False. In addition, specifying 'numeric_only=None' is deprecated. Select only valid columns or specify the value of numeric_only to silence this warning.\n",
      "  df_virginica.median()\n"
     ]
    },
    {
     "data": {
      "text/plain": [
       "slength    6.50\n",
       "swidth     3.00\n",
       "plength    5.55\n",
       "pwidth     2.00\n",
       "dtype: float64"
      ]
     },
     "execution_count": 30,
     "metadata": {},
     "output_type": "execute_result"
    }
   ],
   "source": [
    "df_virginica.median()"
   ]
  },
  {
   "cell_type": "code",
   "execution_count": null,
   "metadata": {
    "colab": {
     "base_uri": "https://localhost:8080/",
     "height": 300
    },
    "executionInfo": {
     "elapsed": 250,
     "status": "ok",
     "timestamp": 1692872237009,
     "user": {
      "displayName": "Anja Mühlemann",
      "userId": "13180139022750424409"
     },
     "user_tz": -120
    },
    "id": "VYosdtrLCrxk",
    "outputId": "b4d6ed88-3b7a-445c-b7d2-03083d7b08a9"
   },
   "outputs": [
    {
     "data": {
      "text/html": [
       "\n",
       "  <div id=\"df-c1bbc1d0-5fb5-43f2-9a07-fbef2481171b\" class=\"colab-df-container\">\n",
       "    <div>\n",
       "<style scoped>\n",
       "    .dataframe tbody tr th:only-of-type {\n",
       "        vertical-align: middle;\n",
       "    }\n",
       "\n",
       "    .dataframe tbody tr th {\n",
       "        vertical-align: top;\n",
       "    }\n",
       "\n",
       "    .dataframe thead th {\n",
       "        text-align: right;\n",
       "    }\n",
       "</style>\n",
       "<table border=\"1\" class=\"dataframe\">\n",
       "  <thead>\n",
       "    <tr style=\"text-align: right;\">\n",
       "      <th></th>\n",
       "      <th>slength</th>\n",
       "      <th>swidth</th>\n",
       "      <th>plength</th>\n",
       "      <th>pwidth</th>\n",
       "    </tr>\n",
       "  </thead>\n",
       "  <tbody>\n",
       "    <tr>\n",
       "      <th>count</th>\n",
       "      <td>50.00000</td>\n",
       "      <td>50.000000</td>\n",
       "      <td>50.000000</td>\n",
       "      <td>50.00000</td>\n",
       "    </tr>\n",
       "    <tr>\n",
       "      <th>mean</th>\n",
       "      <td>6.58800</td>\n",
       "      <td>2.974000</td>\n",
       "      <td>5.552000</td>\n",
       "      <td>2.02600</td>\n",
       "    </tr>\n",
       "    <tr>\n",
       "      <th>std</th>\n",
       "      <td>0.63588</td>\n",
       "      <td>0.322497</td>\n",
       "      <td>0.551895</td>\n",
       "      <td>0.27465</td>\n",
       "    </tr>\n",
       "    <tr>\n",
       "      <th>min</th>\n",
       "      <td>4.90000</td>\n",
       "      <td>2.200000</td>\n",
       "      <td>4.500000</td>\n",
       "      <td>1.40000</td>\n",
       "    </tr>\n",
       "    <tr>\n",
       "      <th>25%</th>\n",
       "      <td>6.22500</td>\n",
       "      <td>2.800000</td>\n",
       "      <td>5.100000</td>\n",
       "      <td>1.80000</td>\n",
       "    </tr>\n",
       "    <tr>\n",
       "      <th>50%</th>\n",
       "      <td>6.50000</td>\n",
       "      <td>3.000000</td>\n",
       "      <td>5.550000</td>\n",
       "      <td>2.00000</td>\n",
       "    </tr>\n",
       "    <tr>\n",
       "      <th>75%</th>\n",
       "      <td>6.90000</td>\n",
       "      <td>3.175000</td>\n",
       "      <td>5.875000</td>\n",
       "      <td>2.30000</td>\n",
       "    </tr>\n",
       "    <tr>\n",
       "      <th>max</th>\n",
       "      <td>7.90000</td>\n",
       "      <td>3.800000</td>\n",
       "      <td>6.900000</td>\n",
       "      <td>2.50000</td>\n",
       "    </tr>\n",
       "  </tbody>\n",
       "</table>\n",
       "</div>\n",
       "    <div class=\"colab-df-buttons\">\n",
       "\n",
       "  <div class=\"colab-df-container\">\n",
       "    <button class=\"colab-df-convert\" onclick=\"convertToInteractive('df-c1bbc1d0-5fb5-43f2-9a07-fbef2481171b')\"\n",
       "            title=\"Convert this dataframe to an interactive table.\"\n",
       "            style=\"display:none;\">\n",
       "\n",
       "  <svg xmlns=\"http://www.w3.org/2000/svg\" height=\"24px\" viewBox=\"0 -960 960 960\">\n",
       "    <path d=\"M120-120v-720h720v720H120Zm60-500h600v-160H180v160Zm220 220h160v-160H400v160Zm0 220h160v-160H400v160ZM180-400h160v-160H180v160Zm440 0h160v-160H620v160ZM180-180h160v-160H180v160Zm440 0h160v-160H620v160Z\"/>\n",
       "  </svg>\n",
       "    </button>\n",
       "\n",
       "  <style>\n",
       "    .colab-df-container {\n",
       "      display:flex;\n",
       "      gap: 12px;\n",
       "    }\n",
       "\n",
       "    .colab-df-convert {\n",
       "      background-color: #E8F0FE;\n",
       "      border: none;\n",
       "      border-radius: 50%;\n",
       "      cursor: pointer;\n",
       "      display: none;\n",
       "      fill: #1967D2;\n",
       "      height: 32px;\n",
       "      padding: 0 0 0 0;\n",
       "      width: 32px;\n",
       "    }\n",
       "\n",
       "    .colab-df-convert:hover {\n",
       "      background-color: #E2EBFA;\n",
       "      box-shadow: 0px 1px 2px rgba(60, 64, 67, 0.3), 0px 1px 3px 1px rgba(60, 64, 67, 0.15);\n",
       "      fill: #174EA6;\n",
       "    }\n",
       "\n",
       "    .colab-df-buttons div {\n",
       "      margin-bottom: 4px;\n",
       "    }\n",
       "\n",
       "    [theme=dark] .colab-df-convert {\n",
       "      background-color: #3B4455;\n",
       "      fill: #D2E3FC;\n",
       "    }\n",
       "\n",
       "    [theme=dark] .colab-df-convert:hover {\n",
       "      background-color: #434B5C;\n",
       "      box-shadow: 0px 1px 3px 1px rgba(0, 0, 0, 0.15);\n",
       "      filter: drop-shadow(0px 1px 2px rgba(0, 0, 0, 0.3));\n",
       "      fill: #FFFFFF;\n",
       "    }\n",
       "  </style>\n",
       "\n",
       "    <script>\n",
       "      const buttonEl =\n",
       "        document.querySelector('#df-c1bbc1d0-5fb5-43f2-9a07-fbef2481171b button.colab-df-convert');\n",
       "      buttonEl.style.display =\n",
       "        google.colab.kernel.accessAllowed ? 'block' : 'none';\n",
       "\n",
       "      async function convertToInteractive(key) {\n",
       "        const element = document.querySelector('#df-c1bbc1d0-5fb5-43f2-9a07-fbef2481171b');\n",
       "        const dataTable =\n",
       "          await google.colab.kernel.invokeFunction('convertToInteractive',\n",
       "                                                    [key], {});\n",
       "        if (!dataTable) return;\n",
       "\n",
       "        const docLinkHtml = 'Like what you see? Visit the ' +\n",
       "          '<a target=\"_blank\" href=https://colab.research.google.com/notebooks/data_table.ipynb>data table notebook</a>'\n",
       "          + ' to learn more about interactive tables.';\n",
       "        element.innerHTML = '';\n",
       "        dataTable['output_type'] = 'display_data';\n",
       "        await google.colab.output.renderOutput(dataTable, element);\n",
       "        const docLink = document.createElement('div');\n",
       "        docLink.innerHTML = docLinkHtml;\n",
       "        element.appendChild(docLink);\n",
       "      }\n",
       "    </script>\n",
       "  </div>\n",
       "\n",
       "\n",
       "<div id=\"df-91ca4f45-9cc9-4fb7-aaec-1bcd2688c7b5\">\n",
       "  <button class=\"colab-df-quickchart\" onclick=\"quickchart('df-91ca4f45-9cc9-4fb7-aaec-1bcd2688c7b5')\"\n",
       "            title=\"Suggest charts.\"\n",
       "            style=\"display:none;\">\n",
       "\n",
       "<svg xmlns=\"http://www.w3.org/2000/svg\" height=\"24px\"viewBox=\"0 0 24 24\"\n",
       "     width=\"24px\">\n",
       "    <g>\n",
       "        <path d=\"M19 3H5c-1.1 0-2 .9-2 2v14c0 1.1.9 2 2 2h14c1.1 0 2-.9 2-2V5c0-1.1-.9-2-2-2zM9 17H7v-7h2v7zm4 0h-2V7h2v10zm4 0h-2v-4h2v4z\"/>\n",
       "    </g>\n",
       "</svg>\n",
       "  </button>\n",
       "\n",
       "<style>\n",
       "  .colab-df-quickchart {\n",
       "    background-color: #E8F0FE;\n",
       "    border: none;\n",
       "    border-radius: 50%;\n",
       "    cursor: pointer;\n",
       "    display: none;\n",
       "    fill: #1967D2;\n",
       "    height: 32px;\n",
       "    padding: 0 0 0 0;\n",
       "    width: 32px;\n",
       "  }\n",
       "\n",
       "  .colab-df-quickchart:hover {\n",
       "    background-color: #E2EBFA;\n",
       "    box-shadow: 0px 1px 2px rgba(60, 64, 67, 0.3), 0px 1px 3px 1px rgba(60, 64, 67, 0.15);\n",
       "    fill: #174EA6;\n",
       "  }\n",
       "\n",
       "  [theme=dark] .colab-df-quickchart {\n",
       "    background-color: #3B4455;\n",
       "    fill: #D2E3FC;\n",
       "  }\n",
       "\n",
       "  [theme=dark] .colab-df-quickchart:hover {\n",
       "    background-color: #434B5C;\n",
       "    box-shadow: 0px 1px 3px 1px rgba(0, 0, 0, 0.15);\n",
       "    filter: drop-shadow(0px 1px 2px rgba(0, 0, 0, 0.3));\n",
       "    fill: #FFFFFF;\n",
       "  }\n",
       "</style>\n",
       "\n",
       "  <script>\n",
       "    async function quickchart(key) {\n",
       "      const charts = await google.colab.kernel.invokeFunction(\n",
       "          'suggestCharts', [key], {});\n",
       "    }\n",
       "    (() => {\n",
       "      let quickchartButtonEl =\n",
       "        document.querySelector('#df-91ca4f45-9cc9-4fb7-aaec-1bcd2688c7b5 button');\n",
       "      quickchartButtonEl.style.display =\n",
       "        google.colab.kernel.accessAllowed ? 'block' : 'none';\n",
       "    })();\n",
       "  </script>\n",
       "</div>\n",
       "    </div>\n",
       "  </div>\n"
      ],
      "text/plain": [
       "        slength     swidth    plength    pwidth\n",
       "count  50.00000  50.000000  50.000000  50.00000\n",
       "mean    6.58800   2.974000   5.552000   2.02600\n",
       "std     0.63588   0.322497   0.551895   0.27465\n",
       "min     4.90000   2.200000   4.500000   1.40000\n",
       "25%     6.22500   2.800000   5.100000   1.80000\n",
       "50%     6.50000   3.000000   5.550000   2.00000\n",
       "75%     6.90000   3.175000   5.875000   2.30000\n",
       "max     7.90000   3.800000   6.900000   2.50000"
      ]
     },
     "execution_count": 62,
     "metadata": {},
     "output_type": "execute_result"
    }
   ],
   "source": [
    "df_virginica.describe() # Or get a summary"
   ]
  },
  {
   "cell_type": "markdown",
   "metadata": {
    "id": "VPsjBML9Crxk"
   },
   "source": [
    "All the descriptive statistics methods for python dataframes are listed here:\n",
    "https://pandas.pydata.org/pandas-docs/stable/api.html#api-dataframe-stats"
   ]
  },
  {
   "cell_type": "markdown",
   "metadata": {
    "id": "jLHDhA6dCrxl"
   },
   "source": [
    "Now we looked at the numbers. Let's us plot the distributions."
   ]
  },
  {
   "cell_type": "code",
   "execution_count": null,
   "metadata": {
    "colab": {
     "base_uri": "https://localhost:8080/",
     "height": 489
    },
    "executionInfo": {
     "elapsed": 1084,
     "status": "ok",
     "timestamp": 1692872273102,
     "user": {
      "displayName": "Anja Mühlemann",
      "userId": "13180139022750424409"
     },
     "user_tz": -120
    },
    "id": "meWumlBECrxl",
    "outputId": "85051e32-b758-4152-e3c8-d84e4e143968"
   },
   "outputs": [
    {
     "data": {
      "text/plain": [
       "<matplotlib.legend.Legend at 0x7dfb8d6d29e0>"
      ]
     },
     "execution_count": 63,
     "metadata": {},
     "output_type": "execute_result"
    },
    {
     "data": {
      "image/png": "[encoded data removed]",
      "text/plain": [
       "<Figure size 640x480 with 1 Axes>"
      ]
     },
     "metadata": {},
     "output_type": "display_data"
    }
   ],
   "source": [
    "df_virginica['slength'].plot(kind=\"hist\",fill=False,histtype='step',title='Iris Setosa', label=\"length\")\n",
    "ax = df_virginica['swidth'].plot(kind=\"hist\",fill=False,histtype='step', label=\"width\")\n",
    "ax.set_xlabel('Setal length/width [cm]')\n",
    "ax.set_ylabel('Frequency')\n",
    "plt.legend()"
   ]
  },
  {
   "cell_type": "markdown",
   "metadata": {
    "id": "KZXVT141Crxn"
   },
   "source": [
    "## 2.4 How to generate random variables based on a normal distribution"
   ]
  },
  {
   "cell_type": "markdown",
   "metadata": {
    "id": "9Br53E6bCrxn"
   },
   "source": [
    "One can simulate data sets by generating them from probability density functions. The computer does this with a so called Monte Carlo (MC) algorithm. It draws $x$ values (pseudo) randomly from the given distribution. The the actual draws of the random variable are called random variates. Simulations can be very useful when planning an experiment and developing the analysis method. Instead of real data one can use the simulated data.\n",
    "\n",
    "Let us simulate the iris virginica sepal width data (width the mean and standard deviation we got from the real data) given that a normal distribution is a reasonable model for the swith of iris virginica."
   ]
  },
  {
   "cell_type": "code",
   "execution_count": null,
   "metadata": {
    "id": "la2x-Bj1Crxn"
   },
   "outputs": [],
   "source": [
    "n = scipy.stats.norm.rvs(2.974000,0.322497,50) # 100 random values from a normal distribution with mean 2.974000 and SD 0.322497"
   ]
  },
  {
   "cell_type": "code",
   "execution_count": null,
   "metadata": {
    "colab": {
     "base_uri": "https://localhost:8080/"
    },
    "executionInfo": {
     "elapsed": 244,
     "status": "ok",
     "timestamp": 1692872486753,
     "user": {
      "displayName": "Anja Mühlemann",
      "userId": "13180139022750424409"
     },
     "user_tz": -120
    },
    "id": "6QQ-hi0XCrxn",
    "outputId": "38fcd4ed-ffc5-4d35-8550-630455f15974"
   },
   "outputs": [
    {
     "name": "stdout",
     "output_type": "stream",
     "text": [
      "[2.90371986 3.00924582 2.24671712 3.49172528 2.68619507 3.24414148\n",
      " 2.77291342 3.35521027 2.70082251 2.6594402 ]\n"
     ]
    }
   ],
   "source": [
    "print(n[0:10]) # Print first 10"
   ]
  },
  {
   "cell_type": "code",
   "execution_count": null,
   "metadata": {
    "colab": {
     "base_uri": "https://localhost:8080/",
     "height": 206
    },
    "executionInfo": {
     "elapsed": 238,
     "status": "ok",
     "timestamp": 1692872513087,
     "user": {
      "displayName": "Anja Mühlemann",
      "userId": "13180139022750424409"
     },
     "user_tz": -120
    },
    "id": "tOtk5NC_Crxo",
    "outputId": "9b58b21b-5b53-4778-86f0-db7e46fc160c"
   },
   "outputs": [
    {
     "data": {
      "text/html": [
       "\n",
       "  <div id=\"df-d7efe675-41b5-4074-bed7-78ff0cb71e28\" class=\"colab-df-container\">\n",
       "    <div>\n",
       "<style scoped>\n",
       "    .dataframe tbody tr th:only-of-type {\n",
       "        vertical-align: middle;\n",
       "    }\n",
       "\n",
       "    .dataframe tbody tr th {\n",
       "        vertical-align: top;\n",
       "    }\n",
       "\n",
       "    .dataframe thead th {\n",
       "        text-align: right;\n",
       "    }\n",
       "</style>\n",
       "<table border=\"1\" class=\"dataframe\">\n",
       "  <thead>\n",
       "    <tr style=\"text-align: right;\">\n",
       "      <th></th>\n",
       "      <th>0</th>\n",
       "    </tr>\n",
       "  </thead>\n",
       "  <tbody>\n",
       "    <tr>\n",
       "      <th>0</th>\n",
       "      <td>2.903720</td>\n",
       "    </tr>\n",
       "    <tr>\n",
       "      <th>1</th>\n",
       "      <td>3.009246</td>\n",
       "    </tr>\n",
       "    <tr>\n",
       "      <th>2</th>\n",
       "      <td>2.246717</td>\n",
       "    </tr>\n",
       "    <tr>\n",
       "      <th>3</th>\n",
       "      <td>3.491725</td>\n",
       "    </tr>\n",
       "    <tr>\n",
       "      <th>4</th>\n",
       "      <td>2.686195</td>\n",
       "    </tr>\n",
       "  </tbody>\n",
       "</table>\n",
       "</div>\n",
       "    <div class=\"colab-df-buttons\">\n",
       "\n",
       "  <div class=\"colab-df-container\">\n",
       "    <button class=\"colab-df-convert\" onclick=\"convertToInteractive('df-d7efe675-41b5-4074-bed7-78ff0cb71e28')\"\n",
       "            title=\"Convert this dataframe to an interactive table.\"\n",
       "            style=\"display:none;\">\n",
       "\n",
       "  <svg xmlns=\"http://www.w3.org/2000/svg\" height=\"24px\" viewBox=\"0 -960 960 960\">\n",
       "    <path d=\"M120-120v-720h720v720H120Zm60-500h600v-160H180v160Zm220 220h160v-160H400v160Zm0 220h160v-160H400v160ZM180-400h160v-160H180v160Zm440 0h160v-160H620v160ZM180-180h160v-160H180v160Zm440 0h160v-160H620v160Z\"/>\n",
       "  </svg>\n",
       "    </button>\n",
       "\n",
       "  <style>\n",
       "    .colab-df-container {\n",
       "      display:flex;\n",
       "      gap: 12px;\n",
       "    }\n",
       "\n",
       "    .colab-df-convert {\n",
       "      background-color: #E8F0FE;\n",
       "      border: none;\n",
       "      border-radius: 50%;\n",
       "      cursor: pointer;\n",
       "      display: none;\n",
       "      fill: #1967D2;\n",
       "      height: 32px;\n",
       "      padding: 0 0 0 0;\n",
       "      width: 32px;\n",
       "    }\n",
       "\n",
       "    .colab-df-convert:hover {\n",
       "      background-color: #E2EBFA;\n",
       "      box-shadow: 0px 1px 2px rgba(60, 64, 67, 0.3), 0px 1px 3px 1px rgba(60, 64, 67, 0.15);\n",
       "      fill: #174EA6;\n",
       "    }\n",
       "\n",
       "    .colab-df-buttons div {\n",
       "      margin-bottom: 4px;\n",
       "    }\n",
       "\n",
       "    [theme=dark] .colab-df-convert {\n",
       "      background-color: #3B4455;\n",
       "      fill: #D2E3FC;\n",
       "    }\n",
       "\n",
       "    [theme=dark] .colab-df-convert:hover {\n",
       "      background-color: #434B5C;\n",
       "      box-shadow: 0px 1px 3px 1px rgba(0, 0, 0, 0.15);\n",
       "      filter: drop-shadow(0px 1px 2px rgba(0, 0, 0, 0.3));\n",
       "      fill: #FFFFFF;\n",
       "    }\n",
       "  </style>\n",
       "\n",
       "    <script>\n",
       "      const buttonEl =\n",
       "        document.querySelector('#df-d7efe675-41b5-4074-bed7-78ff0cb71e28 button.colab-df-convert');\n",
       "      buttonEl.style.display =\n",
       "        google.colab.kernel.accessAllowed ? 'block' : 'none';\n",
       "\n",
       "      async function convertToInteractive(key) {\n",
       "        const element = document.querySelector('#df-d7efe675-41b5-4074-bed7-78ff0cb71e28');\n",
       "        const dataTable =\n",
       "          await google.colab.kernel.invokeFunction('convertToInteractive',\n",
       "                                                    [key], {});\n",
       "        if (!dataTable) return;\n",
       "\n",
       "        const docLinkHtml = 'Like what you see? Visit the ' +\n",
       "          '<a target=\"_blank\" href=https://colab.research.google.com/notebooks/data_table.ipynb>data table notebook</a>'\n",
       "          + ' to learn more about interactive tables.';\n",
       "        element.innerHTML = '';\n",
       "        dataTable['output_type'] = 'display_data';\n",
       "        await google.colab.output.renderOutput(dataTable, element);\n",
       "        const docLink = document.createElement('div');\n",
       "        docLink.innerHTML = docLinkHtml;\n",
       "        element.appendChild(docLink);\n",
       "      }\n",
       "    </script>\n",
       "  </div>\n",
       "\n",
       "\n",
       "<div id=\"df-aad36365-8080-4d8d-be8f-23be8c5195ef\">\n",
       "  <button class=\"colab-df-quickchart\" onclick=\"quickchart('df-aad36365-8080-4d8d-be8f-23be8c5195ef')\"\n",
       "            title=\"Suggest charts.\"\n",
       "            style=\"display:none;\">\n",
       "\n",
       "<svg xmlns=\"http://www.w3.org/2000/svg\" height=\"24px\"viewBox=\"0 0 24 24\"\n",
       "     width=\"24px\">\n",
       "    <g>\n",
       "        <path d=\"M19 3H5c-1.1 0-2 .9-2 2v14c0 1.1.9 2 2 2h14c1.1 0 2-.9 2-2V5c0-1.1-.9-2-2-2zM9 17H7v-7h2v7zm4 0h-2V7h2v10zm4 0h-2v-4h2v4z\"/>\n",
       "    </g>\n",
       "</svg>\n",
       "  </button>\n",
       "\n",
       "<style>\n",
       "  .colab-df-quickchart {\n",
       "    background-color: #E8F0FE;\n",
       "    border: none;\n",
       "    border-radius: 50%;\n",
       "    cursor: pointer;\n",
       "    display: none;\n",
       "    fill: #1967D2;\n",
       "    height: 32px;\n",
       "    padding: 0 0 0 0;\n",
       "    width: 32px;\n",
       "  }\n",
       "\n",
       "  .colab-df-quickchart:hover {\n",
       "    background-color: #E2EBFA;\n",
       "    box-shadow: 0px 1px 2px rgba(60, 64, 67, 0.3), 0px 1px 3px 1px rgba(60, 64, 67, 0.15);\n",
       "    fill: #174EA6;\n",
       "  }\n",
       "\n",
       "  [theme=dark] .colab-df-quickchart {\n",
       "    background-color: #3B4455;\n",
       "    fill: #D2E3FC;\n",
       "  }\n",
       "\n",
       "  [theme=dark] .colab-df-quickchart:hover {\n",
       "    background-color: #434B5C;\n",
       "    box-shadow: 0px 1px 3px 1px rgba(0, 0, 0, 0.15);\n",
       "    filter: drop-shadow(0px 1px 2px rgba(0, 0, 0, 0.3));\n",
       "    fill: #FFFFFF;\n",
       "  }\n",
       "</style>\n",
       "\n",
       "  <script>\n",
       "    async function quickchart(key) {\n",
       "      const charts = await google.colab.kernel.invokeFunction(\n",
       "          'suggestCharts', [key], {});\n",
       "    }\n",
       "    (() => {\n",
       "      let quickchartButtonEl =\n",
       "        document.querySelector('#df-aad36365-8080-4d8d-be8f-23be8c5195ef button');\n",
       "      quickchartButtonEl.style.display =\n",
       "        google.colab.kernel.accessAllowed ? 'block' : 'none';\n",
       "    })();\n",
       "  </script>\n",
       "</div>\n",
       "    </div>\n",
       "  </div>\n"
      ],
      "text/plain": [
       "          0\n",
       "0  2.903720\n",
       "1  3.009246\n",
       "2  2.246717\n",
       "3  3.491725\n",
       "4  2.686195"
      ]
     },
     "execution_count": 70,
     "metadata": {},
     "output_type": "execute_result"
    }
   ],
   "source": [
    "# Put the simulated data into a dataframe\n",
    "df_virginica_sim = pd.DataFrame(n)\n",
    "df_virginica_sim.head()"
   ]
  },
  {
   "cell_type": "markdown",
   "metadata": {
    "id": "fo9ii-BTzfMH"
   },
   "source": [
    "####Exercise\n",
    "Try to generate a random t-distributed sample of size 20 with df=10."
   ]
  },
  {
   "cell_type": "code",
   "execution_count": null,
   "metadata": {
    "id": "LJbew-Lez6Xa"
   },
   "outputs": [],
   "source": [
    "## write your code here"
   ]
  },
  {
   "cell_type": "markdown",
   "metadata": {
    "id": "WOGKZWDrCrxp"
   },
   "source": [
    "## 2.5 Uncertainties\n"
   ]
  },
  {
   "cell_type": "markdown",
   "metadata": {
    "id": "zVZCEv6LCrxp"
   },
   "source": [
    "All data have uncertainties. These should always be communicated when showing scientific numbers or plots. We distinguish between two types.\n",
    "\n",
    "- Statistical uncertainties\n",
    "    - Fluctuations, can be made smaller by taking more data, i.e. get more statistics\n",
    "- Systematic uncertainties\n",
    "    - Shift of data in one direction due to some \"mistake\" in the measurement, e.g. wrongly calibrated instrument showing all measured values systematically higher as they really are. Or for instance uncertainty due to the choice of methods and tools\n",
    "    \n",
    "The statistics tools can mostly handle the statistical uncertainties. There is no mathematical recipe for dealing with systematical uncertainties. You have to think through your experiment and try to estimate the influence of everything that can go wrong.\n",
    "\n",
    "When uncertainties are stated on numbers or in graphs as error bars or error bands they generally show one standard deviation. If the data are well described by a normal distribution, the interpretation of one standard deviation is clear: if the measurement is repeated many times, 32% (or about 1/3 of the measurements) **should** be outside the error bars.\n",
    "\n",
    "If the distribution is not normal, the interpretation of one standard deviation is not as clear. For example, a poisson distribution is not necessary symmetric. So again we see, for low counts where the normal asumption is not a good approximation, let's say below 20, the interpretation is not obvious anymore and care is needed.\n"
   ]
  },
  {
   "cell_type": "code",
   "execution_count": null,
   "metadata": {
    "colab": {
     "base_uri": "https://localhost:8080/",
     "height": 430
    },
    "executionInfo": {
     "elapsed": 859,
     "status": "ok",
     "timestamp": 1692872825558,
     "user": {
      "displayName": "Anja Mühlemann",
      "userId": "13180139022750424409"
     },
     "user_tz": -120
    },
    "id": "CGtcz0trCrxq",
    "outputId": "507df3fc-caf5-49fb-968b-06c1d7e21874"
   },
   "outputs": [
    {
     "data": {
      "image/png": "[encoded data removed]",
      "text/plain": [
       "<Figure size 640x480 with 1 Axes>"
      ]
     },
     "metadata": {},
     "output_type": "display_data"
    }
   ],
   "source": [
    "# Draw a histogram which is not normalised\n",
    "entries1, edges, patches = plt.hist(n, bins=10, histtype='step')\n",
    "# Close plt so that this histogram is not shown\n",
    "plt.close()\n",
    "# Draw a histogram which IS normed\n",
    "entries2, edges, patches = plt.hist(n, bins=10, histtype='step',density=True)\n",
    "# Calculate the poisson standard deviation and scale down to second histogram\n",
    "errors = np.sqrt(entries1) * entries2/entries1\n",
    "# calculate bin centers\n",
    "bin_centers = 0.5 * (edges[:-1] + edges[1:])\n",
    "# draw errobars, use the sqrt error.\n",
    "plt.errorbar(bin_centers, entries2, yerr=errors, fmt='r.')\n",
    "# Draw a normal distribution\n",
    "x = np.linspace(2.4,4.2,100)\n",
    "sigma=variance**0.5\n",
    "plt.plot(x,scipy.stats.norm.pdf(x,df_virginica_sim.mean(),df_virginica_sim.std()))\n",
    "plt.show()"
   ]
  },
  {
   "cell_type": "markdown",
   "metadata": {
    "id": "98Ov7KLYCrxq"
   },
   "source": [
    "We see that 3 out of 10 data points are more than one standard deviation off the \"theory\" curve. This is how it should be."
   ]
  },
  {
   "cell_type": "markdown",
   "metadata": {
    "id": "YSQjhejaCrxq"
   },
   "source": [
    "## 2.6 Questions?"
   ]
  },
  {
   "cell_type": "markdown",
   "metadata": {
    "id": "fAP80BACCrxr"
   },
   "source": [
    "Do you have a question for tomorrow's discussion session: https://forms.gle/QUL62MbmQiEEYvY37"
   ]
  },
  {
   "cell_type": "markdown",
   "metadata": {
    "id": "2lsdO0c2Crxr"
   },
   "source": [
    "## References"
   ]
  },
  {
   "cell_type": "markdown",
   "metadata": {
    "id": "to2UjCSXCrxr"
   },
   "source": [
    "1. H. Cramer, Mathematical Methods of Statistics, (Princeton Univ. Press, New Jersey, 1958).\n",
    "2. A. Stuart and J.K. Ord, Kendall’s Advanced Theory of Statistics, Vol. 1 Distribution Theory 6th Ed., (Halsted Press, New York, 1994), and earlier editions by Kendall and Stuart.\n",
    "3. R.J. Barlow, Statistics: A Guide to the Use of Statistical Methods in the Physical Sciences, (John Wiley, New York, 1989).\n",
    "4. S. Brandt, Data Analysis, 3rd Ed., (Springer, New York, 1999).\n",
    "5. G. Cowan, Statistical Data Analysis, (Oxford University Press, Oxford, 1998).\n",
    "6. A.N. Kolmogorov, Grundbegriffe der Wahrscheinlichkeitsrechnung, (Springer, Berlin,\n",
    "1933); Foundations of the Theory of Probability, 2nd Ed., (Chelsea, New York 1956).\n",
    "7. Ch. Walck, Hand-book on Statistical Distributions for Experimentalists, University of Stockholm Internal Report SUF-PFY/96-01, available from http://staff.fysik.su.se/~walck/suf9601.pdf.\n",
    "8. M. Abramowitz and I. Stegun, eds., Handbook of Mathematical Functions, (Dover, New York, 1972)."
   ]
  },
  {
   "cell_type": "markdown",
   "metadata": {
    "id": "E7Jypp7CClEI"
   },
   "source": [
    "# Annex Probability"
   ]
  },
  {
   "cell_type": "markdown",
   "metadata": {
    "id": "_a6zps4YCrxr"
   },
   "source": [
    "An abstract definition of probability can be given by considering a set $\\Omega$, called the sample space, and possible subsets $A,B,...$ the interpretation of which is left open. The probability $P$ is a real-valued function defined by the following axioms due to Kolmogorov (1933) [9]:\n",
    "\n",
    "- For every subset $A$ in $S$, $P(A) ≥ 0$;\n",
    "- For disjoint subsets (i.e., $A ∩ B = ∅$), $P(A ∪ B) = P(A) + P(B)$;\n",
    "- $P(S)=1$.\n",
    "\n",
    "From this further properties can be derives, e.g.\n",
    "\n",
    "- $P(\\bar{A}) = 1 - P(A)$\n",
    "- $P(A \\cup \\bar{A}) = 1$\n",
    "- $P(\\emptyset) = 0$\n",
    "- if A in B, then $P(A)\\leq P(B)$\n",
    "- $P(A \\cup \\bar{A}) = P(A) + P(B) - P(A\\cap B)$\n",
    "\n",
    "#### Conditional probability\n",
    "In addition, one defines the conditional probability $P(A|B)$ (read as $P$ of $A$ given $B$) as $$P(A|B) = \\frac{P(A ∩ B)}{P(B)}$$\n",
    "\n",
    "As an example, when throwing the dice, consider obtaining more than 3 eyes given only trows with even number of eyes outcomes. We calculate the (conditional) probability:\n",
    "\n",
    "$$P(n>3|n\\; even) = \\frac{P(n>3 \\cap n\\; even)}{P(even)} = \\frac{2/6}{3/6} = \\frac{2}{3}$$\n",
    "\n",
    "#### Independence\n",
    "\n",
    "If A and B are independent, then\n",
    "\n",
    "$$P(A|B) = \\frac{P(A ∩ B)}{P(B)} = \\frac{P(A)P(B)}{P(B)} = P(A)$$\n"
   ]
  }
 ],
 "metadata": {
  "colab": {
   "provenance": []
  },
  "kernelspec": {
   "display_name": "Python 3 (ipykernel)",
   "language": "python",
   "name": "python3"
  },
  "language_info": {
   "codemirror_mode": {
    "name": "ipython",
    "version": 3
   },
   "file_extension": ".py",
   "mimetype": "text/x-python",
   "name": "python",
   "nbconvert_exporter": "python",
   "pygments_lexer": "ipython3",
   "version": "3.11.4"
  }
 },
 "nbformat": 4,
 "nbformat_minor": 1
}
