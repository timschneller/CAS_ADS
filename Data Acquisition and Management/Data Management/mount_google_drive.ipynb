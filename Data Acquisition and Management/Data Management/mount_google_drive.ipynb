{
 "cells": [
  {
   "cell_type": "code",
   "execution_count": null,
   "id": "85453164-98ce-42ee-94d5-1f516dda0ecc",
   "metadata": {},
   "outputs": [],
   "source": [
    "#how to use your google drive\n",
    "\n",
    "from google.colab import drive\n",
    "filepath ='/content/drive/'\n",
    "drive.mount(filepath)\n",
    "\n",
    "datafile = 'drive/MyDrive/....'\n",
    "df = pd.read_csv(datafile)"
   ]
  }
 ],
 "metadata": {
  "kernelspec": {
   "display_name": "Python 3 (ipykernel)",
   "language": "python",
   "name": "python3"
  },
  "language_info": {
   "codemirror_mode": {
    "name": "ipython",
    "version": 3
   },
   "file_extension": ".py",
   "mimetype": "text/x-python",
   "name": "python",
   "nbconvert_exporter": "python",
   "pygments_lexer": "ipython3",
   "version": "3.11.4"
  }
 },
 "nbformat": 4,
 "nbformat_minor": 5
}
