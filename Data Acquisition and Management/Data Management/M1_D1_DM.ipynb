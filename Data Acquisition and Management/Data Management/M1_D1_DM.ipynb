{
 "cells": [
  {
   "cell_type": "markdown",
   "metadata": {
    "colab_type": "text",
    "id": "view-in-github"
   },
   "source": [
    "<a href=\"https://colab.research.google.com/github/sigvehaug/CAS-Applied-Data-Science/blob/master/Module-1/M1_D1_DM.ipynb\" target=\"_parent\"><img src=\"https://colab.research.google.com/assets/colab-badge.svg\" alt=\"Open In Colab\"/></a>"
   ]
  },
  {
   "cell_type": "markdown",
   "metadata": {
    "id": "dOSMpeOK06p8"
   },
   "source": [
    "Notebook 1, Module 1, Data and Data Management, CAS Applied Data Science, 2023-08-23, S. Haug, University of Bern.\n"
   ]
  },
  {
   "cell_type": "markdown",
   "metadata": {
    "id": "ljJDZt-n6zPw"
   },
   "source": [
    "Prerequisite for this notebook is some basic Python experience.\n",
    "\n",
    "Please also look at the first batch of [these slides](https://docs.google.com/presentation/d/1BrlQQGDnEpr8lBiEd9uO-Kw2-WOInAEP-cv-xdUwB4Y/edit?usp=sharing) before doing this notebook. They offer an introduction to data.\n",
    "\n",
    "ChatGPT is able to write most of the code needed for this notebook. Please use it if you like !"
   ]
  },
  {
   "cell_type": "markdown",
   "metadata": {
    "id": "OAVKazfU06p-"
   },
   "source": [
    "# 1. Data Management\n",
    "\n",
    "Estimated study time is about 2 hours. According to your background and how much you want to learn, you may need more or less. You are supposed to google, read manuals and chat with others during working through this notebook in order to benefit fully.\n",
    "\n",
    "**Learning outcomes - after completion you**\n",
    "- Know about data sources, types and formats (see lecture slides via link above)\n",
    "- Able to import and export data in Python\n",
    "- Able to do simple things with dataframes in Python\n",
    "- Know about data volumes, metadata and quality\n",
    "- Able to plot histograms and scatter plots in Python (tomorrow)\n",
    "\n",
    "**Documentation on Pandas DataFrame**\n",
    "- Python: https://pandas.pydata.org/pandas-docs/stable/generated/pandas.DataFrame.html\n",
    "\n",
    "## Outline\n",
    "\n",
    "     0. About data management\n",
    "     1. Getting used to Jupyter notebooks / colab\n",
    "     2. Import datasets into a Python dataframe\n",
    "     3. Indexing on a dataframe\n",
    "     4. Sorting\n",
    "     5. Filtering\n",
    "     6. Exporting\n",
    "     7. Missing and bad data\n",
    "     8. Metadata\n",
    "     9. Working on the filesystem\n"
   ]
  },
  {
   "cell_type": "markdown",
   "metadata": {
    "id": "b-86pc1PfWAT"
   },
   "source": []
  },
  {
   "cell_type": "code",
   "execution_count": 4,
   "metadata": {
    "id": "P0o4Jxdy06qA"
   },
   "outputs": [
    {
     "name": "stdout",
     "output_type": "stream",
     "text": [
      "I am count0ing 0\n",
      "I am count1ing 1\n",
      "I am count2ing 2\n",
      "I am count3ing 3\n",
      "I am count4ing 4\n",
      "I am count5ing 5\n",
      "I am count6ing 6\n",
      "I am count7ing 7\n",
      "I am count8ing 8\n",
      "I am count9ing 9\n"
     ]
    }
   ],
   "source": [
    "for i in range(10):\n",
    "    print(f'I am count{i}ing', i)"
   ]
  },
  {
   "cell_type": "markdown",
   "metadata": {
    "id": "0xY2gyiE06qA"
   },
   "source": [
    "### 0. About data management"
   ]
  },
  {
   "cell_type": "markdown",
   "metadata": {
    "id": "nFyhF-jp06qB"
   },
   "source": [
    "Handling or managing data involves many steps and technologies at many levels. Data may be colleccted by sensors. It can be a camera, a temperature sensor, a telescope, a microscope (with a camera), a microphone, a particle detector etc. Normally the data is then digitised, maybe preprocessed and written to some media in a certain format, e.g. as a comma separated value (csv) file to a hard disk. This part of the data management is normally taken care of by engineers.\n",
    "\n",
    "Data may also be collected from all sorts of databases, so data already collected somehow. Time series of financial data, customers, passengers, facebook likes, twitter tweets etc. This is data which is normally already on a media with some interface for access, e.g. paper to be read by a camera, a file on youtube, a table on wikipedia etc. We will look at some ways to collect such data. Some programming and computer skills are needed to do so. It may be that this part of the data management is taken care of by specialised computer scientists, but it may also be expected from a data scientist to have these skills.\n",
    "\n",
    "Analysing data with statisitical and machine learning tools, requires that the data is colleceted, cleaned and prepared for the tools. This is very often a very large part of a data analytics project and a prerequisite. It may involve removing bad data, filter out redundant and noisy data, unify the formats and types, transform the data etc.\n",
    "Thus, a data scientist must be able to perform this part of the data management. This notebook shows the basic operations with Python pandas. With other tools the concepts and operations are very similar.\n",
    "\n",
    "After the data analysis, after the extraction of information and the creation of knowledge, the data is often stored or archived for the future (if this seems cheaper than regenerating the data at a later point). In larger institutions this part of the data management may include educated librarians and others, not necessarily the data scientist.  \n",
    "\n",
    "**In this notebook we only look at a few examples on how to do datamanagement with dataframes. Pandas are extremly powerful and we cannot show everything in a couple of hours. You will become more and more experienced when you work on your module projects. Probably whatever you want to do with your dataframe, there is a way to do it. If not, it probably doesn't make much sense what wou want to do.**\n",
    "\n",
    "Any questions?\n"
   ]
  },
  {
   "cell_type": "markdown",
   "metadata": {
    "id": "z4HJ8cnp06qC"
   },
   "source": [
    "### 1. Getting used to Jupyter computational notebooks and Colab\n",
    "\n",
    "With Jupyter you can write rich text notebooks with executable code via your browser. There are several so-called kernels or computational back ends, i.e Python, R, Julia, bash etc can be supported. The text is written as Markdown. Latex is also supported (good for math). You can export the notebook in various formats, e.g. html. Everything can be done via the various tabs, however, the key shortcuts make you faster.\n",
    "\n",
    "*Useful key combinations*\n",
    "\n",
    "- Shift Enter or Control Enter = Run cell\n",
    "- Option/Alt Enter = Run cell and Insert new cell below\n",
    "\n",
    "### Exercise 1 (10 min)\n",
    "- Change and run this cell\n",
    "- Add a new cell and execute some python statement in it\n",
    "- Study the tabs in the menu of your jupyter (lab) notebook"
   ]
  },
  {
   "cell_type": "code",
   "execution_count": null,
   "metadata": {
    "id": "3tn_Bnh606qC"
   },
   "outputs": [],
   "source": [
    "# Write some more Python code here\n"
   ]
  },
  {
   "cell_type": "markdown",
   "metadata": {
    "id": "9Yy0P4Q006qD"
   },
   "source": [
    "### 2. Import a dataset into a Pandas DataFrame\n",
    "\n",
    "Pandas is a Python Module for data analysis and manipulation and management. It has the data structure DataFrame which is quite powerful. Features\n",
    "\n",
    "- DataFrame object for data management with integrated indexing.\n",
    "- Tools for reading and writing data between in-memory data structures and different file formats.\n",
    "- Data alignment and integrated handling of missing data.\n",
    "- Reshaping and pivoting of data sets.\n",
    "- Label-based slicing, fancy indexing, and subsetting of large data sets.\n",
    "- Data structure column insertion and deletion.\n",
    "- Group by engine allowing split-apply-combine operations on data sets.\n",
    "- Data set merging and joining.\n",
    "- Hierarchical axis indexing to work with high-dimensional data in a lower-dimensional data structure.\n",
    "- Time series-functionality: Date range generation and frequency conversion, moving window statistics, moving window linear regressions, date shifting and lagging.\n",
    "\n",
    "The module is highly optimized for performance, with critical code parts written in Cython or C. Documentation here: https://pandas.pydata.org/pandas-docs/stable/api.html\n",
    "\n",
    "For input/output (I/O) there are methods for reading EXCEL, SQL databases, HTML tables, clipboard, SAS, STATA etc."
   ]
  },
  {
   "cell_type": "code",
   "execution_count": 5,
   "metadata": {
    "id": "2va7jftt06qF"
   },
   "outputs": [
    {
     "ename": "ModuleNotFoundError",
     "evalue": "No module named 'google.colab'",
     "output_type": "error",
     "traceback": [
      "\u001b[1;31m---------------------------------------------------------------------------\u001b[0m",
      "\u001b[1;31mModuleNotFoundError\u001b[0m                       Traceback (most recent call last)",
      "Cell \u001b[1;32mIn[5], line 2\u001b[0m\n\u001b[0;32m      1\u001b[0m \u001b[38;5;66;03m# Upload the local data file to colab\u001b[39;00m\n\u001b[1;32m----> 2\u001b[0m \u001b[38;5;28;01mfrom\u001b[39;00m \u001b[38;5;21;01mgoogle\u001b[39;00m\u001b[38;5;21;01m.\u001b[39;00m\u001b[38;5;21;01mcolab\u001b[39;00m \u001b[38;5;28;01mimport\u001b[39;00m files\n\u001b[0;32m      3\u001b[0m uploaded \u001b[38;5;241m=\u001b[39m files\u001b[38;5;241m.\u001b[39mupload()\n",
      "\u001b[1;31mModuleNotFoundError\u001b[0m: No module named 'google.colab'"
     ]
    }
   ],
   "source": [
    "# Upload a local data file to google colab\n",
    "from google.colab import files\n",
    "uploaded = files.upload()"
   ]
  },
  {
   "cell_type": "code",
   "execution_count": 5,
   "metadata": {},
   "outputs": [],
   "source": [
    "#get from internet/local memory\n",
    "import pandas as pd\n",
    "#use path or web-url to access file\n",
    "# url = \"https://raw.githubusercontent.com/sigvehaug/CAS-Applied-Data-Science/master/Module-1/iris.csv\"\n",
    "url = \"C:/Users/tim94/OneDrive/Dokumente/Universität Bern/Data Acquisition and Management/data/iris.csv\"\n",
    "\n",
    "#abbreviation df for dataframe\n",
    "df = pd.read_csv(url, names=['slength','swidth','plength','pwidth','species'])"
   ]
  },
  {
   "cell_type": "code",
   "execution_count": 34,
   "metadata": {
    "scrolled": true
   },
   "outputs": [
    {
     "data": {
      "text/html": [
       "<div>\n",
       "<style scoped>\n",
       "    .dataframe tbody tr th:only-of-type {\n",
       "        vertical-align: middle;\n",
       "    }\n",
       "\n",
       "    .dataframe tbody tr th {\n",
       "        vertical-align: top;\n",
       "    }\n",
       "\n",
       "    .dataframe thead th {\n",
       "        text-align: right;\n",
       "    }\n",
       "</style>\n",
       "<table border=\"1\" class=\"dataframe\">\n",
       "  <thead>\n",
       "    <tr style=\"text-align: right;\">\n",
       "      <th></th>\n",
       "      <th>slength</th>\n",
       "      <th>swidth</th>\n",
       "      <th>plength</th>\n",
       "      <th>pwidth</th>\n",
       "      <th>species</th>\n",
       "    </tr>\n",
       "  </thead>\n",
       "  <tbody>\n",
       "    <tr>\n",
       "      <th>0</th>\n",
       "      <td>5.1</td>\n",
       "      <td>3.5</td>\n",
       "      <td>1.4</td>\n",
       "      <td>0.2</td>\n",
       "      <td>Iris-setosa</td>\n",
       "    </tr>\n",
       "    <tr>\n",
       "      <th>1</th>\n",
       "      <td>4.9</td>\n",
       "      <td>3.0</td>\n",
       "      <td>1.4</td>\n",
       "      <td>0.2</td>\n",
       "      <td>Iris-setosa</td>\n",
       "    </tr>\n",
       "    <tr>\n",
       "      <th>2</th>\n",
       "      <td>4.7</td>\n",
       "      <td>3.2</td>\n",
       "      <td>1.3</td>\n",
       "      <td>0.2</td>\n",
       "      <td>Iris-setosa</td>\n",
       "    </tr>\n",
       "    <tr>\n",
       "      <th>3</th>\n",
       "      <td>4.6</td>\n",
       "      <td>3.1</td>\n",
       "      <td>1.5</td>\n",
       "      <td>0.2</td>\n",
       "      <td>Iris-setosa</td>\n",
       "    </tr>\n",
       "    <tr>\n",
       "      <th>4</th>\n",
       "      <td>5.0</td>\n",
       "      <td>3.6</td>\n",
       "      <td>1.4</td>\n",
       "      <td>0.2</td>\n",
       "      <td>Iris-setosa</td>\n",
       "    </tr>\n",
       "    <tr>\n",
       "      <th>...</th>\n",
       "      <td>...</td>\n",
       "      <td>...</td>\n",
       "      <td>...</td>\n",
       "      <td>...</td>\n",
       "      <td>...</td>\n",
       "    </tr>\n",
       "    <tr>\n",
       "      <th>145</th>\n",
       "      <td>6.7</td>\n",
       "      <td>3.0</td>\n",
       "      <td>5.2</td>\n",
       "      <td>2.3</td>\n",
       "      <td>Iris-virginica</td>\n",
       "    </tr>\n",
       "    <tr>\n",
       "      <th>146</th>\n",
       "      <td>6.3</td>\n",
       "      <td>2.5</td>\n",
       "      <td>5.0</td>\n",
       "      <td>1.9</td>\n",
       "      <td>Iris-virginica</td>\n",
       "    </tr>\n",
       "    <tr>\n",
       "      <th>147</th>\n",
       "      <td>6.5</td>\n",
       "      <td>3.0</td>\n",
       "      <td>5.2</td>\n",
       "      <td>2.0</td>\n",
       "      <td>Iris-virginica</td>\n",
       "    </tr>\n",
       "    <tr>\n",
       "      <th>148</th>\n",
       "      <td>6.2</td>\n",
       "      <td>3.4</td>\n",
       "      <td>5.4</td>\n",
       "      <td>2.3</td>\n",
       "      <td>Iris-virginica</td>\n",
       "    </tr>\n",
       "    <tr>\n",
       "      <th>149</th>\n",
       "      <td>5.9</td>\n",
       "      <td>3.0</td>\n",
       "      <td>5.1</td>\n",
       "      <td>1.8</td>\n",
       "      <td>Iris-virginica</td>\n",
       "    </tr>\n",
       "  </tbody>\n",
       "</table>\n",
       "<p>150 rows × 5 columns</p>\n",
       "</div>"
      ],
      "text/plain": [
       "     slength  swidth  plength  pwidth         species\n",
       "0        5.1     3.5      1.4     0.2     Iris-setosa\n",
       "1        4.9     3.0      1.4     0.2     Iris-setosa\n",
       "2        4.7     3.2      1.3     0.2     Iris-setosa\n",
       "3        4.6     3.1      1.5     0.2     Iris-setosa\n",
       "4        5.0     3.6      1.4     0.2     Iris-setosa\n",
       "..       ...     ...      ...     ...             ...\n",
       "145      6.7     3.0      5.2     2.3  Iris-virginica\n",
       "146      6.3     2.5      5.0     1.9  Iris-virginica\n",
       "147      6.5     3.0      5.2     2.0  Iris-virginica\n",
       "148      6.2     3.4      5.4     2.3  Iris-virginica\n",
       "149      5.9     3.0      5.1     1.8  Iris-virginica\n",
       "\n",
       "[150 rows x 5 columns]"
      ]
     },
     "execution_count": 34,
     "metadata": {},
     "output_type": "execute_result"
    }
   ],
   "source": [
    "df"
   ]
  },
  {
   "cell_type": "code",
   "execution_count": 6,
   "metadata": {
    "id": "Fcu5tlR106qG"
   },
   "outputs": [],
   "source": [
    "# import the python module pandas with the abbreviation pd\n",
    "pd.set_option('display.max_rows', None)\n",
    "# Read the data in the iris.csv file into a dataframe\n",
    "# If you work on colab, you need the data file on colab of course\n"
   ]
  },
  {
   "cell_type": "markdown",
   "metadata": {
    "id": "OKvS45Aq06qH"
   },
   "source": [
    "The dataframe method shows 50 rows per default. We can change this as we like:\n"
   ]
  },
  {
   "cell_type": "code",
   "execution_count": 7,
   "metadata": {
    "id": "odf02zpP06qI"
   },
   "outputs": [
    {
     "name": "stdout",
     "output_type": "stream",
     "text": [
      "<class 'pandas.core.frame.DataFrame'>\n",
      "RangeIndex: 150 entries, 0 to 149\n",
      "Data columns (total 5 columns):\n",
      " #   Column   Non-Null Count  Dtype  \n",
      "---  ------   --------------  -----  \n",
      " 0   slength  150 non-null    float64\n",
      " 1   swidth   150 non-null    float64\n",
      " 2   plength  150 non-null    float64\n",
      " 3   pwidth   150 non-null    float64\n",
      " 4   species  150 non-null    object \n",
      "dtypes: float64(4), object(1)\n",
      "memory usage: 6.0+ KB\n"
     ]
    }
   ],
   "source": [
    "df.info()"
   ]
  },
  {
   "cell_type": "code",
   "execution_count": 10,
   "metadata": {},
   "outputs": [
    {
     "data": {
      "text/html": [
       "<div>\n",
       "<style scoped>\n",
       "    .dataframe tbody tr th:only-of-type {\n",
       "        vertical-align: middle;\n",
       "    }\n",
       "\n",
       "    .dataframe tbody tr th {\n",
       "        vertical-align: top;\n",
       "    }\n",
       "\n",
       "    .dataframe thead th {\n",
       "        text-align: right;\n",
       "    }\n",
       "</style>\n",
       "<table border=\"1\" class=\"dataframe\">\n",
       "  <thead>\n",
       "    <tr style=\"text-align: right;\">\n",
       "      <th></th>\n",
       "      <th>slength</th>\n",
       "      <th>swidth</th>\n",
       "      <th>plength</th>\n",
       "      <th>pwidth</th>\n",
       "      <th>species</th>\n",
       "    </tr>\n",
       "  </thead>\n",
       "  <tbody>\n",
       "    <tr>\n",
       "      <th>0</th>\n",
       "      <td>5.1</td>\n",
       "      <td>3.5</td>\n",
       "      <td>1.4</td>\n",
       "      <td>0.2</td>\n",
       "      <td>Iris-setosa</td>\n",
       "    </tr>\n",
       "    <tr>\n",
       "      <th>1</th>\n",
       "      <td>4.9</td>\n",
       "      <td>3.0</td>\n",
       "      <td>1.4</td>\n",
       "      <td>0.2</td>\n",
       "      <td>Iris-setosa</td>\n",
       "    </tr>\n",
       "    <tr>\n",
       "      <th>2</th>\n",
       "      <td>4.7</td>\n",
       "      <td>3.2</td>\n",
       "      <td>1.3</td>\n",
       "      <td>0.2</td>\n",
       "      <td>Iris-setosa</td>\n",
       "    </tr>\n",
       "    <tr>\n",
       "      <th>3</th>\n",
       "      <td>4.6</td>\n",
       "      <td>3.1</td>\n",
       "      <td>1.5</td>\n",
       "      <td>0.2</td>\n",
       "      <td>Iris-setosa</td>\n",
       "    </tr>\n",
       "    <tr>\n",
       "      <th>4</th>\n",
       "      <td>5.0</td>\n",
       "      <td>3.6</td>\n",
       "      <td>1.4</td>\n",
       "      <td>0.2</td>\n",
       "      <td>Iris-setosa</td>\n",
       "    </tr>\n",
       "    <tr>\n",
       "      <th>5</th>\n",
       "      <td>5.4</td>\n",
       "      <td>3.9</td>\n",
       "      <td>1.7</td>\n",
       "      <td>0.4</td>\n",
       "      <td>Iris-setosa</td>\n",
       "    </tr>\n",
       "    <tr>\n",
       "      <th>6</th>\n",
       "      <td>4.6</td>\n",
       "      <td>3.4</td>\n",
       "      <td>1.4</td>\n",
       "      <td>0.3</td>\n",
       "      <td>Iris-setosa</td>\n",
       "    </tr>\n",
       "    <tr>\n",
       "      <th>7</th>\n",
       "      <td>5.0</td>\n",
       "      <td>3.4</td>\n",
       "      <td>1.5</td>\n",
       "      <td>0.2</td>\n",
       "      <td>Iris-setosa</td>\n",
       "    </tr>\n",
       "    <tr>\n",
       "      <th>8</th>\n",
       "      <td>4.4</td>\n",
       "      <td>2.9</td>\n",
       "      <td>1.4</td>\n",
       "      <td>0.2</td>\n",
       "      <td>Iris-setosa</td>\n",
       "    </tr>\n",
       "    <tr>\n",
       "      <th>9</th>\n",
       "      <td>4.9</td>\n",
       "      <td>3.1</td>\n",
       "      <td>1.5</td>\n",
       "      <td>0.1</td>\n",
       "      <td>Iris-setosa</td>\n",
       "    </tr>\n",
       "    <tr>\n",
       "      <th>10</th>\n",
       "      <td>5.4</td>\n",
       "      <td>3.7</td>\n",
       "      <td>1.5</td>\n",
       "      <td>0.2</td>\n",
       "      <td>Iris-setosa</td>\n",
       "    </tr>\n",
       "    <tr>\n",
       "      <th>11</th>\n",
       "      <td>4.8</td>\n",
       "      <td>3.4</td>\n",
       "      <td>1.6</td>\n",
       "      <td>0.2</td>\n",
       "      <td>Iris-setosa</td>\n",
       "    </tr>\n",
       "    <tr>\n",
       "      <th>12</th>\n",
       "      <td>4.8</td>\n",
       "      <td>3.0</td>\n",
       "      <td>1.4</td>\n",
       "      <td>0.1</td>\n",
       "      <td>Iris-setosa</td>\n",
       "    </tr>\n",
       "    <tr>\n",
       "      <th>13</th>\n",
       "      <td>4.3</td>\n",
       "      <td>3.0</td>\n",
       "      <td>1.1</td>\n",
       "      <td>0.1</td>\n",
       "      <td>Iris-setosa</td>\n",
       "    </tr>\n",
       "    <tr>\n",
       "      <th>14</th>\n",
       "      <td>5.8</td>\n",
       "      <td>4.0</td>\n",
       "      <td>1.2</td>\n",
       "      <td>0.2</td>\n",
       "      <td>Iris-setosa</td>\n",
       "    </tr>\n",
       "    <tr>\n",
       "      <th>15</th>\n",
       "      <td>5.7</td>\n",
       "      <td>4.4</td>\n",
       "      <td>1.5</td>\n",
       "      <td>0.4</td>\n",
       "      <td>Iris-setosa</td>\n",
       "    </tr>\n",
       "    <tr>\n",
       "      <th>16</th>\n",
       "      <td>5.4</td>\n",
       "      <td>3.9</td>\n",
       "      <td>1.3</td>\n",
       "      <td>0.4</td>\n",
       "      <td>Iris-setosa</td>\n",
       "    </tr>\n",
       "    <tr>\n",
       "      <th>17</th>\n",
       "      <td>5.1</td>\n",
       "      <td>3.5</td>\n",
       "      <td>1.4</td>\n",
       "      <td>0.3</td>\n",
       "      <td>Iris-setosa</td>\n",
       "    </tr>\n",
       "    <tr>\n",
       "      <th>18</th>\n",
       "      <td>5.7</td>\n",
       "      <td>3.8</td>\n",
       "      <td>1.7</td>\n",
       "      <td>0.3</td>\n",
       "      <td>Iris-setosa</td>\n",
       "    </tr>\n",
       "    <tr>\n",
       "      <th>19</th>\n",
       "      <td>5.1</td>\n",
       "      <td>3.8</td>\n",
       "      <td>1.5</td>\n",
       "      <td>0.3</td>\n",
       "      <td>Iris-setosa</td>\n",
       "    </tr>\n",
       "  </tbody>\n",
       "</table>\n",
       "</div>"
      ],
      "text/plain": [
       "    slength  swidth  plength  pwidth      species\n",
       "0       5.1     3.5      1.4     0.2  Iris-setosa\n",
       "1       4.9     3.0      1.4     0.2  Iris-setosa\n",
       "2       4.7     3.2      1.3     0.2  Iris-setosa\n",
       "3       4.6     3.1      1.5     0.2  Iris-setosa\n",
       "4       5.0     3.6      1.4     0.2  Iris-setosa\n",
       "5       5.4     3.9      1.7     0.4  Iris-setosa\n",
       "6       4.6     3.4      1.4     0.3  Iris-setosa\n",
       "7       5.0     3.4      1.5     0.2  Iris-setosa\n",
       "8       4.4     2.9      1.4     0.2  Iris-setosa\n",
       "9       4.9     3.1      1.5     0.1  Iris-setosa\n",
       "10      5.4     3.7      1.5     0.2  Iris-setosa\n",
       "11      4.8     3.4      1.6     0.2  Iris-setosa\n",
       "12      4.8     3.0      1.4     0.1  Iris-setosa\n",
       "13      4.3     3.0      1.1     0.1  Iris-setosa\n",
       "14      5.8     4.0      1.2     0.2  Iris-setosa\n",
       "15      5.7     4.4      1.5     0.4  Iris-setosa\n",
       "16      5.4     3.9      1.3     0.4  Iris-setosa\n",
       "17      5.1     3.5      1.4     0.3  Iris-setosa\n",
       "18      5.7     3.8      1.7     0.3  Iris-setosa\n",
       "19      5.1     3.8      1.5     0.3  Iris-setosa"
      ]
     },
     "execution_count": 10,
     "metadata": {},
     "output_type": "execute_result"
    }
   ],
   "source": [
    "df[0:20]"
   ]
  },
  {
   "cell_type": "code",
   "execution_count": 12,
   "metadata": {
    "id": "sfWe0grO06qJ"
   },
   "outputs": [
    {
     "data": {
      "text/html": [
       "<div>\n",
       "<style scoped>\n",
       "    .dataframe tbody tr th:only-of-type {\n",
       "        vertical-align: middle;\n",
       "    }\n",
       "\n",
       "    .dataframe tbody tr th {\n",
       "        vertical-align: top;\n",
       "    }\n",
       "\n",
       "    .dataframe thead th {\n",
       "        text-align: right;\n",
       "    }\n",
       "</style>\n",
       "<table border=\"1\" class=\"dataframe\">\n",
       "  <thead>\n",
       "    <tr style=\"text-align: right;\">\n",
       "      <th></th>\n",
       "      <th>5.1</th>\n",
       "      <th>3.5</th>\n",
       "      <th>1.4</th>\n",
       "      <th>0.2</th>\n",
       "      <th>Iris-setosa</th>\n",
       "    </tr>\n",
       "  </thead>\n",
       "  <tbody>\n",
       "    <tr>\n",
       "      <th>0</th>\n",
       "      <td>4.9</td>\n",
       "      <td>3.0</td>\n",
       "      <td>1.4</td>\n",
       "      <td>0.2</td>\n",
       "      <td>Iris-setosa</td>\n",
       "    </tr>\n",
       "    <tr>\n",
       "      <th>1</th>\n",
       "      <td>4.7</td>\n",
       "      <td>3.2</td>\n",
       "      <td>1.3</td>\n",
       "      <td>0.2</td>\n",
       "      <td>Iris-setosa</td>\n",
       "    </tr>\n",
       "    <tr>\n",
       "      <th>2</th>\n",
       "      <td>4.6</td>\n",
       "      <td>3.1</td>\n",
       "      <td>1.5</td>\n",
       "      <td>0.2</td>\n",
       "      <td>Iris-setosa</td>\n",
       "    </tr>\n",
       "    <tr>\n",
       "      <th>3</th>\n",
       "      <td>5.0</td>\n",
       "      <td>3.6</td>\n",
       "      <td>1.4</td>\n",
       "      <td>0.2</td>\n",
       "      <td>Iris-setosa</td>\n",
       "    </tr>\n",
       "    <tr>\n",
       "      <th>4</th>\n",
       "      <td>5.4</td>\n",
       "      <td>3.9</td>\n",
       "      <td>1.7</td>\n",
       "      <td>0.4</td>\n",
       "      <td>Iris-setosa</td>\n",
       "    </tr>\n",
       "  </tbody>\n",
       "</table>\n",
       "</div>"
      ],
      "text/plain": [
       "   5.1  3.5  1.4  0.2  Iris-setosa\n",
       "0  4.9  3.0  1.4  0.2  Iris-setosa\n",
       "1  4.7  3.2  1.3  0.2  Iris-setosa\n",
       "2  4.6  3.1  1.5  0.2  Iris-setosa\n",
       "3  5.0  3.6  1.4  0.2  Iris-setosa\n",
       "4  5.4  3.9  1.7  0.4  Iris-setosa"
      ]
     },
     "execution_count": 12,
     "metadata": {},
     "output_type": "execute_result"
    }
   ],
   "source": [
    "df.head()"
   ]
  },
  {
   "cell_type": "code",
   "execution_count": 14,
   "metadata": {
    "id": "bVjX2_Iy06qK"
   },
   "outputs": [
    {
     "data": {
      "text/html": [
       "<div>\n",
       "<style scoped>\n",
       "    .dataframe tbody tr th:only-of-type {\n",
       "        vertical-align: middle;\n",
       "    }\n",
       "\n",
       "    .dataframe tbody tr th {\n",
       "        vertical-align: top;\n",
       "    }\n",
       "\n",
       "    .dataframe thead th {\n",
       "        text-align: right;\n",
       "    }\n",
       "</style>\n",
       "<table border=\"1\" class=\"dataframe\">\n",
       "  <thead>\n",
       "    <tr style=\"text-align: right;\">\n",
       "      <th></th>\n",
       "      <th>5.1</th>\n",
       "      <th>3.5</th>\n",
       "      <th>1.4</th>\n",
       "      <th>0.2</th>\n",
       "      <th>Iris-setosa</th>\n",
       "    </tr>\n",
       "  </thead>\n",
       "  <tbody>\n",
       "    <tr>\n",
       "      <th>139</th>\n",
       "      <td>6.7</td>\n",
       "      <td>3.1</td>\n",
       "      <td>5.6</td>\n",
       "      <td>2.4</td>\n",
       "      <td>Iris-virginica</td>\n",
       "    </tr>\n",
       "    <tr>\n",
       "      <th>140</th>\n",
       "      <td>6.9</td>\n",
       "      <td>3.1</td>\n",
       "      <td>5.1</td>\n",
       "      <td>2.3</td>\n",
       "      <td>Iris-virginica</td>\n",
       "    </tr>\n",
       "    <tr>\n",
       "      <th>141</th>\n",
       "      <td>5.8</td>\n",
       "      <td>2.7</td>\n",
       "      <td>5.1</td>\n",
       "      <td>1.9</td>\n",
       "      <td>Iris-virginica</td>\n",
       "    </tr>\n",
       "    <tr>\n",
       "      <th>142</th>\n",
       "      <td>6.8</td>\n",
       "      <td>3.2</td>\n",
       "      <td>5.9</td>\n",
       "      <td>2.3</td>\n",
       "      <td>Iris-virginica</td>\n",
       "    </tr>\n",
       "    <tr>\n",
       "      <th>143</th>\n",
       "      <td>6.7</td>\n",
       "      <td>3.3</td>\n",
       "      <td>5.7</td>\n",
       "      <td>2.5</td>\n",
       "      <td>Iris-virginica</td>\n",
       "    </tr>\n",
       "    <tr>\n",
       "      <th>144</th>\n",
       "      <td>6.7</td>\n",
       "      <td>3.0</td>\n",
       "      <td>5.2</td>\n",
       "      <td>2.3</td>\n",
       "      <td>Iris-virginica</td>\n",
       "    </tr>\n",
       "    <tr>\n",
       "      <th>145</th>\n",
       "      <td>6.3</td>\n",
       "      <td>2.5</td>\n",
       "      <td>5.0</td>\n",
       "      <td>1.9</td>\n",
       "      <td>Iris-virginica</td>\n",
       "    </tr>\n",
       "    <tr>\n",
       "      <th>146</th>\n",
       "      <td>6.5</td>\n",
       "      <td>3.0</td>\n",
       "      <td>5.2</td>\n",
       "      <td>2.0</td>\n",
       "      <td>Iris-virginica</td>\n",
       "    </tr>\n",
       "    <tr>\n",
       "      <th>147</th>\n",
       "      <td>6.2</td>\n",
       "      <td>3.4</td>\n",
       "      <td>5.4</td>\n",
       "      <td>2.3</td>\n",
       "      <td>Iris-virginica</td>\n",
       "    </tr>\n",
       "    <tr>\n",
       "      <th>148</th>\n",
       "      <td>5.9</td>\n",
       "      <td>3.0</td>\n",
       "      <td>5.1</td>\n",
       "      <td>1.8</td>\n",
       "      <td>Iris-virginica</td>\n",
       "    </tr>\n",
       "  </tbody>\n",
       "</table>\n",
       "</div>"
      ],
      "text/plain": [
       "     5.1  3.5  1.4  0.2     Iris-setosa\n",
       "139  6.7  3.1  5.6  2.4  Iris-virginica\n",
       "140  6.9  3.1  5.1  2.3  Iris-virginica\n",
       "141  5.8  2.7  5.1  1.9  Iris-virginica\n",
       "142  6.8  3.2  5.9  2.3  Iris-virginica\n",
       "143  6.7  3.3  5.7  2.5  Iris-virginica\n",
       "144  6.7  3.0  5.2  2.3  Iris-virginica\n",
       "145  6.3  2.5  5.0  1.9  Iris-virginica\n",
       "146  6.5  3.0  5.2  2.0  Iris-virginica\n",
       "147  6.2  3.4  5.4  2.3  Iris-virginica\n",
       "148  5.9  3.0  5.1  1.8  Iris-virginica"
      ]
     },
     "execution_count": 14,
     "metadata": {},
     "output_type": "execute_result"
    }
   ],
   "source": [
    "df.tail(10)"
   ]
  },
  {
   "cell_type": "markdown",
   "metadata": {
    "id": "hNySrhxP06qK"
   },
   "source": [
    "Find out on wikipedia what this Iris data is about."
   ]
  },
  {
   "cell_type": "markdown",
   "metadata": {
    "id": "vwEVzhfl06qK"
   },
   "source": [
    "### Hint\n",
    "\n",
    "There are some ways to get help about modules and methods in Jupyter:"
   ]
  },
  {
   "cell_type": "code",
   "execution_count": 12,
   "metadata": {
    "id": "umgUyQ4i06qL"
   },
   "outputs": [
    {
     "data": {
      "text/plain": [
       "<bound method NDFrame._add_numeric_operations.<locals>.cumprod of      slength  swidth  plength  pwidth          species\n",
       "0        5.1     3.5      1.4     0.2      Iris-setosa\n",
       "1        4.9     3.0      1.4     0.2      Iris-setosa\n",
       "2        4.7     3.2      1.3     0.2      Iris-setosa\n",
       "3        4.6     3.1      1.5     0.2      Iris-setosa\n",
       "4        5.0     3.6      1.4     0.2      Iris-setosa\n",
       "5        5.4     3.9      1.7     0.4      Iris-setosa\n",
       "6        4.6     3.4      1.4     0.3      Iris-setosa\n",
       "7        5.0     3.4      1.5     0.2      Iris-setosa\n",
       "8        4.4     2.9      1.4     0.2      Iris-setosa\n",
       "9        4.9     3.1      1.5     0.1      Iris-setosa\n",
       "10       5.4     3.7      1.5     0.2      Iris-setosa\n",
       "11       4.8     3.4      1.6     0.2      Iris-setosa\n",
       "12       4.8     3.0      1.4     0.1      Iris-setosa\n",
       "13       4.3     3.0      1.1     0.1      Iris-setosa\n",
       "14       5.8     4.0      1.2     0.2      Iris-setosa\n",
       "15       5.7     4.4      1.5     0.4      Iris-setosa\n",
       "16       5.4     3.9      1.3     0.4      Iris-setosa\n",
       "17       5.1     3.5      1.4     0.3      Iris-setosa\n",
       "18       5.7     3.8      1.7     0.3      Iris-setosa\n",
       "19       5.1     3.8      1.5     0.3      Iris-setosa\n",
       "20       5.4     3.4      1.7     0.2      Iris-setosa\n",
       "21       5.1     3.7      1.5     0.4      Iris-setosa\n",
       "22       4.6     3.6      1.0     0.2      Iris-setosa\n",
       "23       5.1     3.3      1.7     0.5      Iris-setosa\n",
       "24       4.8     3.4      1.9     0.2      Iris-setosa\n",
       "25       5.0     3.0      1.6     0.2      Iris-setosa\n",
       "26       5.0     3.4      1.6     0.4      Iris-setosa\n",
       "27       5.2     3.5      1.5     0.2      Iris-setosa\n",
       "28       5.2     3.4      1.4     0.2      Iris-setosa\n",
       "29       4.7     3.2      1.6     0.2      Iris-setosa\n",
       "30       4.8     3.1      1.6     0.2      Iris-setosa\n",
       "31       5.4     3.4      1.5     0.4      Iris-setosa\n",
       "32       5.2     4.1      1.5     0.1      Iris-setosa\n",
       "33       5.5     4.2      1.4     0.2      Iris-setosa\n",
       "34       4.9     3.1      1.5     0.1      Iris-setosa\n",
       "35       5.0     3.2      1.2     0.2      Iris-setosa\n",
       "36       5.5     3.5      1.3     0.2      Iris-setosa\n",
       "37       4.9     3.1      1.5     0.1      Iris-setosa\n",
       "38       4.4     3.0      1.3     0.2      Iris-setosa\n",
       "39       5.1     3.4      1.5     0.2      Iris-setosa\n",
       "40       5.0     3.5      1.3     0.3      Iris-setosa\n",
       "41       4.5     2.3      1.3     0.3      Iris-setosa\n",
       "42       4.4     3.2      1.3     0.2      Iris-setosa\n",
       "43       5.0     3.5      1.6     0.6      Iris-setosa\n",
       "44       5.1     3.8      1.9     0.4      Iris-setosa\n",
       "45       4.8     3.0      1.4     0.3      Iris-setosa\n",
       "46       5.1     3.8      1.6     0.2      Iris-setosa\n",
       "47       4.6     3.2      1.4     0.2      Iris-setosa\n",
       "48       5.3     3.7      1.5     0.2      Iris-setosa\n",
       "49       5.0     3.3      1.4     0.2      Iris-setosa\n",
       "50       7.0     3.2      4.7     1.4  Iris-versicolor\n",
       "51       6.4     3.2      4.5     1.5  Iris-versicolor\n",
       "52       6.9     3.1      4.9     1.5  Iris-versicolor\n",
       "53       5.5     2.3      4.0     1.3  Iris-versicolor\n",
       "54       6.5     2.8      4.6     1.5  Iris-versicolor\n",
       "55       5.7     2.8      4.5     1.3  Iris-versicolor\n",
       "56       6.3     3.3      4.7     1.6  Iris-versicolor\n",
       "57       4.9     2.4      3.3     1.0  Iris-versicolor\n",
       "58       6.6     2.9      4.6     1.3  Iris-versicolor\n",
       "59       5.2     2.7      3.9     1.4  Iris-versicolor\n",
       "60       5.0     2.0      3.5     1.0  Iris-versicolor\n",
       "61       5.9     3.0      4.2     1.5  Iris-versicolor\n",
       "62       6.0     2.2      4.0     1.0  Iris-versicolor\n",
       "63       6.1     2.9      4.7     1.4  Iris-versicolor\n",
       "64       5.6     2.9      3.6     1.3  Iris-versicolor\n",
       "65       6.7     3.1      4.4     1.4  Iris-versicolor\n",
       "66       5.6     3.0      4.5     1.5  Iris-versicolor\n",
       "67       5.8     2.7      4.1     1.0  Iris-versicolor\n",
       "68       6.2     2.2      4.5     1.5  Iris-versicolor\n",
       "69       5.6     2.5      3.9     1.1  Iris-versicolor\n",
       "70       5.9     3.2      4.8     1.8  Iris-versicolor\n",
       "71       6.1     2.8      4.0     1.3  Iris-versicolor\n",
       "72       6.3     2.5      4.9     1.5  Iris-versicolor\n",
       "73       6.1     2.8      4.7     1.2  Iris-versicolor\n",
       "74       6.4     2.9      4.3     1.3  Iris-versicolor\n",
       "75       6.6     3.0      4.4     1.4  Iris-versicolor\n",
       "76       6.8     2.8      4.8     1.4  Iris-versicolor\n",
       "77       6.7     3.0      5.0     1.7  Iris-versicolor\n",
       "78       6.0     2.9      4.5     1.5  Iris-versicolor\n",
       "79       5.7     2.6      3.5     1.0  Iris-versicolor\n",
       "80       5.5     2.4      3.8     1.1  Iris-versicolor\n",
       "81       5.5     2.4      3.7     1.0  Iris-versicolor\n",
       "82       5.8     2.7      3.9     1.2  Iris-versicolor\n",
       "83       6.0     2.7      5.1     1.6  Iris-versicolor\n",
       "84       5.4     3.0      4.5     1.5  Iris-versicolor\n",
       "85       6.0     3.4      4.5     1.6  Iris-versicolor\n",
       "86       6.7     3.1      4.7     1.5  Iris-versicolor\n",
       "87       6.3     2.3      4.4     1.3  Iris-versicolor\n",
       "88       5.6     3.0      4.1     1.3  Iris-versicolor\n",
       "89       5.5     2.5      4.0     1.3  Iris-versicolor\n",
       "90       5.5     2.6      4.4     1.2  Iris-versicolor\n",
       "91       6.1     3.0      4.6     1.4  Iris-versicolor\n",
       "92       5.8     2.6      4.0     1.2  Iris-versicolor\n",
       "93       5.0     2.3      3.3     1.0  Iris-versicolor\n",
       "94       5.6     2.7      4.2     1.3  Iris-versicolor\n",
       "95       5.7     3.0      4.2     1.2  Iris-versicolor\n",
       "96       5.7     2.9      4.2     1.3  Iris-versicolor\n",
       "97       6.2     2.9      4.3     1.3  Iris-versicolor\n",
       "98       5.1     2.5      3.0     1.1  Iris-versicolor\n",
       "99       5.7     2.8      4.1     1.3  Iris-versicolor\n",
       "100      6.3     3.3      6.0     2.5   Iris-virginica\n",
       "101      5.8     2.7      5.1     1.9   Iris-virginica\n",
       "102      7.1     3.0      5.9     2.1   Iris-virginica\n",
       "103      6.3     2.9      5.6     1.8   Iris-virginica\n",
       "104      6.5     3.0      5.8     2.2   Iris-virginica\n",
       "105      7.6     3.0      6.6     2.1   Iris-virginica\n",
       "106      4.9     2.5      4.5     1.7   Iris-virginica\n",
       "107      7.3     2.9      6.3     1.8   Iris-virginica\n",
       "108      6.7     2.5      5.8     1.8   Iris-virginica\n",
       "109      7.2     3.6      6.1     2.5   Iris-virginica\n",
       "110      6.5     3.2      5.1     2.0   Iris-virginica\n",
       "111      6.4     2.7      5.3     1.9   Iris-virginica\n",
       "112      6.8     3.0      5.5     2.1   Iris-virginica\n",
       "113      5.7     2.5      5.0     2.0   Iris-virginica\n",
       "114      5.8     2.8      5.1     2.4   Iris-virginica\n",
       "115      6.4     3.2      5.3     2.3   Iris-virginica\n",
       "116      6.5     3.0      5.5     1.8   Iris-virginica\n",
       "117      7.7     3.8      6.7     2.2   Iris-virginica\n",
       "118      7.7     2.6      6.9     2.3   Iris-virginica\n",
       "119      6.0     2.2      5.0     1.5   Iris-virginica\n",
       "120      6.9     3.2      5.7     2.3   Iris-virginica\n",
       "121      5.6     2.8      4.9     2.0   Iris-virginica\n",
       "122      7.7     2.8      6.7     2.0   Iris-virginica\n",
       "123      6.3     2.7      4.9     1.8   Iris-virginica\n",
       "124      6.7     3.3      5.7     2.1   Iris-virginica\n",
       "125      7.2     3.2      6.0     1.8   Iris-virginica\n",
       "126      6.2     2.8      4.8     1.8   Iris-virginica\n",
       "127      6.1     3.0      4.9     1.8   Iris-virginica\n",
       "128      6.4     2.8      5.6     2.1   Iris-virginica\n",
       "129      7.2     3.0      5.8     1.6   Iris-virginica\n",
       "130      7.4     2.8      6.1     1.9   Iris-virginica\n",
       "131      7.9     3.8      6.4     2.0   Iris-virginica\n",
       "132      6.4     2.8      5.6     2.2   Iris-virginica\n",
       "133      6.3     2.8      5.1     1.5   Iris-virginica\n",
       "134      6.1     2.6      5.6     1.4   Iris-virginica\n",
       "135      7.7     3.0      6.1     2.3   Iris-virginica\n",
       "136      6.3     3.4      5.6     2.4   Iris-virginica\n",
       "137      6.4     3.1      5.5     1.8   Iris-virginica\n",
       "138      6.0     3.0      4.8     1.8   Iris-virginica\n",
       "139      6.9     3.1      5.4     2.1   Iris-virginica\n",
       "140      6.7     3.1      5.6     2.4   Iris-virginica\n",
       "141      6.9     3.1      5.1     2.3   Iris-virginica\n",
       "142      5.8     2.7      5.1     1.9   Iris-virginica\n",
       "143      6.8     3.2      5.9     2.3   Iris-virginica\n",
       "144      6.7     3.3      5.7     2.5   Iris-virginica\n",
       "145      6.7     3.0      5.2     2.3   Iris-virginica\n",
       "146      6.3     2.5      5.0     1.9   Iris-virginica\n",
       "147      6.5     3.0      5.2     2.0   Iris-virginica\n",
       "148      6.2     3.4      5.4     2.3   Iris-virginica\n",
       "149      5.9     3.0      5.1     1.8   Iris-virginica>"
      ]
     },
     "execution_count": 12,
     "metadata": {},
     "output_type": "execute_result"
    }
   ],
   "source": [
    "df.cumprod"
   ]
  },
  {
   "cell_type": "markdown",
   "metadata": {
    "id": "YCAPpVAq06qL"
   },
   "source": [
    "Get help about this object, if there is any:"
   ]
  },
  {
   "cell_type": "code",
   "execution_count": null,
   "metadata": {
    "id": "ZctEUABs06qL"
   },
   "outputs": [],
   "source": []
  },
  {
   "cell_type": "markdown",
   "metadata": {
    "id": "_5pTPqZA06qM"
   },
   "source": [
    "And, what you will probably use the most, the online package information and examples by googling or ChatGPT."
   ]
  },
  {
   "cell_type": "markdown",
   "metadata": {
    "id": "Dp-beMVD06qM"
   },
   "source": [
    "### Exercise 2 (10 min)\n",
    "\n",
    "Read the Swiss BAG Corona data on deaths into a dataframe and look at it. The URL is\n",
    "https://www.covid19.admin.ch/api/data/20230815-7ixiby4u/sources/COVID19Death_geoRegion_sex_w.csv\n",
    "\n",
    "There are also json files on that server. If you want to use them instead, consult https://pandas.pydata.org/docs/reference/io.html in order to find out how to read a json file into a pandas dataframe."
   ]
  },
  {
   "cell_type": "code",
   "execution_count": 27,
   "metadata": {
    "id": "bjGxXL8k06qM"
   },
   "outputs": [
    {
     "data": {
      "text/html": [
       "<div>\n",
       "<style scoped>\n",
       "    .dataframe tbody tr th:only-of-type {\n",
       "        vertical-align: middle;\n",
       "    }\n",
       "\n",
       "    .dataframe tbody tr th {\n",
       "        vertical-align: top;\n",
       "    }\n",
       "\n",
       "    .dataframe thead th {\n",
       "        text-align: right;\n",
       "    }\n",
       "</style>\n",
       "<table border=\"1\" class=\"dataframe\">\n",
       "  <thead>\n",
       "    <tr style=\"text-align: right;\">\n",
       "      <th></th>\n",
       "      <th>geoRegion</th>\n",
       "      <th>datum</th>\n",
       "      <th>entries</th>\n",
       "      <th>sumTotal</th>\n",
       "      <th>timeframe_14d</th>\n",
       "      <th>timeframe_all</th>\n",
       "      <th>offset_last7d</th>\n",
       "      <th>sumTotal_last7d</th>\n",
       "      <th>offset_last14d</th>\n",
       "      <th>sumTotal_last14d</th>\n",
       "      <th>...</th>\n",
       "      <th>inzsum14d</th>\n",
       "      <th>sumdelta7d</th>\n",
       "      <th>inzdelta7d</th>\n",
       "      <th>type</th>\n",
       "      <th>type_variant</th>\n",
       "      <th>version</th>\n",
       "      <th>datum_unit</th>\n",
       "      <th>entries_letzter_stand</th>\n",
       "      <th>entries_neu_gemeldet</th>\n",
       "      <th>entries_diff_last</th>\n",
       "    </tr>\n",
       "  </thead>\n",
       "  <tbody>\n",
       "    <tr>\n",
       "      <th>30242</th>\n",
       "      <td>ZH</td>\n",
       "      <td>2022-12-28</td>\n",
       "      <td>0</td>\n",
       "      <td>1876</td>\n",
       "      <td>False</td>\n",
       "      <td>True</td>\n",
       "      <td>1884</td>\n",
       "      <td>0</td>\n",
       "      <td>1880</td>\n",
       "      <td>0</td>\n",
       "      <td>...</td>\n",
       "      <td>0.26</td>\n",
       "      <td>0.0</td>\n",
       "      <td>0.00</td>\n",
       "      <td>COVID19Death</td>\n",
       "      <td>NaN</td>\n",
       "      <td>2023-01-24_06-03-16</td>\n",
       "      <td>day</td>\n",
       "      <td>0</td>\n",
       "      <td>0</td>\n",
       "      <td>2</td>\n",
       "    </tr>\n",
       "    <tr>\n",
       "      <th>30243</th>\n",
       "      <td>ZH</td>\n",
       "      <td>2022-12-29</td>\n",
       "      <td>0</td>\n",
       "      <td>1876</td>\n",
       "      <td>False</td>\n",
       "      <td>True</td>\n",
       "      <td>1884</td>\n",
       "      <td>0</td>\n",
       "      <td>1880</td>\n",
       "      <td>0</td>\n",
       "      <td>...</td>\n",
       "      <td>0.19</td>\n",
       "      <td>-1.0</td>\n",
       "      <td>-0.06</td>\n",
       "      <td>COVID19Death</td>\n",
       "      <td>NaN</td>\n",
       "      <td>2023-01-24_06-03-16</td>\n",
       "      <td>day</td>\n",
       "      <td>0</td>\n",
       "      <td>0</td>\n",
       "      <td>2</td>\n",
       "    </tr>\n",
       "    <tr>\n",
       "      <th>30244</th>\n",
       "      <td>ZH</td>\n",
       "      <td>2022-12-30</td>\n",
       "      <td>1</td>\n",
       "      <td>1877</td>\n",
       "      <td>False</td>\n",
       "      <td>True</td>\n",
       "      <td>1884</td>\n",
       "      <td>0</td>\n",
       "      <td>1880</td>\n",
       "      <td>0</td>\n",
       "      <td>...</td>\n",
       "      <td>0.26</td>\n",
       "      <td>1.0</td>\n",
       "      <td>0.06</td>\n",
       "      <td>COVID19Death</td>\n",
       "      <td>NaN</td>\n",
       "      <td>2023-01-24_06-03-16</td>\n",
       "      <td>day</td>\n",
       "      <td>1</td>\n",
       "      <td>0</td>\n",
       "      <td>2</td>\n",
       "    </tr>\n",
       "    <tr>\n",
       "      <th>30245</th>\n",
       "      <td>ZH</td>\n",
       "      <td>2022-12-31</td>\n",
       "      <td>0</td>\n",
       "      <td>1877</td>\n",
       "      <td>False</td>\n",
       "      <td>True</td>\n",
       "      <td>1884</td>\n",
       "      <td>0</td>\n",
       "      <td>1880</td>\n",
       "      <td>0</td>\n",
       "      <td>...</td>\n",
       "      <td>0.26</td>\n",
       "      <td>-1.0</td>\n",
       "      <td>-0.06</td>\n",
       "      <td>COVID19Death</td>\n",
       "      <td>NaN</td>\n",
       "      <td>2023-01-24_06-03-16</td>\n",
       "      <td>day</td>\n",
       "      <td>0</td>\n",
       "      <td>0</td>\n",
       "      <td>2</td>\n",
       "    </tr>\n",
       "    <tr>\n",
       "      <th>30246</th>\n",
       "      <td>ZH</td>\n",
       "      <td>2023-01-01</td>\n",
       "      <td>0</td>\n",
       "      <td>1877</td>\n",
       "      <td>False</td>\n",
       "      <td>True</td>\n",
       "      <td>1884</td>\n",
       "      <td>0</td>\n",
       "      <td>1880</td>\n",
       "      <td>0</td>\n",
       "      <td>...</td>\n",
       "      <td>0.26</td>\n",
       "      <td>0.0</td>\n",
       "      <td>0.00</td>\n",
       "      <td>COVID19Death</td>\n",
       "      <td>NaN</td>\n",
       "      <td>2023-01-24_06-03-16</td>\n",
       "      <td>day</td>\n",
       "      <td>0</td>\n",
       "      <td>0</td>\n",
       "      <td>2</td>\n",
       "    </tr>\n",
       "  </tbody>\n",
       "</table>\n",
       "<p>5 rows × 36 columns</p>\n",
       "</div>"
      ],
      "text/plain": [
       "      geoRegion       datum  entries  sumTotal  timeframe_14d  timeframe_all  \\\n",
       "30242        ZH  2022-12-28        0      1876          False           True   \n",
       "30243        ZH  2022-12-29        0      1876          False           True   \n",
       "30244        ZH  2022-12-30        1      1877          False           True   \n",
       "30245        ZH  2022-12-31        0      1877          False           True   \n",
       "30246        ZH  2023-01-01        0      1877          False           True   \n",
       "\n",
       "       offset_last7d  sumTotal_last7d  offset_last14d  sumTotal_last14d  ...  \\\n",
       "30242           1884                0            1880                 0  ...   \n",
       "30243           1884                0            1880                 0  ...   \n",
       "30244           1884                0            1880                 0  ...   \n",
       "30245           1884                0            1880                 0  ...   \n",
       "30246           1884                0            1880                 0  ...   \n",
       "\n",
       "       inzsum14d  sumdelta7d  inzdelta7d          type  type_variant  \\\n",
       "30242       0.26         0.0        0.00  COVID19Death           NaN   \n",
       "30243       0.19        -1.0       -0.06  COVID19Death           NaN   \n",
       "30244       0.26         1.0        0.06  COVID19Death           NaN   \n",
       "30245       0.26        -1.0       -0.06  COVID19Death           NaN   \n",
       "30246       0.26         0.0        0.00  COVID19Death           NaN   \n",
       "\n",
       "                   version  datum_unit  entries_letzter_stand  \\\n",
       "30242  2023-01-24_06-03-16         day                      0   \n",
       "30243  2023-01-24_06-03-16         day                      0   \n",
       "30244  2023-01-24_06-03-16         day                      1   \n",
       "30245  2023-01-24_06-03-16         day                      0   \n",
       "30246  2023-01-24_06-03-16         day                      0   \n",
       "\n",
       "       entries_neu_gemeldet  entries_diff_last  \n",
       "30242                     0                  2  \n",
       "30243                     0                  2  \n",
       "30244                     0                  2  \n",
       "30245                     0                  2  \n",
       "30246                     0                  2  \n",
       "\n",
       "[5 rows x 36 columns]"
      ]
     },
     "execution_count": 27,
     "metadata": {},
     "output_type": "execute_result"
    }
   ],
   "source": [
    "# Write your code here\n",
    "pd.set_option('display.max_rows',20)\n",
    "#url = 'https://www.covid19.admin.ch/api/data/20210823-4c27ic5b/sources/COVID19VaccPersons_v2.json'\n",
    "url = 'C:/Users/tim94/OneDrive/Dokumente/Universität Bern/Data Acquisition and Management/COVID19Death_geoRegion.csv'\n",
    "\n",
    "df_c = pd.read_csv(url)\n",
    "df_c.tail()\n",
    "#df['entries'].sum()"
   ]
  },
  {
   "cell_type": "code",
   "execution_count": 31,
   "metadata": {
    "id": "dIR8YyDP06qM"
   },
   "outputs": [
    {
     "name": "stdout",
     "output_type": "stream",
     "text": [
      "<class 'pandas.core.frame.DataFrame'>\n",
      "RangeIndex: 149 entries, 0 to 148\n",
      "Data columns (total 5 columns):\n",
      " #   Column       Non-Null Count  Dtype  \n",
      "---  ------       --------------  -----  \n",
      " 0   5.1          149 non-null    float64\n",
      " 1   3.5          149 non-null    float64\n",
      " 2   1.4          149 non-null    float64\n",
      " 3   0.2          149 non-null    float64\n",
      " 4   Iris-setosa  149 non-null    object \n",
      "dtypes: float64(4), object(1)\n",
      "memory usage: 5.9+ KB\n"
     ]
    }
   ],
   "source": [
    "df.info()"
   ]
  },
  {
   "cell_type": "markdown",
   "metadata": {
    "id": "xCI7ub-706qN"
   },
   "source": [
    "### 3. Indexing on a DataFrame\n",
    "\n",
    "By methods (we are back to our clean and simple Iris dataset):"
   ]
  },
  {
   "cell_type": "code",
   "execution_count": 47,
   "metadata": {
    "id": "R0sDmvr006qN"
   },
   "outputs": [
    {
     "data": {
      "text/html": [
       "<div>\n",
       "<style scoped>\n",
       "    .dataframe tbody tr th:only-of-type {\n",
       "        vertical-align: middle;\n",
       "    }\n",
       "\n",
       "    .dataframe tbody tr th {\n",
       "        vertical-align: top;\n",
       "    }\n",
       "\n",
       "    .dataframe thead th {\n",
       "        text-align: right;\n",
       "    }\n",
       "</style>\n",
       "<table border=\"1\" class=\"dataframe\">\n",
       "  <thead>\n",
       "    <tr style=\"text-align: right;\">\n",
       "      <th></th>\n",
       "      <th>slength</th>\n",
       "      <th>swidth</th>\n",
       "    </tr>\n",
       "  </thead>\n",
       "  <tbody>\n",
       "    <tr>\n",
       "      <th>0</th>\n",
       "      <td>5.1</td>\n",
       "      <td>3.5</td>\n",
       "    </tr>\n",
       "    <tr>\n",
       "      <th>2</th>\n",
       "      <td>4.7</td>\n",
       "      <td>3.2</td>\n",
       "    </tr>\n",
       "    <tr>\n",
       "      <th>4</th>\n",
       "      <td>5.0</td>\n",
       "      <td>3.6</td>\n",
       "    </tr>\n",
       "    <tr>\n",
       "      <th>6</th>\n",
       "      <td>4.6</td>\n",
       "      <td>3.4</td>\n",
       "    </tr>\n",
       "    <tr>\n",
       "      <th>8</th>\n",
       "      <td>4.4</td>\n",
       "      <td>2.9</td>\n",
       "    </tr>\n",
       "  </tbody>\n",
       "</table>\n",
       "</div>"
      ],
      "text/plain": [
       "   slength  swidth\n",
       "0      5.1     3.5\n",
       "2      4.7     3.2\n",
       "4      5.0     3.6\n",
       "6      4.6     3.4\n",
       "8      4.4     2.9"
      ]
     },
     "execution_count": 47,
     "metadata": {},
     "output_type": "execute_result"
    }
   ],
   "source": [
    "# access single cell by integer numbers (row 149, column 0 / first column), faster that loc and iloc\n",
    "df.iat[149,0]\n",
    "#access rows 0 to 10 every second element, columns 0 to 2\n",
    "df.iloc[0:10:2,0:2]\n",
    "#df.head()"
   ]
  },
  {
   "cell_type": "code",
   "execution_count": 49,
   "metadata": {
    "id": "HglpOox106qN"
   },
   "outputs": [
    {
     "data": {
      "text/html": [
       "<div>\n",
       "<style scoped>\n",
       "    .dataframe tbody tr th:only-of-type {\n",
       "        vertical-align: middle;\n",
       "    }\n",
       "\n",
       "    .dataframe tbody tr th {\n",
       "        vertical-align: top;\n",
       "    }\n",
       "\n",
       "    .dataframe thead th {\n",
       "        text-align: right;\n",
       "    }\n",
       "</style>\n",
       "<table border=\"1\" class=\"dataframe\">\n",
       "  <thead>\n",
       "    <tr style=\"text-align: right;\">\n",
       "      <th></th>\n",
       "      <th>slength</th>\n",
       "      <th>swidth</th>\n",
       "      <th>plength</th>\n",
       "      <th>pwidth</th>\n",
       "      <th>species</th>\n",
       "      <th>(0, 0)</th>\n",
       "    </tr>\n",
       "  </thead>\n",
       "  <tbody>\n",
       "    <tr>\n",
       "      <th>0</th>\n",
       "      <td>5.1</td>\n",
       "      <td>3.5</td>\n",
       "      <td>1.4</td>\n",
       "      <td>0.2</td>\n",
       "      <td>Iris-setosa</td>\n",
       "      <td>1</td>\n",
       "    </tr>\n",
       "    <tr>\n",
       "      <th>1</th>\n",
       "      <td>4.9</td>\n",
       "      <td>3.0</td>\n",
       "      <td>1.4</td>\n",
       "      <td>0.2</td>\n",
       "      <td>Iris-setosa</td>\n",
       "      <td>1</td>\n",
       "    </tr>\n",
       "    <tr>\n",
       "      <th>2</th>\n",
       "      <td>4.7</td>\n",
       "      <td>3.2</td>\n",
       "      <td>1.3</td>\n",
       "      <td>0.2</td>\n",
       "      <td>Iris-setosa</td>\n",
       "      <td>1</td>\n",
       "    </tr>\n",
       "    <tr>\n",
       "      <th>3</th>\n",
       "      <td>4.6</td>\n",
       "      <td>3.1</td>\n",
       "      <td>1.5</td>\n",
       "      <td>0.2</td>\n",
       "      <td>Iris-setosa</td>\n",
       "      <td>1</td>\n",
       "    </tr>\n",
       "    <tr>\n",
       "      <th>4</th>\n",
       "      <td>5.0</td>\n",
       "      <td>3.6</td>\n",
       "      <td>1.4</td>\n",
       "      <td>0.2</td>\n",
       "      <td>Iris-setosa</td>\n",
       "      <td>1</td>\n",
       "    </tr>\n",
       "  </tbody>\n",
       "</table>\n",
       "</div>"
      ],
      "text/plain": [
       "   slength  swidth  plength  pwidth      species  (0, 0)\n",
       "0      5.1     3.5      1.4     0.2  Iris-setosa       1\n",
       "1      4.9     3.0      1.4     0.2  Iris-setosa       1\n",
       "2      4.7     3.2      1.3     0.2  Iris-setosa       1\n",
       "3      4.6     3.1      1.5     0.2  Iris-setosa       1\n",
       "4      5.0     3.6      1.4     0.2  Iris-setosa       1"
      ]
     },
     "execution_count": 49,
     "metadata": {},
     "output_type": "execute_result"
    }
   ],
   "source": [
    "# Assign a new value\n",
    "df[0,0]=1\n",
    "df.head()"
   ]
  },
  {
   "cell_type": "markdown",
   "metadata": {
    "id": "jf6gF3jr06qN"
   },
   "source": [
    "Indexing a group/subset of the dataframe by loc (column names) or iloc (index)"
   ]
  },
  {
   "cell_type": "code",
   "execution_count": null,
   "metadata": {
    "id": "CvKPHzP106qO"
   },
   "outputs": [],
   "source": []
  },
  {
   "cell_type": "markdown",
   "metadata": {
    "id": "8holfyZd06qO"
   },
   "source": [
    "**Important**\n",
    "When you assign a (subset) of dataframe to a new one like above, no copy is made. This means that if you change values of the new frame, also the orginal frame will be changed. If you want a copy, you need to use the copy method."
   ]
  },
  {
   "cell_type": "markdown",
   "metadata": {
    "id": "9n8pa6UH06qO"
   },
   "source": [
    "Indexing by column names..."
   ]
  },
  {
   "cell_type": "code",
   "execution_count": null,
   "metadata": {
    "id": "ZapUeo_x06qO"
   },
   "outputs": [],
   "source": []
  },
  {
   "cell_type": "markdown",
   "metadata": {
    "id": "R0Sqgdk106qP"
   },
   "source": [
    "Selecting (filtering) by column valuess_df = dataframe[dataframe['species']=='Iris-setosa']"
   ]
  },
  {
   "cell_type": "code",
   "execution_count": 58,
   "metadata": {
    "id": "BPqUoUYR06qP"
   },
   "outputs": [],
   "source": [
    "#filter only Iris-setosa species\n",
    "df_setosa_only = df[df['species']=='Iris-setosa']"
   ]
  },
  {
   "cell_type": "code",
   "execution_count": null,
   "metadata": {
    "id": "cp2J-Y0E06qP"
   },
   "outputs": [],
   "source": [
    "df_setosa_only"
   ]
  },
  {
   "cell_type": "markdown",
   "metadata": {
    "id": "IO6qtwYH06qP"
   },
   "source": [
    "Vectorized dataframe manipulations..."
   ]
  },
  {
   "cell_type": "code",
   "execution_count": null,
   "metadata": {
    "id": "3dN1twE406qP"
   },
   "outputs": [],
   "source": [
    "df_setosa_only['plength']/2\n",
    "df_setosa_only\n",
    "df_setosa_only['plength']*2"
   ]
  },
  {
   "cell_type": "code",
   "execution_count": null,
   "metadata": {},
   "outputs": [],
   "source": [
    "df_setosa_only['plength'].mean()\n",
    "df_setosa_only['plength'].median()"
   ]
  },
  {
   "cell_type": "markdown",
   "metadata": {
    "id": "peiXnTgAxw08"
   },
   "source": [
    "Grouping ..."
   ]
  },
  {
   "cell_type": "code",
   "execution_count": 76,
   "metadata": {
    "id": "SPJDgpc006qP",
    "scrolled": true
   },
   "outputs": [
    {
     "name": "stdout",
     "output_type": "stream",
     "text": [
      "{'Iris-setosa': [0, 1, 2, 3, 4, 5, 6, 7, 8, 9, 10, 11, 12, 13, 14, 15, 16, 17, 18, 19, 20, 21, 22, 23, 24, 25, 26, 27, 28, 29, 30, 31, 32, 33, 34, 35, 36, 37, 38, 39, 40, 41, 42, 43, 44, 45, 46, 47, 48, 49], 'Iris-versicolor': [50, 51, 52, 53, 54, 55, 56, 57, 58, 59, 60, 61, 62, 63, 64, 65, 66, 67, 68, 69, 70, 71, 72, 73, 74, 75, 76, 77, 78, 79, 80, 81, 82, 83, 84, 85, 86, 87, 88, 89, 90, 91, 92, 93, 94, 95, 96, 97, 98, 99], 'Iris-virginica': [100, 101, 102, 103, 104, 105, 106, 107, 108, 109, 110, 111, 112, 113, 114, 115, 116, 117, 118, 119, 120, 121, 122, 123, 124, 125, 126, 127, 128, 129, 130, 131, 132, 133, 134, 135, 136, 137, 138, 139, 140, 141, 142, 143, 144, 145, 146, 147, 148, 149]}\n"
     ]
    }
   ],
   "source": [
    "gdf = df.groupby('species')\n",
    "print(gdf.groups)\n",
    "df_v = gdf.get_group('Iris-virginica')"
   ]
  },
  {
   "cell_type": "markdown",
   "metadata": {
    "id": "NkS6YD7V06qQ"
   },
   "source": [
    "### 4. Sorting on a DataFrame\n",
    "\n",
    "..."
   ]
  },
  {
   "cell_type": "code",
   "execution_count": 78,
   "metadata": {
    "id": "d1hGqMMk06qQ"
   },
   "outputs": [
    {
     "name": "stdout",
     "output_type": "stream",
     "text": [
      "<class 'pandas.core.frame.DataFrame'>\n",
      "RangeIndex: 150 entries, 0 to 149\n",
      "Data columns (total 6 columns):\n",
      " #   Column   Non-Null Count  Dtype  \n",
      "---  ------   --------------  -----  \n",
      " 0   slength  150 non-null    float64\n",
      " 1   swidth   150 non-null    float64\n",
      " 2   plength  150 non-null    float64\n",
      " 3   pwidth   150 non-null    float64\n",
      " 4   species  150 non-null    object \n",
      " 5   (0, 0)   150 non-null    int64  \n",
      "dtypes: float64(4), int64(1), object(1)\n",
      "memory usage: 7.2+ KB\n"
     ]
    }
   ],
   "source": [
    "#adf = pd.read_csv('iris.csv',names=['slength','swidth','plength','pwidth','species'])\n",
    "df.info()"
   ]
  },
  {
   "cell_type": "code",
   "execution_count": 85,
   "metadata": {
    "id": "ghnoA6O306qQ",
    "scrolled": true
   },
   "outputs": [
    {
     "data": {
      "text/html": [
       "<div>\n",
       "<style scoped>\n",
       "    .dataframe tbody tr th:only-of-type {\n",
       "        vertical-align: middle;\n",
       "    }\n",
       "\n",
       "    .dataframe tbody tr th {\n",
       "        vertical-align: top;\n",
       "    }\n",
       "\n",
       "    .dataframe thead th {\n",
       "        text-align: right;\n",
       "    }\n",
       "</style>\n",
       "<table border=\"1\" class=\"dataframe\">\n",
       "  <thead>\n",
       "    <tr style=\"text-align: right;\">\n",
       "      <th></th>\n",
       "      <th>slength</th>\n",
       "      <th>swidth</th>\n",
       "      <th>plength</th>\n",
       "      <th>pwidth</th>\n",
       "      <th>species</th>\n",
       "      <th>(0, 0)</th>\n",
       "    </tr>\n",
       "  </thead>\n",
       "  <tbody>\n",
       "    <tr>\n",
       "      <th>0</th>\n",
       "      <td>5.1</td>\n",
       "      <td>3.5</td>\n",
       "      <td>1.4</td>\n",
       "      <td>0.2</td>\n",
       "      <td>Iris-setosa</td>\n",
       "      <td>1</td>\n",
       "    </tr>\n",
       "    <tr>\n",
       "      <th>1</th>\n",
       "      <td>4.9</td>\n",
       "      <td>3.0</td>\n",
       "      <td>1.4</td>\n",
       "      <td>0.2</td>\n",
       "      <td>Iris-setosa</td>\n",
       "      <td>1</td>\n",
       "    </tr>\n",
       "    <tr>\n",
       "      <th>2</th>\n",
       "      <td>4.7</td>\n",
       "      <td>3.2</td>\n",
       "      <td>1.3</td>\n",
       "      <td>0.2</td>\n",
       "      <td>Iris-setosa</td>\n",
       "      <td>1</td>\n",
       "    </tr>\n",
       "    <tr>\n",
       "      <th>3</th>\n",
       "      <td>4.6</td>\n",
       "      <td>3.1</td>\n",
       "      <td>1.5</td>\n",
       "      <td>0.2</td>\n",
       "      <td>Iris-setosa</td>\n",
       "      <td>1</td>\n",
       "    </tr>\n",
       "    <tr>\n",
       "      <th>4</th>\n",
       "      <td>5.0</td>\n",
       "      <td>3.6</td>\n",
       "      <td>1.4</td>\n",
       "      <td>0.2</td>\n",
       "      <td>Iris-setosa</td>\n",
       "      <td>1</td>\n",
       "    </tr>\n",
       "    <tr>\n",
       "      <th>...</th>\n",
       "      <td>...</td>\n",
       "      <td>...</td>\n",
       "      <td>...</td>\n",
       "      <td>...</td>\n",
       "      <td>...</td>\n",
       "      <td>...</td>\n",
       "    </tr>\n",
       "    <tr>\n",
       "      <th>145</th>\n",
       "      <td>6.7</td>\n",
       "      <td>3.0</td>\n",
       "      <td>5.2</td>\n",
       "      <td>2.3</td>\n",
       "      <td>Iris-virginica</td>\n",
       "      <td>1</td>\n",
       "    </tr>\n",
       "    <tr>\n",
       "      <th>146</th>\n",
       "      <td>6.3</td>\n",
       "      <td>2.5</td>\n",
       "      <td>5.0</td>\n",
       "      <td>1.9</td>\n",
       "      <td>Iris-virginica</td>\n",
       "      <td>1</td>\n",
       "    </tr>\n",
       "    <tr>\n",
       "      <th>147</th>\n",
       "      <td>6.5</td>\n",
       "      <td>3.0</td>\n",
       "      <td>5.2</td>\n",
       "      <td>2.0</td>\n",
       "      <td>Iris-virginica</td>\n",
       "      <td>1</td>\n",
       "    </tr>\n",
       "    <tr>\n",
       "      <th>148</th>\n",
       "      <td>6.2</td>\n",
       "      <td>3.4</td>\n",
       "      <td>5.4</td>\n",
       "      <td>2.3</td>\n",
       "      <td>Iris-virginica</td>\n",
       "      <td>1</td>\n",
       "    </tr>\n",
       "    <tr>\n",
       "      <th>149</th>\n",
       "      <td>5.9</td>\n",
       "      <td>3.0</td>\n",
       "      <td>5.1</td>\n",
       "      <td>1.8</td>\n",
       "      <td>Iris-virginica</td>\n",
       "      <td>1</td>\n",
       "    </tr>\n",
       "  </tbody>\n",
       "</table>\n",
       "<p>150 rows × 6 columns</p>\n",
       "</div>"
      ],
      "text/plain": [
       "     slength  swidth  plength  pwidth         species  (0, 0)\n",
       "0        5.1     3.5      1.4     0.2     Iris-setosa       1\n",
       "1        4.9     3.0      1.4     0.2     Iris-setosa       1\n",
       "2        4.7     3.2      1.3     0.2     Iris-setosa       1\n",
       "3        4.6     3.1      1.5     0.2     Iris-setosa       1\n",
       "4        5.0     3.6      1.4     0.2     Iris-setosa       1\n",
       "..       ...     ...      ...     ...             ...     ...\n",
       "145      6.7     3.0      5.2     2.3  Iris-virginica       1\n",
       "146      6.3     2.5      5.0     1.9  Iris-virginica       1\n",
       "147      6.5     3.0      5.2     2.0  Iris-virginica       1\n",
       "148      6.2     3.4      5.4     2.3  Iris-virginica       1\n",
       "149      5.9     3.0      5.1     1.8  Iris-virginica       1\n",
       "\n",
       "[150 rows x 6 columns]"
      ]
     },
     "execution_count": 85,
     "metadata": {},
     "output_type": "execute_result"
    }
   ],
   "source": [
    "df.sort_values('plength')\n",
    "#if multiple sort variables, use [] as python expects a list\n",
    "df.sort_values(['plength','pwidth'])\n",
    "df"
   ]
  },
  {
   "cell_type": "markdown",
   "metadata": {
    "id": "2xGm6-8W06qQ"
   },
   "source": [
    "You may measure the time needed for the execution, e.g. with the operating system command \"time\". System commands are executed with a %:"
   ]
  },
  {
   "cell_type": "code",
   "execution_count": 92,
   "metadata": {
    "id": "PyaC-Aj006qQ"
   },
   "outputs": [
    {
     "name": "stdout",
     "output_type": "stream",
     "text": [
      "CPU times: total: 0 ns\n",
      "Wall time: 2 ms\n"
     ]
    },
    {
     "data": {
      "text/html": [
       "<div>\n",
       "<style scoped>\n",
       "    .dataframe tbody tr th:only-of-type {\n",
       "        vertical-align: middle;\n",
       "    }\n",
       "\n",
       "    .dataframe tbody tr th {\n",
       "        vertical-align: top;\n",
       "    }\n",
       "\n",
       "    .dataframe thead th {\n",
       "        text-align: right;\n",
       "    }\n",
       "</style>\n",
       "<table border=\"1\" class=\"dataframe\">\n",
       "  <thead>\n",
       "    <tr style=\"text-align: right;\">\n",
       "      <th></th>\n",
       "      <th>slength</th>\n",
       "      <th>swidth</th>\n",
       "      <th>plength</th>\n",
       "      <th>pwidth</th>\n",
       "      <th>species</th>\n",
       "      <th>(0, 0)</th>\n",
       "    </tr>\n",
       "  </thead>\n",
       "  <tbody>\n",
       "    <tr>\n",
       "      <th>13</th>\n",
       "      <td>4.3</td>\n",
       "      <td>3.0</td>\n",
       "      <td>1.1</td>\n",
       "      <td>0.1</td>\n",
       "      <td>Iris-setosa</td>\n",
       "      <td>1</td>\n",
       "    </tr>\n",
       "    <tr>\n",
       "      <th>8</th>\n",
       "      <td>4.4</td>\n",
       "      <td>2.9</td>\n",
       "      <td>1.4</td>\n",
       "      <td>0.2</td>\n",
       "      <td>Iris-setosa</td>\n",
       "      <td>1</td>\n",
       "    </tr>\n",
       "    <tr>\n",
       "      <th>38</th>\n",
       "      <td>4.4</td>\n",
       "      <td>3.0</td>\n",
       "      <td>1.3</td>\n",
       "      <td>0.2</td>\n",
       "      <td>Iris-setosa</td>\n",
       "      <td>1</td>\n",
       "    </tr>\n",
       "    <tr>\n",
       "      <th>42</th>\n",
       "      <td>4.4</td>\n",
       "      <td>3.2</td>\n",
       "      <td>1.3</td>\n",
       "      <td>0.2</td>\n",
       "      <td>Iris-setosa</td>\n",
       "      <td>1</td>\n",
       "    </tr>\n",
       "    <tr>\n",
       "      <th>41</th>\n",
       "      <td>4.5</td>\n",
       "      <td>2.3</td>\n",
       "      <td>1.3</td>\n",
       "      <td>0.3</td>\n",
       "      <td>Iris-setosa</td>\n",
       "      <td>1</td>\n",
       "    </tr>\n",
       "    <tr>\n",
       "      <th>...</th>\n",
       "      <td>...</td>\n",
       "      <td>...</td>\n",
       "      <td>...</td>\n",
       "      <td>...</td>\n",
       "      <td>...</td>\n",
       "      <td>...</td>\n",
       "    </tr>\n",
       "    <tr>\n",
       "      <th>122</th>\n",
       "      <td>7.7</td>\n",
       "      <td>2.8</td>\n",
       "      <td>6.7</td>\n",
       "      <td>2.0</td>\n",
       "      <td>Iris-virginica</td>\n",
       "      <td>1</td>\n",
       "    </tr>\n",
       "    <tr>\n",
       "      <th>117</th>\n",
       "      <td>7.7</td>\n",
       "      <td>3.8</td>\n",
       "      <td>6.7</td>\n",
       "      <td>2.2</td>\n",
       "      <td>Iris-virginica</td>\n",
       "      <td>1</td>\n",
       "    </tr>\n",
       "    <tr>\n",
       "      <th>118</th>\n",
       "      <td>7.7</td>\n",
       "      <td>2.6</td>\n",
       "      <td>6.9</td>\n",
       "      <td>2.3</td>\n",
       "      <td>Iris-virginica</td>\n",
       "      <td>1</td>\n",
       "    </tr>\n",
       "    <tr>\n",
       "      <th>135</th>\n",
       "      <td>7.7</td>\n",
       "      <td>3.0</td>\n",
       "      <td>6.1</td>\n",
       "      <td>2.3</td>\n",
       "      <td>Iris-virginica</td>\n",
       "      <td>1</td>\n",
       "    </tr>\n",
       "    <tr>\n",
       "      <th>131</th>\n",
       "      <td>7.9</td>\n",
       "      <td>3.8</td>\n",
       "      <td>6.4</td>\n",
       "      <td>2.0</td>\n",
       "      <td>Iris-virginica</td>\n",
       "      <td>1</td>\n",
       "    </tr>\n",
       "  </tbody>\n",
       "</table>\n",
       "<p>150 rows × 6 columns</p>\n",
       "</div>"
      ],
      "text/plain": [
       "     slength  swidth  plength  pwidth         species  (0, 0)\n",
       "13       4.3     3.0      1.1     0.1     Iris-setosa       1\n",
       "8        4.4     2.9      1.4     0.2     Iris-setosa       1\n",
       "38       4.4     3.0      1.3     0.2     Iris-setosa       1\n",
       "42       4.4     3.2      1.3     0.2     Iris-setosa       1\n",
       "41       4.5     2.3      1.3     0.3     Iris-setosa       1\n",
       "..       ...     ...      ...     ...             ...     ...\n",
       "122      7.7     2.8      6.7     2.0  Iris-virginica       1\n",
       "117      7.7     3.8      6.7     2.2  Iris-virginica       1\n",
       "118      7.7     2.6      6.9     2.3  Iris-virginica       1\n",
       "135      7.7     3.0      6.1     2.3  Iris-virginica       1\n",
       "131      7.9     3.8      6.4     2.0  Iris-virginica       1\n",
       "\n",
       "[150 rows x 6 columns]"
      ]
     },
     "execution_count": 92,
     "metadata": {},
     "output_type": "execute_result"
    }
   ],
   "source": [
    "#use %time to see how long something takes on a subset of data to estimate total duration...\n",
    "%time df.sort_values(['slength','pwidth'])"
   ]
  },
  {
   "cell_type": "code",
   "execution_count": 96,
   "metadata": {
    "id": "IbQ1Wuqc06qQ"
   },
   "outputs": [
    {
     "name": "stdout",
     "output_type": "stream",
     "text": [
      " Datenträger in Laufwerk C: ist Windows-SSD\n",
      " Volumeseriennummer: 2AD3-65C0\n",
      "\n",
      " Verzeichnis von C:\\Users\\tim94\\OneDrive\\Dokumente\\Universität Bern\\Data Acquisition and Management\n",
      "\n"
     ]
    },
    {
     "name": "stderr",
     "output_type": "stream",
     "text": [
      "Datei nicht gefunden\n"
     ]
    }
   ],
   "source": [
    "# list the file in your current directory with the linux command ls\n",
    "%ls -l\n"
   ]
  },
  {
   "cell_type": "markdown",
   "metadata": {
    "id": "vdiSXL6rXYI3"
   },
   "source": [
    "Here is a cheat sheet for common linux commands: https://files.fosswire.com/2007/08/fwunixref.pdf"
   ]
  },
  {
   "cell_type": "markdown",
   "metadata": {
    "id": "d6I2Xd1d06qQ"
   },
   "source": [
    "### 5. Filtering on a DataFrame\n",
    "..."
   ]
  },
  {
   "cell_type": "code",
   "execution_count": null,
   "metadata": {
    "id": "XYCwukeI06qR"
   },
   "outputs": [],
   "source": [
    "# Create a dataframe with a one column telling if slength is larger than 5.0\n",
    "# Returns a vector with booleans"
   ]
  },
  {
   "cell_type": "code",
   "execution_count": null,
   "metadata": {
    "id": "qjnWw_T406qR"
   },
   "outputs": [],
   "source": [
    "# We can apply the filtering result to a new dataframe\n"
   ]
  },
  {
   "cell_type": "code",
   "execution_count": null,
   "metadata": {
    "id": "6Widtyr806qR"
   },
   "outputs": [],
   "source": [
    "# And print it\n"
   ]
  },
  {
   "cell_type": "markdown",
   "metadata": {
    "id": "Rg_y8Ift06qR"
   },
   "source": [
    "### 6. Missing or bad data\n",
    "\n",
    "Datasets, before they are \"cleaned\", may contain missing or wrongly formated values. There are DataFrame methods to deal with this:\n",
    "\n",
    "- DataFrame.dropna([axis, how, thresh, …])\tRemove missing values.\n",
    "- DataFrame.fillna([value, method, axis, …])\tFill NA/NaN values using the specified method\n",
    "- DataFrame.replace([to_replace, value, …])\tReplace values given in to_replace with value.\n",
    "- DataFrame.interpolate([method, axis, limit, …])\tInterpolate values according to different methods.\n",
    "\n",
    "Retrieving and cleaning data is often the most time consuming part in a data science project."
   ]
  },
  {
   "cell_type": "markdown",
   "metadata": {
    "id": "HN7OXDjJ06qR"
   },
   "source": [
    "### 7. Exporting dataframes (I/O)\n",
    "\n",
    "DataFrame has several export methods. (html, hdf5, ascii, excel etc). Let's write our file to a text file in a csv format."
   ]
  },
  {
   "cell_type": "code",
   "execution_count": 97,
   "metadata": {
    "id": "yhxN8bF_06qR"
   },
   "outputs": [],
   "source": [
    "url = 'C:/Users/tim94/OneDrive/Dokumente/Universität Bern/Data Acquisition and Management/Iris_clean.csv'\n",
    "df.to_csv(url)"
   ]
  },
  {
   "cell_type": "code",
   "execution_count": 101,
   "metadata": {
    "id": "b-27C7Vz06qR"
   },
   "outputs": [
    {
     "name": "stdout",
     "output_type": "stream",
     "text": [
      " Datenträger in Laufwerk C: ist Windows-SSD\n",
      " Volumeseriennummer: 2AD3-65C0\n",
      "\n",
      " Verzeichnis von C:\\Users\\tim94\\OneDrive\\Dokumente\\Universität Bern\\Data Acquisition and Management\n",
      "\n",
      "23.08.2023  12:14    <DIR>          .\n",
      "23.08.2023  12:14    <DIR>          ..\n",
      "23.08.2023  09:36    <DIR>          .ipynb_checkpoints\n",
      "23.08.2023  09:41         4'912'703 CAS-ADS-M1-D1-2021.pptx\n",
      "23.08.2023  09:40           480'074 CAS-ADS-M1-D1-2022-Intro.pptx\n",
      "23.08.2023  11:16         4'666'503 COVID19Death_geoRegion.csv\n",
      "23.08.2023  12:12             5'539 Iris_clean.csv\n",
      "23.08.2023  12:14            64'162 M1_D1_DM.ipynb\n",
      "23.08.2023  09:03           236'403 M1-D1-DM-Sol.ipynb\n",
      "               6 Datei(en),     10'365'384 Bytes\n",
      "               3 Verzeichnis(se), 111'127'126'016 Bytes frei\n"
     ]
    }
   ],
   "source": [
    "%ls "
   ]
  },
  {
   "cell_type": "markdown",
   "metadata": {
    "id": "Z-Y9fLm6YYlH"
   },
   "source": [
    "What happens with our files when we close our colab session?"
   ]
  },
  {
   "cell_type": "markdown",
   "metadata": {
    "id": "Q1No9Vhr06qS"
   },
   "source": [
    "### 8. Metadata\n",
    "\n",
    "\n",
    "Metadata is data about the data, e.g. when was it collected, under which conditions, calibration etc.\n",
    "Metadata is normally not part of the statistical data analysis, however, needed for understanding and reproducibilty.\n",
    "\n",
    "DataFrame is not really made for storing metadata (should be done separately), but one can add new attributes to a dataframe:\n"
   ]
  },
  {
   "cell_type": "code",
   "execution_count": 111,
   "metadata": {
    "id": "HQ7Q2lT306qS"
   },
   "outputs": [
    {
     "data": {
      "text/plain": [
       "\"The Iris dataset was used in R.A. Fisher's classic 1936 paper, The Use of Multiple Measurements in Taxonomic Problems, and can also be found on the UCI Machine Learning Repository. It includes three iris species with 50 samples each as well as some properties about each flower. One flower species is linearly separable from the other two, but the other two are not linearly separable from each other. The columns in this dataset are:\\nId\\nSepalLengthCm\\nSepalWidthCm\\nPetalLengthCm\\nPetalWidthCm\\nSpecies\""
      ]
     },
     "execution_count": 111,
     "metadata": {},
     "output_type": "execute_result"
    }
   ],
   "source": [
    "df.metadata = \"\"\"The Iris dataset was used in R.A. Fisher's classic 1936 paper, The Use of Multiple Measurements in Taxonomic Problems, and can also be found on the UCI Machine Learning Repository. It includes three iris species with 50 samples each as well as some properties about each flower. One flower species is linearly separable from the other two, but the other two are not linearly separable from each other. The columns in this dataset are:\n",
    "Id\n",
    "SepalLengthCm\n",
    "SepalWidthCm\n",
    "PetalLengthCm\n",
    "PetalWidthCm\n",
    "Species\"\"\"\n",
    "\n",
    "df.metadata"
   ]
  },
  {
   "cell_type": "code",
   "execution_count": null,
   "metadata": {
    "id": "u0FTwHXVcz9s"
   },
   "outputs": [],
   "source": []
  },
  {
   "cell_type": "markdown",
   "metadata": {
    "id": "Ml-Nha8Dc5hv"
   },
   "source": [
    "Data repositories often use so-called Data Cards for metadata. See for example: https://www.kaggle.com/datasets/uciml/iris"
   ]
  },
  {
   "cell_type": "markdown",
   "metadata": {
    "id": "gm5NcJsD06qS"
   },
   "source": [
    "### 9. Working on the filesystem with the os module\n",
    "\n",
    "When managing large datasets, one often has to organise files in the file system. This includes finding them, moving and copying them, creating new folders/directories, renaming them etc. This can easily be done from Python with the os (operating system) module.\n",
    "\n",
    "Try to understand the following code and alter it to do something else."
   ]
  },
  {
   "cell_type": "code",
   "execution_count": null,
   "metadata": {
    "id": "8Td_AnJg06qS"
   },
   "outputs": [],
   "source": [
    "import os\n",
    "\n",
    "new_dir = os.getcwd() +'/newnbdir' # Get the current directory into a string, add /newnbdir to the string\n",
    "os.makedirs(new_dir) # Create the folder\n",
    "files = os.listdir() # List the files in the current folder\n",
    "nb_files = [] # Create an empty list\n",
    "for file in files:\n",
    "    if 'ipynb' in file and file[0]!='.':\n",
    "        nb_files.append(file)\n",
    "for file in nb_files:\n",
    "    os.system('cp '+file+' '+new_dir+'/')"
   ]
  },
  {
   "cell_type": "code",
   "execution_count": null,
   "metadata": {
    "id": "D0mwR_jFZsbk"
   },
   "outputs": [],
   "source": [
    "!ls -l newnbdir"
   ]
  },
  {
   "cell_type": "markdown",
   "metadata": {
    "id": "aCEPcsaf06qS"
   },
   "source": [
    "### Exercise 3 (this we may skip if not enough time)\n",
    "\n",
    "Read in the iris dataset from iris.csv into a dataframe. Set the values in column 1 in row 39, 49 and 100 to NaN (use the nan method from the numpy package). Then replacethe NaN values to the average value of the respective column. Depending on how you do it, this may be about 10 lines of Python code."
   ]
  },
  {
   "cell_type": "code",
   "execution_count": 217,
   "metadata": {
    "id": "X9VczUOG06qS"
   },
   "outputs": [
    {
     "name": "stdout",
     "output_type": "stream",
     "text": [
      "row 39: nan\n",
      "row 49: nan\n",
      "row 100: nan\n",
      "mean of slength: 5.843333333333334\n",
      "row 39: 5.843333333333334\n",
      "row 49: 5.843333333333334\n",
      "row 100: 5.843333333333334\n"
     ]
    }
   ],
   "source": [
    "# Solve your exercise here\n",
    "import numpy as np\n",
    "import pandas as pd\n",
    "\n",
    "# url = 'https://raw.githubusercontent.com/sigvehaug/CAS-Applied-Data-Science/master/Module-1/iris.csv'\n",
    "#df_iris = np.loadtxt(url, skiprows=1, delimiter=',')\n",
    "# df_iris = pd.read_csv(url, names=['slength','swidth','plength','pwidth','species'])\n",
    "df_iris\n",
    "\n",
    "rows_to_set_nan = [39, 49, 100]\n",
    "column_to_set_nan = 1\n",
    "df_iris.iloc[rows_to_set_nan, column_to_set_nan] = np.nan\n",
    "df_iris.iloc[100,1]\n",
    "\n",
    "print('row 39:', df_iris.iloc[39,1])\n",
    "print('row 49:', df_iris.iloc[49,1])\n",
    "print('row 100:', df_iris.iloc[100,1])\n",
    "\n",
    "print('mean of slength:', df_iris['slength'].mean())\n",
    "\n",
    "average_values = df_iris['slength'].mean()\n",
    "df_iris = df_iris.fillna(average_values)\n",
    "\n",
    "print('row 39:', df_iris.iloc[39,1])\n",
    "print('row 49:', df_iris.iloc[49,1])\n",
    "print('row 100:', df_iris.iloc[100,1])\n",
    "\n",
    "# DataFrame.dropna([axis, how, thresh, …]) Remove missing values.\n",
    "# DataFrame.fillna([value, method, axis, …]) Fill NA/NaN values using the specified method\n",
    "# DataFrame.replace([to_replace, value, …]) Replace values given in to_replace with value.\n",
    "# DataFrame.interpolate([method, axis, limit, …]) Interpolate values according to different methods."
   ]
  },
  {
   "cell_type": "markdown",
   "metadata": {
    "id": "8MZXt0ei06qT"
   },
   "source": [
    "### Exercise 4\n",
    "\n",
    "Print a sorted list of the weeks and the male deadths with COVID-19 in Switzerland. The weeks with the highest numbers should appear first. This should be doable with about 10 lines of Python. You may need 30 minutes to solve this one.\n"
   ]
  },
  {
   "cell_type": "code",
   "execution_count": 258,
   "metadata": {
    "id": "7UPCsexM06qT"
   },
   "outputs": [
    {
     "name": "stdout",
     "output_type": "stream",
     "text": [
      "      datum   sex  entries\n",
      "561  202047  male      346\n",
      "564  202048  male      345\n",
      "117  202048  male      344\n",
      "114  202047  male      343\n",
      "108  202045  male      319\n",
      "555  202045  male      319\n",
      "573  202051  male      318\n",
      "111  202046  male      317\n",
      "558  202046  male      317\n",
      "570  202050  male      316\n",
      "123  202050  male      314\n",
      "126  202051  male      312\n",
      "567  202049  male      311\n",
      "120  202049  male      310\n",
      "576  202052  male      306\n",
      "129  202052  male      301\n",
      "579  202053  male      284\n",
      "132  202053  male      282\n",
      "582  202101  male      242\n",
      "135  202101  male      239\n"
     ]
    }
   ],
   "source": [
    "import pandas as pd\n",
    "# url = 'https://www.covid19.admin.ch/api/data/20230815-7ixiby4u/sources/COVID19Death_geoRegion_sex_w.csv'\n",
    "# df_covid = pd.read_csv(url)\n",
    "df_covid_male = df_covid[df_covid['sex']=='male']\n",
    "df_covid_male_sorted = df_covid_male.sort_values(by=['entries'], ascending=False)\n",
    "print(df_covid_male_sorted[['datum','sex','entries']].head(20))\n"
   ]
  },
  {
   "cell_type": "code",
   "execution_count": null,
   "metadata": {
    "id": "0G9RWCiH3DLC"
   },
   "outputs": [],
   "source": []
  },
  {
   "cell_type": "markdown",
   "metadata": {
    "id": "1yOZYAHG06qT"
   },
   "source": [
    "# End of today - please fill this form\n",
    "\n",
    "https://forms.gle/bzDpGLUieVnheZUi6.\n",
    "Have a nice evening and see you tomorrow."
   ]
  },
  {
   "cell_type": "code",
   "execution_count": null,
   "metadata": {
    "id": "wvGsChGa06qT"
   },
   "outputs": [],
   "source": []
  },
  {
   "cell_type": "code",
   "execution_count": null,
   "metadata": {
    "id": "vPndicDx06qT"
   },
   "outputs": [],
   "source": []
  }
 ],
 "metadata": {
  "colab": {
   "include_colab_link": true,
   "provenance": []
  },
  "kernelspec": {
   "display_name": "Python 3 (ipykernel)",
   "language": "python",
   "name": "python3"
  },
  "language_info": {
   "codemirror_mode": {
    "name": "ipython",
    "version": 3
   },
   "file_extension": ".py",
   "mimetype": "text/x-python",
   "name": "python",
   "nbconvert_exporter": "python",
   "pygments_lexer": "ipython3",
   "version": "3.11.4"
  }
 },
 "nbformat": 4,
 "nbformat_minor": 1
}
