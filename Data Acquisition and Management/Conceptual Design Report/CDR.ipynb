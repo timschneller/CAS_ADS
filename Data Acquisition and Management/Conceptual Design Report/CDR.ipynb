{
 "cells": [
  {
   "cell_type": "code",
   "execution_count": 2,
   "id": "befe0d49",
   "metadata": {},
   "outputs": [],
   "source": [
    "import pandas as pd\n",
    "import matplotlib.pyplot as plt\n",
    "import numpy as np"
   ]
  },
  {
   "cell_type": "code",
   "execution_count": 8,
   "id": "a2397942",
   "metadata": {
    "scrolled": true
   },
   "outputs": [
    {
     "data": {
      "text/html": [
       "<div>\n",
       "<style scoped>\n",
       "    .dataframe tbody tr th:only-of-type {\n",
       "        vertical-align: middle;\n",
       "    }\n",
       "\n",
       "    .dataframe tbody tr th {\n",
       "        vertical-align: top;\n",
       "    }\n",
       "\n",
       "    .dataframe thead th {\n",
       "        text-align: right;\n",
       "    }\n",
       "</style>\n",
       "<table border=\"1\" class=\"dataframe\">\n",
       "  <thead>\n",
       "    <tr style=\"text-align: right;\">\n",
       "      <th></th>\n",
       "      <th>gender</th>\n",
       "      <th>anshside</th>\n",
       "      <th>language</th>\n",
       "      <th>asa</th>\n",
       "      <th>sgadmsntyp</th>\n",
       "      <th>sginsurance</th>\n",
       "      <th>andiagn_new</th>\n",
       "      <th>anvoropyn</th>\n",
       "      <th>sgaplbrand</th>\n",
       "      <th>dominantside</th>\n",
       "      <th>ansmoking</th>\n",
       "      <th>analcohol</th>\n",
       "      <th>Age</th>\n",
       "      <th>bmi</th>\n",
       "      <th>revisionsurgery</th>\n",
       "      <th>reverse</th>\n",
       "      <th>expectmet24</th>\n",
       "    </tr>\n",
       "  </thead>\n",
       "  <tbody>\n",
       "    <tr>\n",
       "      <th>1073</th>\n",
       "      <td>0.0</td>\n",
       "      <td>1.0</td>\n",
       "      <td>1.0</td>\n",
       "      <td>2.0</td>\n",
       "      <td>1.0</td>\n",
       "      <td>1.0</td>\n",
       "      <td>7.0</td>\n",
       "      <td>0.0</td>\n",
       "      <td>7.0</td>\n",
       "      <td>1.0</td>\n",
       "      <td>0.0</td>\n",
       "      <td>0.0</td>\n",
       "      <td>53.8</td>\n",
       "      <td>35.9</td>\n",
       "      <td>0.0</td>\n",
       "      <td>0.0</td>\n",
       "      <td>5.0</td>\n",
       "    </tr>\n",
       "    <tr>\n",
       "      <th>1093</th>\n",
       "      <td>0.0</td>\n",
       "      <td>1.0</td>\n",
       "      <td>1.0</td>\n",
       "      <td>3.0</td>\n",
       "      <td>1.0</td>\n",
       "      <td>1.0</td>\n",
       "      <td>1.0</td>\n",
       "      <td>0.0</td>\n",
       "      <td>2.0</td>\n",
       "      <td>1.0</td>\n",
       "      <td>0.0</td>\n",
       "      <td>1.0</td>\n",
       "      <td>70.0</td>\n",
       "      <td>40.5</td>\n",
       "      <td>0.0</td>\n",
       "      <td>1.0</td>\n",
       "      <td>10.0</td>\n",
       "    </tr>\n",
       "    <tr>\n",
       "      <th>1098</th>\n",
       "      <td>0.0</td>\n",
       "      <td>2.0</td>\n",
       "      <td>1.0</td>\n",
       "      <td>3.0</td>\n",
       "      <td>1.0</td>\n",
       "      <td>1.0</td>\n",
       "      <td>1.0</td>\n",
       "      <td>0.0</td>\n",
       "      <td>2.0</td>\n",
       "      <td>3.0</td>\n",
       "      <td>0.0</td>\n",
       "      <td>1.0</td>\n",
       "      <td>75.7</td>\n",
       "      <td>30.8</td>\n",
       "      <td>0.0</td>\n",
       "      <td>1.0</td>\n",
       "      <td>10.0</td>\n",
       "    </tr>\n",
       "    <tr>\n",
       "      <th>1099</th>\n",
       "      <td>1.0</td>\n",
       "      <td>2.0</td>\n",
       "      <td>1.0</td>\n",
       "      <td>3.0</td>\n",
       "      <td>1.0</td>\n",
       "      <td>1.0</td>\n",
       "      <td>7.0</td>\n",
       "      <td>1.0</td>\n",
       "      <td>7.0</td>\n",
       "      <td>1.0</td>\n",
       "      <td>0.0</td>\n",
       "      <td>1.0</td>\n",
       "      <td>62.6</td>\n",
       "      <td>39.4</td>\n",
       "      <td>0.0</td>\n",
       "      <td>0.0</td>\n",
       "      <td>10.0</td>\n",
       "    </tr>\n",
       "    <tr>\n",
       "      <th>1102</th>\n",
       "      <td>0.0</td>\n",
       "      <td>1.0</td>\n",
       "      <td>3.0</td>\n",
       "      <td>3.0</td>\n",
       "      <td>1.0</td>\n",
       "      <td>1.0</td>\n",
       "      <td>1.0</td>\n",
       "      <td>0.0</td>\n",
       "      <td>6.0</td>\n",
       "      <td>1.0</td>\n",
       "      <td>0.0</td>\n",
       "      <td>0.0</td>\n",
       "      <td>78.8</td>\n",
       "      <td>42.4</td>\n",
       "      <td>0.0</td>\n",
       "      <td>0.0</td>\n",
       "      <td>8.0</td>\n",
       "    </tr>\n",
       "  </tbody>\n",
       "</table>\n",
       "</div>"
      ],
      "text/plain": [
       "      gender  anshside  language  asa  sgadmsntyp  sginsurance  andiagn_new  \\\n",
       "1073     0.0       1.0       1.0  2.0         1.0          1.0          7.0   \n",
       "1093     0.0       1.0       1.0  3.0         1.0          1.0          1.0   \n",
       "1098     0.0       2.0       1.0  3.0         1.0          1.0          1.0   \n",
       "1099     1.0       2.0       1.0  3.0         1.0          1.0          7.0   \n",
       "1102     0.0       1.0       3.0  3.0         1.0          1.0          1.0   \n",
       "\n",
       "      anvoropyn  sgaplbrand  dominantside  ansmoking  analcohol   Age   bmi  \\\n",
       "1073        0.0         7.0           1.0        0.0        0.0  53.8  35.9   \n",
       "1093        0.0         2.0           1.0        0.0        1.0  70.0  40.5   \n",
       "1098        0.0         2.0           3.0        0.0        1.0  75.7  30.8   \n",
       "1099        1.0         7.0           1.0        0.0        1.0  62.6  39.4   \n",
       "1102        0.0         6.0           1.0        0.0        0.0  78.8  42.4   \n",
       "\n",
       "      revisionsurgery  reverse  expectmet24  \n",
       "1073              0.0      0.0          5.0  \n",
       "1093              0.0      1.0         10.0  \n",
       "1098              0.0      1.0         10.0  \n",
       "1099              0.0      0.0         10.0  \n",
       "1102              0.0      0.0          8.0  "
      ]
     },
     "execution_count": 8,
     "metadata": {},
     "output_type": "execute_result"
    }
   ],
   "source": [
    "df = pd.read_csv(\"C:/Users/tim94/OneDrive/Dokumente/Universität Bern/Data Acquisition and Management/Conceptual Design Report/SAR-221023.csv\")\n",
    "\n",
    "df.head()\n",
    "\n",
    "dfclean = df.dropna()\n",
    "\n",
    "dfclean.head()\n",
    "\n",
    "# dfclean.shape"
   ]
  },
  {
   "cell_type": "code",
   "execution_count": 31,
   "id": "5273f628",
   "metadata": {},
   "outputs": [
    {
     "data": {
      "image/png": "[encoded data removed]",
      "text/plain": [
       "<Figure size 640x480 with 1 Axes>"
      ]
     },
     "metadata": {},
     "output_type": "display_data"
    }
   ],
   "source": [
    "plt.hist(df['Age'], density=False, alpha=0.5, color='b', edgecolor='black')\n",
    "# plt.hist(density=)\n",
    "# Add titles and labels\n",
    "plt.title('Age at Surgery')\n",
    "plt.xlabel('Age')\n",
    "plt.ylabel('Count')\n",
    "\n",
    "# Display the plot\n",
    "plt.show()"
   ]
  },
  {
   "cell_type": "code",
   "execution_count": 15,
   "id": "fa5d730b",
   "metadata": {},
   "outputs": [
    {
     "data": {
      "image/png": "[encoded data removed]",
      "text/plain": [
       "<Figure size 640x480 with 1 Axes>"
      ]
     },
     "metadata": {},
     "output_type": "display_data"
    }
   ],
   "source": [
    "df_cleaned = df[df['bmi']<=50]\n",
    "\n",
    "\n",
    "plt.hist(df['expectmet24'], bins=11, density=False, alpha=0.5, color='b', edgecolor='black')\n",
    "# plt.hist(density=)\n",
    "# Add titles and labels\n",
    "plt.title('Satisfaction 24 months postop')\n",
    "plt.xlabel('Satisfaction')\n",
    "plt.ylabel('Count')\n",
    "plt.xticks(range(11))\n",
    "# Display the plot\n",
    "plt.show()"
   ]
  },
  {
   "cell_type": "code",
   "execution_count": null,
   "id": "2de8697d",
   "metadata": {},
   "outputs": [],
   "source": []
  },
  {
   "cell_type": "code",
   "execution_count": null,
   "id": "e469baad",
   "metadata": {},
   "outputs": [],
   "source": [
    "plt.hist(df_cleaned['bmi'], bins=20, density=False, alpha=0.5, color='b', edgecolor='black')\n",
    "# plt.hist(density=)\n",
    "# Add titles and labels\n",
    "plt.title('BMI at Surgery')\n",
    "plt.xlabel('BMI')\n",
    "plt.ylabel('Count')\n",
    "# Display the plot\n",
    "plt.show()"
   ]
  }
 ],
 "metadata": {
  "kernelspec": {
   "display_name": "Python 3 (ipykernel)",
   "language": "python",
   "name": "python3"
  },
  "language_info": {
   "codemirror_mode": {
    "name": "ipython",
    "version": 3
   },
   "file_extension": ".py",
   "mimetype": "text/x-python",
   "name": "python",
   "nbconvert_exporter": "python",
   "pygments_lexer": "ipython3",
   "version": "3.11.4"
  }
 },
 "nbformat": 4,
 "nbformat_minor": 5
}
