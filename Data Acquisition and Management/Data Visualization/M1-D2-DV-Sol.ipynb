{
  "nbformat": 4,
  "nbformat_minor": 0,
  "metadata": {
    "kernelspec": {
      "display_name": "Python 3",
      "language": "python",
      "name": "python3"
    },
    "language_info": {
      "codemirror_mode": {
        "name": "ipython",
        "version": 3
      },
      "file_extension": ".py",
      "mimetype": "text/x-python",
      "name": "python",
      "nbconvert_exporter": "python",
      "pygments_lexer": "ipython3",
      "version": "3.7.8"
    },
    "colab": {
      "name": "M1-D2-DV-Sol.ipynb",
      "provenance": [],
      "include_colab_link": true
    }
  },
  "cells": [
    {
      "cell_type": "markdown",
      "metadata": {
        "id": "view-in-github",
        "colab_type": "text"
      },
      "source": [
        "<a href=\"https://colab.research.google.com/github/sigvehaug/CAS-Applied-Data-Science/blob/master/Module-1/M1-D2-DV-Sol.ipynb\" target=\"_parent\"><img src=\"https://colab.research.google.com/assets/colab-badge.svg\" alt=\"Open In Colab\"/></a>"
      ]
    },
    {
      "cell_type": "markdown",
      "metadata": {
        "id": "e1dH35rqCxCS"
      },
      "source": [
        "Notebook 2, Module 1, Data Aquisition and Data Management, CAS Applied Data Science, 2023-08-24, S. Haug, University of Bern."
      ]
    },
    {
      "cell_type": "markdown",
      "metadata": {
        "id": "VvFs2BLQCxCW"
      },
      "source": [
        "# 1. Visualisation of Data - Examples\n",
        "\n",
        "**Learning outcomes:**\n",
        "\n",
        "Participants will be able to make good data science plots, with praxis on\n",
        "- plot line charts from series and dataframes\n",
        "- plot histograms\n",
        "  - understand the effect of binning\n",
        "- plot scatter plots\n",
        "- plot box plots\n",
        "- plot error bars\n",
        "- formatting of plots\n",
        "- geoplotting\n",
        "\n",
        "**Introduction Slides**\n",
        "- https://docs.google.com/presentation/d/1HhRIIVq46DyVNm68WeTqr_vZvOgSMWBZa2XDwWNH8H4/edit?usp=sharing\n",
        "\n",
        "**Further sources**\n",
        "- Python: https://pandas.pydata.org/pandas-docs/stable/visualization.html\n",
        "- https://jakevdp.github.io/PythonDataScienceHandbook/04.00-introduction-to-matplotlib.html\n",
        "- Get inspired here : https://matplotlib.org/gallery/index.html\n",
        "\n",
        "Here you have examples on plotting possibilities with pandas. They make data science plotting very easy and fast. However, you may have special needs that are not supported. Then you can use the underlaying plotting module **matplotlib**.\n",
        "\n",
        "Plotting is an art and you can spend enourmous amounts of time doing plotting. There are many types of plots. You may invent your own type. We only show some examples and point out some important things. If you need to go further, you have to work indepentently.\n",
        "\n",
        "Some vocabulary and plots are only understandable with corresponding statistics background. This is part of module 2."
      ]
    },
    {
      "cell_type": "markdown",
      "metadata": {
        "id": "QVMP4mDgCxCY"
      },
      "source": [
        "### 0. Load the modules"
      ]
    },
    {
      "cell_type": "code",
      "metadata": {
        "id": "K1YoSszUCxCZ"
      },
      "source": [
        "import numpy as np\n",
        "import matplotlib.pyplot as plt\n",
        "import pandas as pd"
      ],
      "execution_count": null,
      "outputs": []
    },
    {
      "cell_type": "markdown",
      "metadata": {
        "id": "t5QbM20fCxCa"
      },
      "source": [
        "### 1. Plot line charts (time series)\n",
        "\n",
        "First we use the data structure Series (one dimensional)."
      ]
    },
    {
      "cell_type": "code",
      "metadata": {
        "id": "p0MguthjCxCa"
      },
      "source": [
        "# Generate 1000 random numbers for 1000 days from the normal distribution\n",
        "ts = pd.Series(np.random.randn(1000), index=pd.date_range('1/1/2000', periods=1000))\n",
        "ts = ts.cumsum()\n",
        "ts.head(15)\n",
        "ts.plot()\n",
        "#plt.show()"
      ],
      "execution_count": null,
      "outputs": []
    },
    {
      "cell_type": "markdown",
      "metadata": {
        "id": "XrgG0hPXCxCc"
      },
      "source": [
        "We can generate 4 time series, keep them in a dataframe and plot them all four."
      ]
    },
    {
      "cell_type": "code",
      "metadata": {
        "id": "siA0K0xeCxCe"
      },
      "source": [
        "df = pd.DataFrame(np.random.randn(1000, 4), index=ts.index, columns=['CAS','Bin','C','D'])\n",
        "df_cumsum = df.cumsum()\n",
        "plt.figure()\n",
        "df_cumsum.plot()\n",
        "plt.show()"
      ],
      "execution_count": null,
      "outputs": []
    },
    {
      "cell_type": "markdown",
      "metadata": {
        "id": "NaWovhAjCxCf"
      },
      "source": [
        "### 2. Plot histograms (frequency plots)\n",
        "\n",
        "For this we use our Iris dataset."
      ]
    },
    {
      "cell_type": "code",
      "metadata": {
        "id": "iNsc7RddCxCg"
      },
      "source": [
        "filepath = 'https://raw.githubusercontent.com/sigvehaug/CAS-Applied-Data-Science/master/Module-1/iris.csv'\n",
        "df = pd.read_csv(filepath,names=['slength','swidth','plength','pwidth','species']) # data type is a string (str), i.e. not converted into numbers\n",
        "df.head() # print first 5 lines of data"
      ],
      "execution_count": null,
      "outputs": []
    },
    {
      "cell_type": "markdown",
      "metadata": {
        "id": "brbTEb18CxCg"
      },
      "source": [
        "Plot two histograms with a legend in the same graph."
      ]
    },
    {
      "cell_type": "code",
      "metadata": {
        "id": "nH59hvMUCxCg"
      },
      "source": [
        "df['slength'].plot(kind=\"hist\",fill=True,histtype='step',label='slength')\n",
        "df['swidth'].plot(kind=\"hist\",fill=False,histtype='step',label='swidth')\n",
        "plt.legend()\n",
        "plt.show()"
      ],
      "execution_count": null,
      "outputs": []
    },
    {
      "cell_type": "markdown",
      "metadata": {
        "id": "S-re-fYsCxCh"
      },
      "source": [
        "### The effect of binning\n",
        "\n",
        "When data is binned (or sampled) the bin size effects the amount of counts in each bin. Counts fluctuate like a normal distribution for counts above about 20. So depending on your bin size, the same data may look differently.\n",
        "\n",
        "Hard binning (small bin size) may introduce pure statistical structures without any other meaning. This is then overfitting. Too big bin sizes may wipe out structures in the data (underfitting). If known, a bin size guided by the physical resolution of the sensor is close to optimal.\n",
        "\n",
        "Plot the same histograms with a different binning."
      ]
    },
    {
      "cell_type": "code",
      "metadata": {
        "id": "6AJWEKE9CxCi"
      },
      "source": [
        "df['slength'].plot(bins=20,range=(2,8), kind=\"hist\",fill=False,histtype='step')\n",
        "plt.show()"
      ],
      "execution_count": null,
      "outputs": []
    },
    {
      "cell_type": "code",
      "metadata": {
        "id": "wciVHgX8CxCi"
      },
      "source": [],
      "execution_count": null,
      "outputs": []
    },
    {
      "cell_type": "markdown",
      "metadata": {
        "id": "1xGwosqbCxCi"
      },
      "source": [
        "### Always label the axes (also with units)"
      ]
    },
    {
      "cell_type": "code",
      "metadata": {
        "id": "ijcxqFlNCxCi"
      },
      "source": [
        "ax = df['slength'].plot(kind=\"hist\",fill=False,histtype='step',label='slength')\n",
        "df['swidth'].plot(kind=\"hist\",fill=False,histtype='step',label='swidth')\n",
        "ax.set_xlabel('x / cm')\n",
        "ax.set_ylabel('Count / 0.3 cm')\n",
        "ax.set_title('Sepal Length and Width')\n",
        "plt.legend()\n",
        "plt.show()"
      ],
      "execution_count": null,
      "outputs": []
    },
    {
      "cell_type": "code",
      "metadata": {
        "id": "s9PcMNG1CxCj"
      },
      "source": [
        "s_df = df[df['species']=='Iris-setosa']"
      ],
      "execution_count": null,
      "outputs": []
    },
    {
      "cell_type": "markdown",
      "metadata": {
        "id": "BWtEvxkUCxCj"
      },
      "source": [
        "### 3. Scatter plots\n",
        "\n",
        "Scatter plots show how the data is distributed in two dimensions. They are good for finding (anti) correlations between two variables. We plot several plots in one figure."
      ]
    },
    {
      "cell_type": "code",
      "metadata": {
        "id": "iyuRSeAHCxCj"
      },
      "source": [
        "s_df.plot(x='slength',y='swidth',kind=\"scatter\",c='c')\n",
        "plt.show()"
      ],
      "execution_count": null,
      "outputs": []
    },
    {
      "cell_type": "markdown",
      "metadata": {
        "id": "apGVvHAKCxCj"
      },
      "source": [
        "With the plotting module there are some nice tools. For example authomatic plotting of all scatter plots."
      ]
    },
    {
      "cell_type": "code",
      "metadata": {
        "id": "45GYM9cfCxCk"
      },
      "source": [
        "from pandas.plotting import scatter_matrix\n",
        "scatter_matrix(df[df['species']=='Iris-setosa'], alpha=0.2, figsize=(8, 8), diagonal='hist')\n",
        "plt.show()"
      ],
      "execution_count": null,
      "outputs": []
    },
    {
      "cell_type": "markdown",
      "metadata": {
        "id": "7RqrcA9GCxCk"
      },
      "source": [
        "There are several other tools too. See https://pandas.pydata.org/pandas-docs/stable/visualization.html"
      ]
    },
    {
      "cell_type": "markdown",
      "metadata": {
        "id": "PjMuygbwCxCl"
      },
      "source": [
        "### 4. Box plots"
      ]
    },
    {
      "cell_type": "markdown",
      "metadata": {
        "id": "ZXS2jhOmCxCl"
      },
      "source": [
        "Boxplot can be drawn calling Series.plot.box() and DataFrame.plot.box(), or DataFrame.boxplot() to visualize the distribution of values within each column."
      ]
    },
    {
      "cell_type": "code",
      "metadata": {
        "id": "TqjQAmydCxCl"
      },
      "source": [
        "color = dict(boxes='DarkGreen', whiskers='DarkOrange',\n",
        "             medians='DarkBlue', caps='Gray')\n",
        "df.plot.box(color=color)\n",
        "#df.plot.box(boxes='DarkGreen', whiskers='DarkOrange',medians='DarkBlue', caps='Gray')\n",
        "plt.show()"
      ],
      "execution_count": null,
      "outputs": []
    },
    {
      "cell_type": "markdown",
      "metadata": {
        "id": "3xfzTRlsCxCl"
      },
      "source": [
        "Box plots are non-parametric. The box shows the first second and third quartiles. The whiskers may be standard deviations or other percentiles."
      ]
    },
    {
      "cell_type": "markdown",
      "metadata": {
        "id": "aVrsPXE4CxCl"
      },
      "source": [
        "### 5. Plotting with error bars"
      ]
    },
    {
      "cell_type": "markdown",
      "metadata": {
        "id": "j1d_m7buCxCm"
      },
      "source": [
        "There is no science without error bars, or better, uncertainties. The meaning of uncertainties is discussed in module 2. Here we only show by example  how to plot uncertainties."
      ]
    },
    {
      "cell_type": "markdown",
      "metadata": {
        "id": "2S1vhQHcCxCm"
      },
      "source": [
        "Plotting with error bars is supported in DataFrame.plot() and Series.plot().\n",
        "\n",
        "Horizontal and vertical error bars can be supplied to the xerr and yerr keyword arguments to plot(). The error values can be specified using a variety of formats:\n",
        "\n",
        "- As a DataFrame or dict of errors with column names matching the columns attribute of the plotting DataFrame or matching the name attribute of the Series.\n",
        "- As a str indicating which of the columns of plotting DataFrame contain the error values.\n",
        "- As raw values (list, tuple, or np.ndarray). Must be the same length as the plotting DataFrame/Series.\n",
        "\n",
        "Asymmetrical error bars are also supported, however raw error values must be provided in this case. For a M length Series, a Mx2 array should be provided indicating lower and upper (or left and right) errors. For a MxN DataFrame, asymmetrical errors should be in a Mx2xN array.\n",
        "\n",
        "Here is an example using an error dataframe (symmetric uncertainties)."
      ]
    },
    {
      "cell_type": "code",
      "metadata": {
        "id": "4nGenVxcCxCm"
      },
      "source": [
        "my_df   = pd.DataFrame([6,15,4,20,16,13]) # Some random data\n",
        "my_df_e = (my_df)**0.5 # The error dataframe\n",
        "my_df.plot(yerr=my_df_e)\n",
        "plt.show()"
      ],
      "execution_count": null,
      "outputs": []
    },
    {
      "cell_type": "markdown",
      "metadata": {
        "id": "J1jm7R8FCxCm"
      },
      "source": [
        "### 6. Formatting plots"
      ]
    },
    {
      "cell_type": "markdown",
      "metadata": {
        "id": "fT0rAG1ICxCn"
      },
      "source": [
        "Plots can easily be formatted with keywords. One can adjust colors, types of shading, lines, axes, legends, titles, etc. Some formatting has been exemplified above. More examples are in the documentation. https://pandas.pydata.org/pandas-docs/stable/visualization.html\n",
        "\n",
        "With the matplotlib module you are even more flexible. See https://matplotlib.org/gallery/index.html for inspirations."
      ]
    },
    {
      "cell_type": "markdown",
      "metadata": {
        "id": "19rFbg4TCxCn"
      },
      "source": [
        "### 7. Summary\n",
        "\n",
        "- Do you remember three important plot types?\n",
        "- What can the binning of a histogram do to the interpretation of it?\n",
        "- What are the three parts of the general communication process?\n",
        "- Can you mention three important points to include in plots and their figure legends?\n"
      ]
    },
    {
      "cell_type": "markdown",
      "metadata": {
        "id": "uWUIH_zSCxCn"
      },
      "source": [
        "### 8 Plotting Geodata\n",
        "\n",
        "Often is very nice to visualise data on geographical maps. Fortunately people have written packages helpin us with that. This is an example how the geopandas package can be used.\n",
        "\n",
        "You need to install geopandas (if you use Anaconda, the Anaconda Navigator in the environment you are using. Geopandas is part repository/channel conda-forge). This you may do at home or now or just follow Sigve showing you this example on colab.\n"
      ]
    },
    {
      "cell_type": "markdown",
      "source": [
        "\n",
        "First we need the so called shape files. They are provided by [swisstopo](https://www.swisstopo.admin.ch/en/geodata/landscape/boundaries3d.html/). For convenience I have a version on the CAS github repositoy.\n",
        "\n",
        "On Linux (colab is running linux) we get and unpack the files like this:\n",
        "\n"
      ],
      "metadata": {
        "id": "pGUGT3OTQCZe"
      }
    },
    {
      "cell_type": "code",
      "metadata": {
        "id": "C7_4VwEdIW-x"
      },
      "source": [
        "#! wget http://biogeo.ucdavis.edu/data/diva/adm/CHE_adm.zip\n",
        "! wget https://github.com/sigvehaug/CAS-Applied-Data-Science/raw/master/Module-1/CHE_adm.zip\n",
        "! mkdir -p data\n",
        "! unzip CHE_adm.zip -d data"
      ],
      "execution_count": null,
      "outputs": []
    },
    {
      "cell_type": "code",
      "metadata": {
        "id": "9WjhNP99CxCn"
      },
      "source": [
        "import pandas as pd\n",
        "import numpy as np\n",
        "import geopandas as gpd\n",
        "import matplotlib.pyplot as plt\n",
        "import datetime\n",
        "import os\n"
      ],
      "execution_count": null,
      "outputs": []
    },
    {
      "cell_type": "markdown",
      "source": [
        "Now we merge some numbers per canton (covid cases at some point in the past) with the shape files."
      ],
      "metadata": {
        "id": "B4ENE8h1Yjoq"
      }
    },
    {
      "cell_type": "code",
      "source": [],
      "metadata": {
        "id": "B7VdmyUlavXZ"
      },
      "execution_count": null,
      "outputs": []
    },
    {
      "cell_type": "code",
      "metadata": {
        "id": "Xk2iOG4JK_pz"
      },
      "source": [
        "shape_file = 'data/CHE_adm1.shp'\n",
        "data_file  = 'https://raw.githubusercontent.com/sigvehaug/CAS-Applied-Data-Science/master/Module-1/covid-per-canton.csv'\n",
        "map_df = gpd.read_file(shape_file)\n",
        "cantons_df = pd.read_csv(data_file)\n",
        "#cantons_df\n",
        "#map_df\n",
        "merged_df = map_df.merge(cantons_df, how=\"left\", left_on=\"NAME_1\", right_on=\"CANTON\")\n",
        "merged_df"
      ],
      "execution_count": null,
      "outputs": []
    },
    {
      "cell_type": "code",
      "metadata": {
        "id": "_85kYj7uCxCo"
      },
      "source": [
        "def plotmap(df, datacol, vmax, filename, title):\n",
        "    sm = plt.cm.ScalarMappable(cmap='Blues', norm=plt.Normalize(vmin=0, vmax=vmax))\n",
        "    fig, ax = plt.subplots(1, figsize=(30, 10))\n",
        "    ax.axis(\"off\")\n",
        "    ax.set_title(title, fontdict={'fontsize': '25', 'fontweight' : '3'})\n",
        "    ax.annotate(\"Sources: BAG, WP, ZHAW SPLab\", xy=(0.68, 0.11),\n",
        "    xycoords='figure fraction', fontsize=12, color='#555555')\n",
        "    sm.set_array([])\n",
        "    fig.colorbar(sm, ax=ax, extend=\"max\")\n",
        "    df['coords'] = df['geometry'].apply(lambda x: x.representative_point().coords[:])\n",
        "    df['coords'] = [coords[0] for coords in df['coords']]\n",
        "    for idx, row in df.iterrows():\n",
        "        #plt.annotate(s=row['NAME_0'], xy=row['coords'],horizontalalignment='center')\n",
        "        df.plot(column=datacol, cmap='Blues', linewidth=0.8, ax=ax, edgecolor='0.8', vmax=vmax)\n",
        "    fig.savefig(filename, dpi=150)\n",
        "\n",
        "print(merged_df[[\"ACR\", \"VIRUSCASESCONFIRMED\"]])\n",
        "plotmap(merged_df, \"VIRUSCASESCONFIRMED\", 500, \"map_absolute.png\", \"# of confirmed coronavirus cases per canton\")\n",
        "\n",
        "# If you want file names with day information, use code below\n",
        "#os.makedirs(\"dailymaps\", exist_ok=True)\n",
        "#stamp = datetime.datetime.now().strftime(\"%Y%m%d\")\n",
        "#hdate = datetime.datetime.now().strftime(\"%d.%m.%Y\")\n",
        "#plotmap(merged_df, \"VIRUSCASESCONFIRMED\", 500, f\"dailymaps/map_abs_{stamp}.png\", f\"# of confirmed coronavirus cases per canton [{hdate}]\")\n"
      ],
      "execution_count": null,
      "outputs": []
    },
    {
      "cell_type": "markdown",
      "metadata": {
        "id": "21Q6_1eUCxCo"
      },
      "source": [
        "# End of the prepared data visualisation examples.\n",
        "\n",
        "Feel free to play on your own. You should make some good plots of your dataset for the project report."
      ]
    }
  ]
}